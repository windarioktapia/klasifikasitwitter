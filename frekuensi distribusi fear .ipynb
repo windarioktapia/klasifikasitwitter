{
 "cells": [
  {
   "cell_type": "code",
   "execution_count": 1,
   "id": "731b7ea1",
   "metadata": {},
   "outputs": [],
   "source": [
    "import pandas as pd \n",
    "import numpy as np \n",
    "import nltk \n",
    "import re\n",
    "import string\n",
    "import matplotlib.pyplot as plt\n",
    "\n",
    "from sklearn.feature_extraction.text import CountVectorizer\n",
    "from sklearn.model_selection import train_test_split, cross_val_score, cross_validate\n",
    "from sklearn.naive_bayes import MultinomialNB\n",
    "from sklearn.metrics import confusion_matrix \n",
    "from sklearn.metrics import accuracy_score\n",
    "from sklearn.metrics import precision_score,recall_score,f1_score\n",
    "from sklearn.metrics import classification_report\n",
    "from sklearn import metrics\n",
    "from sklearn.model_selection import GridSearchCV\n",
    "\n",
    "from sklearn import tree\n",
    "\n",
    "from imblearn.over_sampling import SMOTE\n",
    "from collections import Counter\n",
    "\n",
    "from nltk import FreqDist, word_tokenize"
   ]
  },
  {
   "cell_type": "code",
   "execution_count": 2,
   "id": "91177414",
   "metadata": {},
   "outputs": [],
   "source": [
    "import seaborn as sns\n",
    "import matplotlib.pyplot as plt\n",
    "import collections, numpy"
   ]
  },
  {
   "cell_type": "code",
   "execution_count": 3,
   "id": "ff9cab19",
   "metadata": {},
   "outputs": [],
   "source": [
    "df= pd.read_csv('fear.csv') "
   ]
  },
  {
   "cell_type": "code",
   "execution_count": 4,
   "id": "1edcc6c8",
   "metadata": {},
   "outputs": [
    {
     "name": "stdout",
     "output_type": "stream",
     "text": [
      "Missing dataset value in all :  True\n"
     ]
    }
   ],
   "source": [
    "print(\"Missing dataset value in all : \",df.isnull().values.any())"
   ]
  },
  {
   "cell_type": "code",
   "execution_count": 5,
   "id": "f819307d",
   "metadata": {},
   "outputs": [
    {
     "data": {
      "text/html": [
       "<div>\n",
       "<style scoped>\n",
       "    .dataframe tbody tr th:only-of-type {\n",
       "        vertical-align: middle;\n",
       "    }\n",
       "\n",
       "    .dataframe tbody tr th {\n",
       "        vertical-align: top;\n",
       "    }\n",
       "\n",
       "    .dataframe thead th {\n",
       "        text-align: right;\n",
       "    }\n",
       "</style>\n",
       "<table border=\"1\" class=\"dataframe\">\n",
       "  <thead>\n",
       "    <tr style=\"text-align: right;\">\n",
       "      <th></th>\n",
       "      <th>label</th>\n",
       "      <th>tweet</th>\n",
       "    </tr>\n",
       "  </thead>\n",
       "  <tbody>\n",
       "    <tr>\n",
       "      <th>0</th>\n",
       "      <td>fear</td>\n",
       "      <td>Hari ini jadwal presentasi proker di LPPM karn...</td>\n",
       "    </tr>\n",
       "    <tr>\n",
       "      <th>1</th>\n",
       "      <td>fear</td>\n",
       "      <td>Drama kmarin sore : seharian puasa trus pas lg...</td>\n",
       "    </tr>\n",
       "    <tr>\n",
       "      <th>2</th>\n",
       "      <td>fear</td>\n",
       "      <td>Ya tau kalo rasa sakit hati memamg sulit, tapi...</td>\n",
       "    </tr>\n",
       "    <tr>\n",
       "      <th>3</th>\n",
       "      <td>fear</td>\n",
       "      <td>Apa hukumnya bermain musik stad? jelas HAROOOO...</td>\n",
       "    </tr>\n",
       "    <tr>\n",
       "      <th>4</th>\n",
       "      <td>fear</td>\n",
       "      <td>Nah.... Yg saya takutkan itu mas. Nanti di tum...</td>\n",
       "    </tr>\n",
       "  </tbody>\n",
       "</table>\n",
       "</div>"
      ],
      "text/plain": [
       "  label                                              tweet\n",
       "0  fear  Hari ini jadwal presentasi proker di LPPM karn...\n",
       "1  fear  Drama kmarin sore : seharian puasa trus pas lg...\n",
       "2  fear  Ya tau kalo rasa sakit hati memamg sulit, tapi...\n",
       "3  fear  Apa hukumnya bermain musik stad? jelas HAROOOO...\n",
       "4  fear  Nah.... Yg saya takutkan itu mas. Nanti di tum..."
      ]
     },
     "execution_count": 5,
     "metadata": {},
     "output_type": "execute_result"
    }
   ],
   "source": [
    "df.head()"
   ]
  },
  {
   "cell_type": "code",
   "execution_count": 6,
   "id": "3e4092f1",
   "metadata": {},
   "outputs": [
    {
     "data": {
      "text/plain": [
       "(2308, 2)"
      ]
     },
     "execution_count": 6,
     "metadata": {},
     "output_type": "execute_result"
    }
   ],
   "source": [
    "df.shape"
   ]
  },
  {
   "cell_type": "code",
   "execution_count": 7,
   "id": "0e2c8aa4",
   "metadata": {},
   "outputs": [
    {
     "name": "stdout",
     "output_type": "stream",
     "text": [
      "Jumlah kolom pada dataset:   2\n",
      "Jumlah baris pada dataset:   2308\n"
     ]
    }
   ],
   "source": [
    "print('Jumlah kolom pada dataset:  ', len(df.columns))\n",
    "print('Jumlah baris pada dataset:  ', len(df))"
   ]
  },
  {
   "cell_type": "code",
   "execution_count": 8,
   "id": "91a99e76",
   "metadata": {},
   "outputs": [
    {
     "name": "stderr",
     "output_type": "stream",
     "text": [
      "C:\\anaconda\\lib\\site-packages\\seaborn\\_decorators.py:36: FutureWarning: Pass the following variable as a keyword arg: x. From version 0.12, the only valid positional argument will be `data`, and passing other arguments without an explicit keyword will result in an error or misinterpretation.\n",
      "  warnings.warn(\n"
     ]
    },
    {
     "data": {
      "image/png": "[encoded data removed]",
      "text/plain": [
       "<Figure size 432x288 with 1 Axes>"
      ]
     },
     "metadata": {
      "needs_background": "light"
     },
     "output_type": "display_data"
    }
   ],
   "source": [
    "sns.countplot(df['label'],label=\"Count\") #Grafik pada kolom label\n",
    "plt.show() "
   ]
  },
  {
   "cell_type": "code",
   "execution_count": 9,
   "id": "781ff815",
   "metadata": {},
   "outputs": [
    {
     "data": {
      "text/plain": [
       "Counter({'fear': 649, nan: 1659})"
      ]
     },
     "execution_count": 9,
     "metadata": {},
     "output_type": "execute_result"
    }
   ],
   "source": [
    "collections.Counter(df['label'])"
   ]
  },
  {
   "cell_type": "code",
   "execution_count": 10,
   "id": "077ffe53",
   "metadata": {},
   "outputs": [
    {
     "data": {
      "text/plain": [
       "'Jd kaya kebalik gitu. Dulu socmed jd escape buat gue ekspresiin kegilaan. Skrg berhubung socmed jd lebih serem dr dunia nyata, eh jd dunia nyata yg gue jadiin escape dari socmed.'"
      ]
     },
     "execution_count": 10,
     "metadata": {},
     "output_type": "execute_result"
    }
   ],
   "source": [
    "df['tweet'][21]"
   ]
  },
  {
   "cell_type": "code",
   "execution_count": 11,
   "id": "965ca3ca",
   "metadata": {},
   "outputs": [],
   "source": [
    "def case_folding(tweet):  \n",
    "    tweet = str(tweet).lower()\n",
    "    return tweet\n",
    "df['tweet']= df['tweet'].apply(case_folding)  "
   ]
  },
  {
   "cell_type": "code",
   "execution_count": 12,
   "id": "1da6b187",
   "metadata": {},
   "outputs": [
    {
     "data": {
      "text/html": [
       "<div>\n",
       "<style scoped>\n",
       "    .dataframe tbody tr th:only-of-type {\n",
       "        vertical-align: middle;\n",
       "    }\n",
       "\n",
       "    .dataframe tbody tr th {\n",
       "        vertical-align: top;\n",
       "    }\n",
       "\n",
       "    .dataframe thead th {\n",
       "        text-align: right;\n",
       "    }\n",
       "</style>\n",
       "<table border=\"1\" class=\"dataframe\">\n",
       "  <thead>\n",
       "    <tr style=\"text-align: right;\">\n",
       "      <th></th>\n",
       "      <th>label</th>\n",
       "      <th>tweet</th>\n",
       "    </tr>\n",
       "  </thead>\n",
       "  <tbody>\n",
       "    <tr>\n",
       "      <th>0</th>\n",
       "      <td>fear</td>\n",
       "      <td>hari ini jadwal presentasi proker di lppm karn...</td>\n",
       "    </tr>\n",
       "    <tr>\n",
       "      <th>1</th>\n",
       "      <td>fear</td>\n",
       "      <td>drama kmarin sore : seharian puasa trus pas lg...</td>\n",
       "    </tr>\n",
       "    <tr>\n",
       "      <th>2</th>\n",
       "      <td>fear</td>\n",
       "      <td>ya tau kalo rasa sakit hati memamg sulit, tapi...</td>\n",
       "    </tr>\n",
       "    <tr>\n",
       "      <th>3</th>\n",
       "      <td>fear</td>\n",
       "      <td>apa hukumnya bermain musik stad? jelas haroooo...</td>\n",
       "    </tr>\n",
       "    <tr>\n",
       "      <th>4</th>\n",
       "      <td>fear</td>\n",
       "      <td>nah.... yg saya takutkan itu mas. nanti di tum...</td>\n",
       "    </tr>\n",
       "  </tbody>\n",
       "</table>\n",
       "</div>"
      ],
      "text/plain": [
       "  label                                              tweet\n",
       "0  fear  hari ini jadwal presentasi proker di lppm karn...\n",
       "1  fear  drama kmarin sore : seharian puasa trus pas lg...\n",
       "2  fear  ya tau kalo rasa sakit hati memamg sulit, tapi...\n",
       "3  fear  apa hukumnya bermain musik stad? jelas haroooo...\n",
       "4  fear  nah.... yg saya takutkan itu mas. nanti di tum..."
      ]
     },
     "execution_count": 12,
     "metadata": {},
     "output_type": "execute_result"
    }
   ],
   "source": [
    "df.head()"
   ]
  },
  {
   "cell_type": "code",
   "execution_count": 13,
   "id": "a8c578af",
   "metadata": {},
   "outputs": [],
   "source": [
    "def clean_tweet(tweet):\n",
    "    \n",
    "    # remove special characters \n",
    "    tweet = re.sub('[^ a-zA-Z0-9]', ' ', tweet)\n",
    "    \n",
    "    # remove number\n",
    "    tweet = re.sub(r'[0-9]+', '', tweet)\n",
    "    \n",
    "    #remove url \n",
    "    tweet = re.sub(\"url\", \"\", tweet)\n",
    "    \n",
    "    #remove username \n",
    "    tweet = re.sub('username', '', tweet)\n",
    "    \n",
    "    #remove sensitiveno\n",
    "    tweet = re.sub('sensitiveno', '', tweet)\n",
    "    \n",
    "    #remove URL \n",
    "    tweet = re.sub(\"https\", \"\", tweet)\n",
    "    \n",
    "    # remove askfm\n",
    "    tweet = re.sub('askfm', '', tweet)\n",
    "    \n",
    "    #remove double spasi\n",
    "    tweet= \" \".join(tweet.split())    \n",
    "    return tweet\n",
    "df['tweet']= df['tweet'].apply(clean_tweet)"
   ]
  },
  {
   "cell_type": "code",
   "execution_count": 15,
   "id": "27a745a6",
   "metadata": {},
   "outputs": [
    {
     "data": {
      "text/html": [
       "<div>\n",
       "<style scoped>\n",
       "    .dataframe tbody tr th:only-of-type {\n",
       "        vertical-align: middle;\n",
       "    }\n",
       "\n",
       "    .dataframe tbody tr th {\n",
       "        vertical-align: top;\n",
       "    }\n",
       "\n",
       "    .dataframe thead th {\n",
       "        text-align: right;\n",
       "    }\n",
       "</style>\n",
       "<table border=\"1\" class=\"dataframe\">\n",
       "  <thead>\n",
       "    <tr style=\"text-align: right;\">\n",
       "      <th></th>\n",
       "      <th>label</th>\n",
       "      <th>tweet</th>\n",
       "    </tr>\n",
       "  </thead>\n",
       "  <tbody>\n",
       "    <tr>\n",
       "      <th>0</th>\n",
       "      <td>fear</td>\n",
       "      <td>hari ini jadwal presentasi proker di lppm karn...</td>\n",
       "    </tr>\n",
       "    <tr>\n",
       "      <th>1</th>\n",
       "      <td>fear</td>\n",
       "      <td>drama kmarin sore seharian puasa trus pas lg m...</td>\n",
       "    </tr>\n",
       "    <tr>\n",
       "      <th>2</th>\n",
       "      <td>fear</td>\n",
       "      <td>ya tau kalo rasa sakit hati memamg sulit tapi ...</td>\n",
       "    </tr>\n",
       "    <tr>\n",
       "      <th>3</th>\n",
       "      <td>fear</td>\n",
       "      <td>apa hukumnya bermain musik stad jelas haroooom...</td>\n",
       "    </tr>\n",
       "    <tr>\n",
       "      <th>4</th>\n",
       "      <td>fear</td>\n",
       "      <td>nah yg saya takutkan itu mas nanti di tumpangi...</td>\n",
       "    </tr>\n",
       "  </tbody>\n",
       "</table>\n",
       "</div>"
      ],
      "text/plain": [
       "  label                                              tweet\n",
       "0  fear  hari ini jadwal presentasi proker di lppm karn...\n",
       "1  fear  drama kmarin sore seharian puasa trus pas lg m...\n",
       "2  fear  ya tau kalo rasa sakit hati memamg sulit tapi ...\n",
       "3  fear  apa hukumnya bermain musik stad jelas haroooom...\n",
       "4  fear  nah yg saya takutkan itu mas nanti di tumpangi..."
      ]
     },
     "execution_count": 15,
     "metadata": {},
     "output_type": "execute_result"
    }
   ],
   "source": [
    "df.head()"
   ]
  },
  {
   "cell_type": "code",
   "execution_count": 16,
   "id": "4f111fb1",
   "metadata": {},
   "outputs": [],
   "source": [
    "key_norm = pd.read_csv('kamus_normalisasi.csv')\n",
    "\n",
    "def normalisasi(tweet):\n",
    "    tweet = ' '.join([key_norm[key_norm['singkat'] == word]['hasil'].values[0] \n",
    "                      if (key_norm[\"singkat\"] == word).any() else word for word in tweet.split()])\n",
    "    return tweet\n",
    "df['tweet']= df['tweet'].apply(normalisasi)"
   ]
  },
  {
   "cell_type": "code",
   "execution_count": 17,
   "id": "1d0860a1",
   "metadata": {},
   "outputs": [
    {
     "data": {
      "text/html": [
       "<div>\n",
       "<style scoped>\n",
       "    .dataframe tbody tr th:only-of-type {\n",
       "        vertical-align: middle;\n",
       "    }\n",
       "\n",
       "    .dataframe tbody tr th {\n",
       "        vertical-align: top;\n",
       "    }\n",
       "\n",
       "    .dataframe thead th {\n",
       "        text-align: right;\n",
       "    }\n",
       "</style>\n",
       "<table border=\"1\" class=\"dataframe\">\n",
       "  <thead>\n",
       "    <tr style=\"text-align: right;\">\n",
       "      <th></th>\n",
       "      <th>label</th>\n",
       "      <th>tweet</th>\n",
       "    </tr>\n",
       "  </thead>\n",
       "  <tbody>\n",
       "    <tr>\n",
       "      <th>0</th>\n",
       "      <td>fear</td>\n",
       "      <td>hari ini jadwal presentasi proker di lppm kare...</td>\n",
       "    </tr>\n",
       "    <tr>\n",
       "      <th>1</th>\n",
       "      <td>fear</td>\n",
       "      <td>drama kemarin sore seharian puasa terus pas la...</td>\n",
       "    </tr>\n",
       "    <tr>\n",
       "      <th>2</th>\n",
       "      <td>fear</td>\n",
       "      <td>ya tahu kalau rasa sakit hati memamg sulit tap...</td>\n",
       "    </tr>\n",
       "    <tr>\n",
       "      <th>3</th>\n",
       "      <td>fear</td>\n",
       "      <td>apa hukumnya bermain musik stad jelas haroooom...</td>\n",
       "    </tr>\n",
       "    <tr>\n",
       "      <th>4</th>\n",
       "      <td>fear</td>\n",
       "      <td>nah yang saya takutkan itu mas nanti di tumpan...</td>\n",
       "    </tr>\n",
       "  </tbody>\n",
       "</table>\n",
       "</div>"
      ],
      "text/plain": [
       "  label                                              tweet\n",
       "0  fear  hari ini jadwal presentasi proker di lppm kare...\n",
       "1  fear  drama kemarin sore seharian puasa terus pas la...\n",
       "2  fear  ya tahu kalau rasa sakit hati memamg sulit tap...\n",
       "3  fear  apa hukumnya bermain musik stad jelas haroooom...\n",
       "4  fear  nah yang saya takutkan itu mas nanti di tumpan..."
      ]
     },
     "execution_count": 17,
     "metadata": {},
     "output_type": "execute_result"
    }
   ],
   "source": [
    "df.head()"
   ]
  },
  {
   "cell_type": "raw",
   "id": "73128d18",
   "metadata": {},
   "source": [
    "df.to_csv(\"C:/Users/HP/TUGAS/cleanning.csv\")"
   ]
  },
  {
   "cell_type": "raw",
   "id": "3c499d5e",
   "metadata": {},
   "source": [
    "df.to_csv(\"C:/Users/HP/TUGAS/fix.csv\")"
   ]
  },
  {
   "cell_type": "code",
   "execution_count": 18,
   "id": "9bf4c0e5",
   "metadata": {
    "scrolled": true
   },
   "outputs": [
    {
     "data": {
      "text/html": [
       "<div>\n",
       "<style scoped>\n",
       "    .dataframe tbody tr th:only-of-type {\n",
       "        vertical-align: middle;\n",
       "    }\n",
       "\n",
       "    .dataframe tbody tr th {\n",
       "        vertical-align: top;\n",
       "    }\n",
       "\n",
       "    .dataframe thead th {\n",
       "        text-align: right;\n",
       "    }\n",
       "</style>\n",
       "<table border=\"1\" class=\"dataframe\">\n",
       "  <thead>\n",
       "    <tr style=\"text-align: right;\">\n",
       "      <th></th>\n",
       "      <th>label</th>\n",
       "      <th>tweet</th>\n",
       "    </tr>\n",
       "  </thead>\n",
       "  <tbody>\n",
       "    <tr>\n",
       "      <th>0</th>\n",
       "      <td>fear</td>\n",
       "      <td>hari ini jadwal presentasi proker di lppm kare...</td>\n",
       "    </tr>\n",
       "    <tr>\n",
       "      <th>1</th>\n",
       "      <td>fear</td>\n",
       "      <td>drama kemarin sore seharian puasa terus pas la...</td>\n",
       "    </tr>\n",
       "    <tr>\n",
       "      <th>2</th>\n",
       "      <td>fear</td>\n",
       "      <td>ya tahu kalau rasa sakit hati memamg sulit tap...</td>\n",
       "    </tr>\n",
       "    <tr>\n",
       "      <th>3</th>\n",
       "      <td>fear</td>\n",
       "      <td>apa hukumnya bermain musik stad jelas haroooom...</td>\n",
       "    </tr>\n",
       "    <tr>\n",
       "      <th>4</th>\n",
       "      <td>fear</td>\n",
       "      <td>nah yang saya takutkan itu mas nanti di tumpan...</td>\n",
       "    </tr>\n",
       "  </tbody>\n",
       "</table>\n",
       "</div>"
      ],
      "text/plain": [
       "  label                                              tweet\n",
       "0  fear  hari ini jadwal presentasi proker di lppm kare...\n",
       "1  fear  drama kemarin sore seharian puasa terus pas la...\n",
       "2  fear  ya tahu kalau rasa sakit hati memamg sulit tap...\n",
       "3  fear  apa hukumnya bermain musik stad jelas haroooom...\n",
       "4  fear  nah yang saya takutkan itu mas nanti di tumpan..."
      ]
     },
     "execution_count": 18,
     "metadata": {},
     "output_type": "execute_result"
    }
   ],
   "source": [
    "df.head()"
   ]
  },
  {
   "cell_type": "code",
   "execution_count": 19,
   "id": "dcd22abb",
   "metadata": {},
   "outputs": [],
   "source": []
  },
  {
   "cell_type": "code",
   "execution_count": 20,
   "id": "3c611ba9",
   "metadata": {},
   "outputs": [],
   "source": []
  },
  {
   "cell_type": "code",
   "execution_count": 29,
   "id": "6bab6b91",
   "metadata": {},
   "outputs": [
    {
     "name": "stdout",
     "output_type": "stream",
     "text": [
      "[('nan', 1662), ('aku', 661), ('yang', 460), ('takut', 430), ('tidak', 364), ('di', 263), ('dan', 234), ('kalau', 227), ('ada', 198), ('ini', 185), ('tapi', 183), ('ya', 178), ('sudah', 178), ('itu', 166), ('jadi', 158), ('saja', 149), ('sama', 146), ('masih', 140), ('banget', 130), ('mau', 123), ('nya', 121), ('karena', 120), ('saya', 120), ('orang', 120), ('ke', 115), ('lagi', 113), ('bisa', 113), ('terus', 108), ('begitu', 108), ('juga', 108), ('dia', 108), ('dari', 93), ('pas', 92), ('apa', 88), ('sampai', 86), ('sih', 78), ('dengan', 77), ('seram', 75), ('hanya', 74), ('tahu', 70), ('akan', 70), ('kan', 67), ('kita', 66), ('teman', 64), ('bagaimana', 61), ('seperti', 61), ('untuk', 60), ('sendiri', 58), ('banyak', 58), ('atau', 57), ('memang', 57), ('salah', 55), ('pernah', 53), ('sakit', 50), ('lihat', 50), ('bahkan', 49), ('kamu', 49), ('rumah', 48), ('pakai', 47), ('tuh', 46), ('lebih', 45), ('harus', 45), ('jangan', 44), ('nanti', 44), ('kenapa', 43), ('baru', 42), ('tiba', 42), ('punya', 40), ('sekarang', 40), ('langsung', 40), ('allah', 40), ('benar', 39), ('dulu', 38), ('habis', 38), ('malam', 38), ('pada', 37), ('suka', 37), ('bikin', 37), ('iya', 36), ('belum', 36), ('si', 35), ('rasa', 34), ('buat', 34), ('hari', 33), ('hati', 33), ('lah', 32), ('bilang', 32), ('lain', 32), ('tadi', 32), ('anak', 32), ('saat', 31), ('kok', 31), ('padahal', 31), ('jam', 30), ('diri', 30), ('begini', 30), ('selalu', 30), ('mereka', 29), ('semua', 29), ('ingin', 28), ('kemarin', 28), ('kata', 28), ('merasa', 28), ('tidur', 28), ('soalnya', 27), ('jalan', 27), ('kali', 27), ('bukan', 27), ('pulang', 26), ('gitu', 26), ('keluar', 26), ('satu', 25), ('ternyata', 25), ('gak', 25), ('setan', 25), ('dong', 24), ('baca', 24), ('deh', 24), ('ibu', 24), ('biar', 23), ('besar', 23), ('kembali', 23), ('hal', 22), ('semoga', 22), ('dalam', 22), ('makan', 22), ('masuk', 21), ('mana', 21), ('eh', 21), ('dekat', 21), ('tempat', 21), ('mulai', 21), ('dapat', 20), ('pun', 20), ('baik', 20), ('masa', 20), ('cerita', 20), ('waktu', 20), ('siapa', 20), ('depan', 19), ('pasti', 19), ('laki', 19), ('nih', 19), ('lama', 19), ('besok', 19), ('sangat', 19), ('trauma', 19), ('nah', 18), ('apalagi', 18), ('terlalu', 18), ('lalu', 18), ('berani', 18), ('setiap', 18), ('jatuh', 18), ('wkwk', 18), ('tiap', 18), ('deg', 17), ('khawatir', 17), ('bingung', 17), ('hidup', 17), ('kalian', 17), ('mati', 17), ('satunya', 17), ('akhirnya', 16), ('sekali', 16), ('bulan', 16), ('percaya', 16), ('macam', 16), ('buka', 16), ('sana', 16), ('semakin', 16), ('paling', 16), ('pagi', 15), ('mohon', 15), ('adalah', 15), ('sambil', 15), ('mbak', 15), ('sedikit', 15), ('bila', 15), ('agak', 15), ('main', 15), ('muka', 15), ('kadang', 15), ('nonton', 15), ('kepada', 15), ('jiwa', 15), ('merinding', 15), ('askmf', 15), ('sering', 15), ('anjir', 15), ('parno', 15), ('cewek', 15), ('terjadi', 14), ('tersebut', 14), ('mata', 14), ('bapak', 14), ('boleh', 14), ('hp', 14), ('kamar', 14), ('secara', 14), ('lampu', 14), ('swt', 14), ('kecil', 14), ('sayang', 14), ('gara', 14), ('melihat', 14), ('pak', 13), ('masalah', 13), ('bahaya', 13), ('gila', 13), ('kami', 13), ('coba', 13), ('naik', 13), ('akhir', 13), ('kurang', 13), ('nangis', 13), ('aneh', 13), ('motor', 13), ('cinta', 13), ('ngomong', 13), ('ingat', 13), ('sekolah', 13), ('minta', 13), ('air', 13), ('periksa', 12), ('mungkin', 12), ('bertanya', 12), ('bawa', 12), ('kepikiran', 12), ('instagram', 12), ('biasanya', 12), ('mikir', 12), ('manusia', 12), ('hampir', 12), ('ketika', 12), ('bangun', 12), ('parah', 12), ('degan', 12), ('was', 12), ('makin', 12), ('tetap', 12), ('asli', 12), ('untung', 12), ('foto', 11), ('sulit', 11), ('jelas', 11), ('ketakutan', 11), ('beli', 11), ('mobil', 11), ('godaan', 11), ('kerja', 11), ('berubah', 11), ('lupa', 11), ('datang', 11), ('berdebar', 11), ('panik', 11), ('kuliah', 11), ('setelah', 11), ('mimpi', 11), ('dengar', 11), ('kena', 11), ('beberapa', 11), ('cari', 11), ('hilang', 11), ('mama', 11), ('film', 11), ('an', 10), ('ikut', 10), ('sebelum', 10), ('biasa', 10), ('dunia', 10), ('cara', 10), ('ganti', 10), ('tanya', 10), ('sebenarnya', 10), ('kejadian', 10), ('kuat', 10), ('berbincang', 10), ('sebagai', 10), ('horor', 10), ('gereja', 10), ('berlindung', 10), ('kelas', 10), ('kakak', 10), ('a', 10), ('sendirian', 10), ('diam', 10), ('sumpah', 10), ('jika', 10), ('serius', 10), ('grup', 10), ('pergi', 10), ('demi', 9), ('ngerasain', 9), ('sekitar', 9), ('walaupun', 9), ('loh', 9), ('khusus', 9), ('oh', 9), ('kemungkinan', 9), ('sholat', 9), ('awal', 9), ('yakin', 9), ('keluarga', 9), ('in', 9), ('enak', 9), ('pintu', 9), ('dua', 9), ('menjadi', 9), ('huhu', 9), ('suara', 9), ('menutup', 9), ('terkutuk', 9), ('segera', 9), ('pilpres', 9), ('lewat', 9), ('mengerti', 9), ('tu', 9), ('sepertinya', 9), ('cowok', 9), ('jadinya', 8), ('puasa', 8), ('mandi', 8), ('kaget', 8), ('jahat', 8), ('kira', 8), ('mas', 8), ('tahun', 8), ('aman', 8), ('daerah', 8), ('bersama', 8), ('sejak', 8), ('kapan', 8), ('pikir', 8), ('apakah', 8), ('entah', 8), ('dimana', 8), ('beda', 8), ('tinggal', 8), ('mah', 8), ('diberi', 8), ('heran', 8), ('cepat', 8), ('dokter', 8), ('rambut', 8), ('nyaman', 8), ('belakang', 8), ('tengah', 8), ('melaksanakan', 8), ('teriak', 8), ('sebab', 8), ('selama', 8), ('bahwa', 8), ('kasih', 8), ('stress', 8), ('kantor', 8), ('ketemu', 8), ('rlt', 8), ('jujur', 8), ('marah', 8), ('un', 8), ('duit', 8), ('membuat', 8), ('jawab', 7), ('omong-omong', 7), ('sore', 7), ('tv', 7), ('sedang', 7), ('chat', 7), ('bagus', 7), ('setengah', 7), ('nongol', 7), ('akun', 7), ('sedih', 7), ('maka', 7), ('minggu', 7), ('selesai', 7), ('suami', 7), ('bau', 7), ('menyuruh', 7), ('terakhir', 7), ('dosa', 7), ('mendadak', 7), ('seseorang', 7), ('ah', 7), ('disemua', 7), ('bangunan', 7), ('didirikan', 7), ('kekafiran', 7), ('menyeramkan', 7), ('penuh', 7), ('mudah', 7), ('usah', 7), ('tentang', 7), ('ruangan', 7), ('pasien', 7), ('tanda', 7), ('suatu', 7), ('paham', 7), ('apapun', 7), ('sesuatu', 7), ('truk', 7), ('terlihat', 7), ('jauh', 7), ('namanya', 7), ('b', 7), ('lulus', 7), ('arah', 7), ('beliau', 7), ('disana', 7), ('beneran', 7), ('kayak', 7), ('hantu', 7), ('agama', 6), ('uang', 6), ('semacam', 6), ('cantik', 6), ('disini', 6), ('siap', 6), ('x', 6), ('nyata', 6), ('sd', 6), ('bagi', 6), ('mampu', 6), ('pesan', 6), ('maaf', 6), ('pokoknya', 6), ('banci', 6), ('calon', 6), ('sadar', 6), ('minum', 6), ('berhenti', 6), ('kepala', 6), ('mending', 6), ('oleh', 6), ('perintahkan', 6), ('menkes', 6), ('menambah', 6), ('usai', 6), ('dibanjiri', 6), ('kearah', 6), ('tolong', 6), ('wa', 6), ('namun', 6), ('sehingga', 6), ('sahabat', 6), ('kau', 6), ('wah', 6), ('dirumah', 6), ('kecoa', 6), ('diajak', 6), ('e', 6), ('berita', 6), ('susah', 6), ('panjang', 6), ('gas', 6), ('barusan', 6), ('awalnya', 6), ('to', 6), ('guys', 6), ('pantai', 6), ('pertama', 6), ('pacar', 6), ('dosen', 6), ('kucing', 6), ('luar', 6), ('ramai', 6), ('penakut', 6), ('menurut', 6), ('nyalain', 6), ('sebelumnya', 6), ('seolah', 6), ('horror', 6), ('haha', 6), ('semester', 6), ('duluan', 6), ('sma', 6), ('bunyi', 6), ('jokowi', 6), ('gempa', 6), ('ketua', 5), ('tangga', 5), ('seorang', 5), ('niat', 5), ('mudahan', 5), ('buruk', 5), ('keadaan', 5), ('bu', 5), ('senin', 5), ('berangkat', 5), ('t', 5), ('siang', 5), ('netizen', 5), ('itulah', 5), ('ilmu', 5), ('dasar', 5), ('tanggal', 5), ('is', 5), ('berbagai', 5), ('penyakit', 5), ('dirinya', 5), ('kondisi', 5), ('sini', 5), ('perempuan', 5), ('adik', 5), ('tugas', 5), ('duduk', 5), ('malas', 5), ('rusak', 5), ('sementara', 5), ('lanjut', 5), ('indonesia', 5), ('menikah', 5), ('dibawa', 5), ('keliatan', 5), ('keras', 5), ('hasil', 5), ('cocok', 5), ('ngebut', 5), ('berapa', 5), ('sahur', 5), ('gelap', 5), ('semenjak', 5), ('mesti', 5), ('daripada', 5), ('soal', 5), ('terima', 5), ('atas', 5), ('mu', 5), ('sisi', 5), ('sepi', 5), ('hem', 5), ('cukup', 5), ('bakalan', 5), ('jurusan', 5), ('k', 5), ('saran', 5), ('gara-gara', 5), ('lingkungan', 5), ('my', 5), ('semuanya', 5), ('kabar', 5), ('yoyakarta', 5), ('lainnya', 5), ('hubungan', 5), ('pacaran', 5), ('kabarin', 5), ('mahasiswa', 5), ('skripsi', 5), ('suntik', 5), ('kabur', 5), ('nikah', 5), ('ceritanya', 5), ('papa', 5), ('wajah', 5), ('nama', 5), ('terasa', 5), ('lari', 5), ('kematian', 5), ('ketinggian', 5), ('perlu', 5), ('benda', 5), ('nomer', 5), ('anjing', 5), ('video', 5), ('disuruh', 5), ('curhat', 5), ('suspend', 5), ('tamu', 4), ('maghrib', 4), ('sah', 4), ('media', 4), ('politik', 4), ('sensitif', 4), ('perut', 4), ('haid', 4), ('kirim', 4), ('terhadap', 4), ('amin', 4), ('modal', 4), ('butuh', 4), ('umur', 4), ('krl', 4), ('bla', 4), ('kelihatan', 4), ('ketiduran', 4), ('kaki', 4), ('jantung', 4), ('pemikiran', 4), ('twitter', 4), ('bukannya', 4), ('setuju', 4), ('super', 4), ('muda', 4), ('pesawat', 4), ('terutama', 4), ('nungguin', 4), ('update', 4), ('kesehatan', 4), ('asal', 4), ('nilai', 4), ('kecelakaan', 4), ('turun', 4), ('normal', 4), ('badan', 4), ('laptop', 4), ('mendengarkan', 4), ('nulis', 4), ('kemana', 4), ('memulai', 4), ('memberi', 4), ('baju', 4), ('anaknya', 4), ('kulit', 4), ('dilema', 4), ('pindah', 4), ('rt', 4), ('rw', 4), ('at', 4), ('sempat', 4), ('sepanjang', 4), ('jalur', 4), ('sabar', 4), ('capek', 4), ('kejar', 4), ('bodoh', 4), ('telat', 4), ('berarti', 4), ('utama', 4), ('bohong', 4), ('pengaruh', 4), ('bayi', 4), ('informasi', 4), ('sok', 4), ('m', 4), ('juni', 4), ('kolak', 4), ('termasuk', 4), ('tua', 4), ('memilih', 4), ('dangkal', 4), ('para', 4), ('kecewa', 4), ('tuhan', 4), ('terbuka', 4), ('komen', 4), ('bagiku', 4), ('mendengar', 4), ('libur', 4), ('bank', 4), ('kursi', 4), ('univ', 4), ('dibilang', 4), ('tambah', 4), ('saling', 4), ('belok', 4), ('kehilangan', 4), ('kasihan', 4), ('sepatunya', 4), ('bulu', 4), ('sebelah', 4), ('diluar', 4), ('tetangga', 4), ('time', 4), ('terdekat', 4), ('makanya', 4), ('serta', 4), ('ngapain', 4), ('hidung', 4), ('menchat', 4), ('ayah', 4), ('jakarta', 4), ('nomor', 4), ('merah', 4), ('polisi', 4), ('berdua', 4), ('kosong', 4), ('suci', 4), ('diisi', 4), ('abang', 4), ('hingga', 4), ('kebayang', 4), ('bagian', 4), ('ditengah', 4), ('anda', 4), ('lagu', 4), ('gugup', 4), ('makhluk', 4), ('hm', 4), ('ditempat', 4), ('orangnya', 4), ('kampus', 4), ('berbaring', 4), ('acc', 4), ('kat', 4), ('nyebrang', 4), ('tinggi', 4), ('kesal', 4), ('monster', 4), ('do', 4), ('pikiran', 4), ('saking', 4), ('nyasar', 4), ('ambil', 4), ('memutuskan', 4), ('penumpang', 4), ('aim', 4), ('jawa', 4), ('adegan', 4), ('kenal', 4), ('tertekan', 4), ('belanja', 4), ('perbaiki', 4), ('bawah', 4), ('tetiba', 4), ('presentasi', 3), ('upload', 3), ('drama', 3), ('woi', 3), ('jenjang', 3), ('hukumnya', 3), ('musik', 3), ('masyarakat', 3), ('buku', 3), ('juta', 3), ('sebanyak', 3), ('kasus', 3), ('bantu', 3), ('adanya', 3), ('membuka', 3), ('gaes', 3), ('fans', 3), ('hobi', 3), ('hehe', 3), ('temannya', 3), ('sebentar', 3), ('tumbuh', 3), ('gatal', 3), ('dijemput', 3), ('jemput', 3), ('tanpa', 3), ('ntah', 3), ('socmed', 3), ('materi', 3), ('kode', 3), ('apaan', 3), ('menganggap', 3), ('negara', 3), ('penting', 3), ('siapapun', 3), ('bunda', 3), ('gagal', 3), ('ditanya', 3), ('lebaran', 3), ('alhamdulillah', 3), ('bilangnya', 3), ('kosan', 3), ('waswas', 3), ('sms', 3), ('mutar', 3), ('sengaja', 3), ('supir', 3), ('intinya', 3), ('malu', 3), ('zaman', 3), ('hendak', 3), ('teringat', 3), ('bintik', 3), ('berjuang', 3), ('sanggup', 3), ('mukanya', 3), ('kuota', 3), ('mb', 3), ('asik', 3), ('negeri', 3), ('hindu', 3), ('salemba', 3), ('pukul', 3), ('berat', 3), ('harta', 3), ('sikap', 3), ('pribadi', 3), ('islam', 3), ('netijen', 3), ('bully', 3), ('dibawah', 3), ('tahan', 3), ('selamat', 3), ('berdoa', 3), ('nyenyak', 3), ('bang', 3), ('tipe', 3), ('lumayan', 3), ('pelan', 3), ('nunggu', 3), ('kanan', 3), ('rawan', 3), ('ulang', 3), ('pantas', 3), ('menikam', 3), ('rokok', 3), ('deketin', 3), ('na', 3), ('masalahnya', 3), ('kopi', 3), ('back', 3), ('obat', 3), ('seumur', 3), ('akhirat', 3), ('tujuan', 3), ('sekian', 3), ('segala', 3), ('prof', 3), ('ayam', 3), ('riba', 3), ('ngalamin', 3), ('sesuai', 3), ('belajar', 3), ('telepon', 3), ('pengumuman', 3), ('surabaya', 3), ('rata', 3), ('hutan', 3), ('basi', 3), ('warga', 3), ('engkau', 3), ('efek', 3), ('otak', 3), ('thailand', 3), ('thread', 3), ('sebuah', 3), ('kepercayaan', 3), ('oke', 3), ('bersyukur', 3), ('menjalani', 3), ('resah', 3), ('kpop', 3), ('istri', 3), ('sosial', 3), ('alamat', 3), ('sandi', 3), ('meninggal', 3), ('nyala', 3), ('rumahnya', 3), ('putih', 3), ('woy', 3), ('idm', 3), ('keterima', 3), ('larut', 3), ('terlebih', 3), ('bayar', 3), ('c', 3), ('kelahi', 3), ('umum', 3), ('rontok', 3), ('ketidak', 3), ('tenang', 3), ('perasaan', 3), ('batas', 3), ('as', 3), ('if', 3), ('sang', 3), ('bali', 3), ('coy', 3), ('maya', 3), ('tol', 3), ('mikirin', 3), ('depresi', 3), ('kelewatan', 3), ('bicara', 3), ('ngantuk', 3), ('nyium', 3), ('bayangkan', 3), ('p', 3), ('pusing', 3), ('dibelakang', 3), ('dompet', 3), ('jaga', 3), ('nipu', 3), ('telpon', 3), ('maksudnya', 3), ('ad', 3), ('inggris', 3), ('hapus', 3), ('nemu', 3), ('meledak', 3), ('pria', 3), ('selain', 3), ('masing', 3), ('misal', 3), ('line', 3), ('kemudian', 3), ('cemas', 3), ('online', 3), ('membawa', 3), ('surat', 3), ('v', 3), ('tes', 3), ('pikiranku', 3), ('al', 3), ('om', 3), ('ojol', 3), ('berhubungan', 3), ('matanya', 3), ('fotonya', 3), ('nak', 3), ('tukang', 3), ('dipakai', 3), ('berdarah', 3), ('ngelakuin', 3), ('senter', 3), ('laut', 3), ('lepas', 3), ('notif', 3), ('nasib', 3), ('cash', 3), ('rp', 3), ('hasilnya', 3), ('alami', 3), ('matiin', 3), ('kasur', 3), ('senang', 3), ('halu', 3), ('ratusan', 3), ('hewan', 3), ('suruh', 3), ('lagian', 3), ('mengalami', 3), ('euy', 3), ('kiri', 3), ('akibat', 3), ('stop', 3), ('sehat', 3), ('old', 3), ('guru', 3), ('paginya', 3), ('galon', 3), ('bangunin', 3), ('tutup', 3), ('pipis', 3), ('ditinggal', 3), ('reguler', 3), ('ka', 3), ('alam', 3), ('sabrina', 3), ('barang', 3), ('bola', 3), ('lgsng', 3), ('aplikasi', 3), ('cabang', 3), ('satpam', 3), ('dikenalin', 3), ('mantan', 3), ('menakutkan', 3), ('resign', 3), ('the', 3), ('end', 3), ('darah', 3), ('ngetik', 3), ('dimarahin', 3), ('keinget', 3), ('minyak', 3), ('ujian', 3), ('iseng', 3), ('luka', 3), ('hepatitis', 3), ('ngibrit', 3), ('s', 3), ('gituan', 3), ('this', 3), ('nyetir', 3), ('kesalahan', 3), ('not', 3), ('skincare', 3), ('kapal', 3), ('min', 3), ('tulisan', 3), ('pokok', 3), ('didepan', 3), ('game', 3), ('bakar', 3), ('semangat', 3), ('sidang', 3), ('berusaha', 3), ('memperoleh', 3), ('ketawa', 3), ('cuci', 3), ('kota', 3), ('ditelp', 3), ('tulang', 3), ('gambar', 3), ('pph', 3), ('dikira', 3), ('st', 3), ('dadang', 3), ('lesbi', 3), ('ombak', 3), ('taperwer', 3), ('bayang', 3), ('vaksin', 3), ('bayangin', 3), ('depannya', 3), ('ganggu', 3), ('partai', 3), ('gubernur', 3), ('presiden', 3), ('jadwal', 2), ('praktikum', 2), ('temani', 2), ('sekretaris', 2), ('bismillah', 2), ('seharian', 2), ('galau', 2), ('dianggap', 2), ('situasi', 2), ('begitulah', 2), ('antara', 2), ('acara', 2), ('takutkan', 2), ('thr', 2), ('apbd', 2), ('buk', 2), ('kirain', 2), ('bule', 2), ('mewah', 2), ('ok', 2), ('pos', 2), ('hadiah', 2), ('akal', 2), ('imam', 2), ('doa', 2), ('z', 2), ('mudik', 2), ('sifat', 2), ('bertambahnya', 2), ('kebiasaan', 2), ('wanita', 2), ('fanatik', 2), ('desa', 2), ('lurah', 2), ('o', 2), ('menyenangkan', 2), ('sesama', 2), ('diantar', 2), ('bolong', 2), ('pungli', 2), ('bagai', 2), ('nyoba', 2), ('nambah', 2), ('nyinyir', 2), ('kejang', 2), ('hatinya', 2), ('kronis', 2), ('share', 2), ('escape', 2), ('berhubung', 2), ('bahas', 2), ('videonya', 2), ('menghancurkan', 2), ('liatnya', 2), ('big', 2), ('mula', 2), ('tersinggung', 2), ('terlanjur', 2), ('yahudi', 2), ('memperkuat', 2), ('pilihan', 2), ('kelompok', 2), ('kue', 2), ('google', 2), ('maning', 2), ('pertanyaan', 2), ('ceritain', 2), ('tertarik', 2), ('because', 2), ('am', 2), ('for', 2), ('bersiap', 2), ('lantai', 2), ('black', 2), ('berasa', 2), ('tmpt', 2), ('feeling', 2), ('pintar', 2), ('dilakuin', 2), ('sampah', 2), ('pup', 2), ('melahirkan', 2), ('bawaannya', 2), ('sc', 2), ('istirahat', 2), ('panas', 2), ('biji', 2), ('sebiji', 2), ('kering', 2), ('produk', 2), ('supaya', 2), ('dh', 2), ('sllu', 2), ('muslim', 2), ('beri', 2), ('stres', 2), ('contohnya', 2), ('dimasa', 2), ('jabatan', 2), ('die', 2), ('dulunya', 2), ('cool', 2), ('cuek', 2), ('pendiem', 2), ('tb', 2), ('berfikir', 2), ('jelek', 2), ('astaghfirullah', 2), ('sing', 2), ('potong', 2), ('pendek', 2), ('indah', 2), ('dikejar', 2), ('ngeliatin', 2), ('sein', 2), ('pemilu', 2), ('tunggal', 2), ('tagih', 2), ('neraka', 2), ('pisau', 2), ('keduanya', 2), ('sepupu', 2), ('bedah', 2), ('sekalian', 2), ('youtube', 2), ('proses', 2), ('nutup', 2), ('jejeritan', 2), ('semalem', 2), ('ketinggalan', 2), ('wan', 2), ('fansite', 2), ('huh', 2), ('ulum', 2), ('candu', 2), ('inilah', 2), ('iman', 2), ('rekayasa', 2), ('bayanginnya', 2), ('perbanyak', 2), ('telah', 2), ('diciptakan', 2), ('memiliki', 2), ('kuatir', 2), ('info', 2), ('refreshing', 2), ('tubuh', 2), ('lengkap', 2), ('sepotong', 2), ('beragama', 2), ('bisnis', 2), ('bukti', 2), ('membenci', 2), ('hadits', 2), ('kebanyakan', 2), ('umat', 2), ('jng', 2), ('remeh', 2), ('smkn', 2), ('halangan', 2), ('amp', 2), ('it', 2), ('perkara', 2), ('kecilnya', 2), ('harap', 2), ('agar', 2), ('kriteria', 2), ('membeli', 2), ('berbuka', 2), ('dibuang', 2), ('dibesokin', 2), ('kt', 2), ('berkahnya', 2), ('disuapan', 2), ('segenap', 2), ('raga', 2), ('kuhabiskan', 2), ('mendidik', 2), ('psi', 2), ('lolos', 2), ('kpu', 2), ('curiga', 2), ('rakyat', 2), ('kampung', 2), ('yah', 2), ('saw', 2), ('memberikan', 2), ('keraguan', 2), ('bimbang', 2), ('musuh', 2), ('kawan', 2), ('berlangsung', 2), ('diatas', 2), ('hadapi', 2), ('penguasa', 2), ('zalim', 2), ('angin', 2), ('zina', 2), ('melakukan', 2), ('jajan', 2), ('liv', 2), ('mengeluh', 2), ('positive', 2), ('sekalinya', 2), ('memasang', 2), ('ngaji', 2), ('grasak', 2), ('grusuk', 2), ('mendatang', 2), ('persoalan', 2), ('muntah', 2), ('aksi', 2), ('iblis', 2), ('tweet', 2), ('segitu', 2), ('goblo', 2), ('taunya', 2), ('keknya', 2), ('mimbik', 2), ('seringnya', 2), ('sebulan', 2), ('eee', 2), ('dok', 2), ('broken', 2), ('ngetweet', 2), ('please', 2), ('diejek', 2), ('help', 2), ('berkepanjangan', 2), ('up', 2), ('risih', 2), ('ular', 2), ('janganlah', 2), ('aslinya', 2), ('adakah', 2), ('miring', 2), ('jurang', 2), ('ngontrol', 2), ('tabrakan', 2), ('tipu', 2), ('sotr', 2), ('justru', 2), ('tawuran', 2), ('keamanan', 2), ('mendekati', 2), ('seminggu', 2), ('maha', 2), ('mengetahui', 2), ('kecamatan', 2), ('siska', 2), ('something', 2), ('menurutku', 2), ('mabuk', 2), ('kucek', 2), ('popok', 2), ('kencing', 2), ('segalanya', 2), ('dipenuhi', 2), ('alasan', 2), ('bosan', 2), ('always', 2), ('him', 2), ('kamera', 2), ('handphone', 2), ('masjid', 2), ('pemilik', 2), ('isi', 2), ('ih', 2), ('penerangan', 2), ('ngelawan', 2), ('halal', 2), ('sehari', 2), ('syari', 2), ('keganggu', 2), ('hhh', 2), ('pressure', 2), ('nantinya', 2), ('sela', 2), ('badannya', 2), ('home', 2), ('ajalah', 2), ('pemerintahan', 2), ('gemetar', 2), ('selera', 2), ('takutt', 2), ('sampek', 2), ('sembuh', 2), ('berkali', 2), ('naif', 2), ('u', 2), ('dibayar', 2), ('sarannya', 2), ('mjd', 2), ('korban', 2), ('pencabulan', 2), ('aib', 2), ('pling', 2), ('ktp', 2), ('keluyuran', 2), ('tiket', 2), ('nganu', 2), ('ditangkap', 2), ('nyinggung', 2), ('benci', 2), ('nyindir', 2), ('diruang', 2), ('ekspresi', 2), ('baiklah', 2), ('makeup', 2), ('jerawatan', 2), ('pemilih', 2), ('bersih', 2), ('posisi', 2), ('numbuh', 2), ('daftar', 2), ('login', 2), ('paman', 2), ('ragu', 2), ('niatnya', 2), ('ayat', 2), ('qur', 2), ('reply', 2), ('driver', 2), ('detak', 2), ('terbangun', 2), ('flash', 2), ('petugas', 2), ('menjemput', 2), ('ngebayangin', 2), ('laba', 2), ('lap', 2), ('fb', 2), ('pending', 2), ('kamarmandinya', 2), ('alis', 2), ('lukanya', 2), ('off', 2), ('sia', 2), ('kelapa', 2), ('bebas', 2), ('speaker', 2), ('suga', 2), ('suaranya', 2), ('bacanya', 2), ('goyang', 2), ('tidurku', 2), ('duh', 2), ('lelah', 2), ('kesini', 2), ('digigit', 2), ('lemes', 2), ('ditipu', 2), ('laporan', 2), ('buru', 2), ('memenuhi', 2), ('kesenggol', 2), ('pertigaan', 2), ('kemanusiaan', 2), ('geter', 2), ('jembatan', 2), ('indo', 2), ('francey', 2), ('menonton', 2), ('mercury', 2), ('serba', 2), ('skip', 2), ('umi', 2), ('kemaleman', 2), ('cabut', 2), ('kawin', 2), ('money', 2), ('wc', 2), ('nilainya', 2), ('ketahuan', 2), ('semestinya', 2), ('lempar', 2), ('siksaan', 2), ('seharusnya', 2), ('jari', 2), ('item', 2), ('keceplosan', 2), ('shower', 2), ('l', 2), ('cemburu', 2), ('seakan', 2), ('singa', 2), ('rumahmu', 2), ('h', 2), ('first', 2), ('iuran', 2), ('segini', 2), ('jaya', 2), ('sejenis', 2), ('kambing', 2), ('histeris', 2), ('ketabrak', 2), ('waallahu', 2), ('boneka', 2), ('ampun', 2), ('diajakin', 2), ('pohon', 2), ('asrama', 2), ('buang', 2), ('izin', 2), ('sekelas', 2), ('ajak', 2), ('mendam', 2), ('mengaku', 2), ('ngelempar', 2), ('sikring', 2), ('menunduk', 2), ('permintaan', 2), ('alat', 2), ('artikel', 2), ('masukin', 2), ('data', 2), ('kebetulan', 2), ('bpd', 2), ('ngajak', 2), ('menata', 2), ('isya', 2), ('gerak', 2), ('lihatin', 2), ('kak', 2), ('merem', 2), ('telinga', 2), ('mahal', 2), ('menyesal', 2), ('penampakan', 2), ('melawan', 2), ('temanku', 2), ('kacau', 2), ('scra', 2), ('medis', 2), ('menyakiti', 2), ('menghindari', 2), ('bos', 2), ('kerjaan', 2), ('da', 2), ('bentuknya', 2), ('mirip', 2), ('tanah', 2), ('kendaraan', 2), ('kemampuan', 2), ('padaku', 2), ('ketenangan', 2), ('burung', 2), ('extention', 2), ('kimia', 2), ('ikutan', 2), ('korea', 2), ('peluang', 2), ('bindo', 2), ('same', 2), ('waduh', 2), ('mecucu', 2), ('experience', 2), ('ghaib', 2), ('im', 2), ('mulus', 2), ('disitu', 2), ('volly', 2), ('dp', 2), ('tag', 2), ('berharap', 2), ('omongan', 2), ('jurit', 2), ('kemah', 2), ('subuh', 2), ('sampingnya', 2), ('mbah', 2), ('ndok', 2), ('dijalan', 2), ('tangan', 2), ('dipegang', 2), ('kotor', 2), ('test', 2), ('be', 2), ('hoax', 2), ('putus', 2), ('nyambung', 2), ('imajinasi', 2), ('amit', 2), ('bumi', 2), ('moroi', 2), ('persis', 2), ('motong', 2), ('pasar', 2), ('cak', 2), ('nun', 2), ('kafir', 2), ('sartre', 2), ('banyaknya', 2), ('mencapai', 2), ('mataku', 2), ('dimandiin', 2), ('abu', 2), ('senonoh', 2), ('mcd', 2), ('bermesrahan', 2), ('hamil', 2), ('ber', 2), ('bertahun', 2), ('munafik', 2), ('terluka', 2), ('cupu', 2), ('lakuin', 2), ('menjauh', 2), ('dapur', 2), ('masak', 2), ('tangannya', 2), ('keuangan', 2), ('menghabiskan', 2), ('penasaran', 2), ('staples', 2), ('heboh', 2), ('yeorobun', 2), ('dimatiin', 2), ('diabaikan', 2), ('sender', 2), ('lapor', 2), ('temenmu', 2), ('berjalan', 2), ('angan', 2), ('ngecat', 2), ('set', 2), ('pandan', 2), ('makanan', 2), ('iihhh', 2), ('sekaligus', 2), ('fitnah', 2), ('akrab', 2), ('susin', 2), ('bulanan', 2), ('berhadapan', 2), ('trust', 2), ('dlem', 2), ('kmr', 2), ('menghadapi', 2), ('mencari', 2), ('ngampus', 2), ('tim', 2), ('fakta', 2), ('menjadikan', 2), ('menunggu', 2), ('sandal', 2), ('menunggumu', 2), ('paralyzed', 2), ('gemeteran', 2), ('said', 2), ('seru', 2), ('sembunyi', 2), ('step', 2), ('dimotor', 2), ('fokus', 2), ('toner', 2), ('abisnya', 2), ('memalukan', 2), ('berdiri', 2), ('mental', 2), ('balas', 2), ('dikamar', 2), ('sebut', 2), ('cuy', 2), ('nada', 2), ('marahin', 2), ('sastra', 2), ('rajin', 2), ('transrumahuya', 2), ('rumahuya', 2), ('barengan', 2), ('diomongin', 2), ('ppn', 2), ('solusi', 2), ('internet', 2), ('jalanan', 2), ('logika', 2), ('guest', 2), ('house', 2), ('wali', 2), ('note', 2), ('whatsapp', 2), ('mulas', 2), ('permanen', 2), ('disamperin', 2), ('dijaga', 2), ('nenek', 2), ('ap', 2), ('pihak', 2), ('castle', 2), ('indigo', 2), ('ja', 2), ('susulan', 2), ('eng', 2), ('radiasi', 2), ('buah', 2), ('bijinya', 2), ('semangka', 2), ('emot', 2), ('dingin', 2), ('semprot', 2), ('tolak', 2), ('kalinya', 2), ('dipikir', 2), ('ujuk', 2), ('tetapi', 2), ('kolong', 2), ('nekat', 2), ('cherly', 2), ('wilayah', 2), ('men', 2), ('terbaca', 2), ('hbs', 2), ('viva', 2), ('ditemani', 2), ('tangkap', 2), ('hitam', 2), ('icip', 2), ('mkin', 2), ('mbavan', 2), ('review', 2), ('anxiety', 2), ('apaa', 2), ('kandungan', 2), ('ganglion', 2), ('wawancara', 2), ('berobat', 2), ('hufh', 2), ('dikunci', 2), ('qlo', 2), ('pilih', 2), ('terbang', 2), ('smpt', 2), ('via', 2), ('prod', 2), ('paketan', 2), ('twitt', 2), ('pocong', 2), ('betul', 2), ('wakil', 2), ('rs', 2), ('bersangkutan', 2), ('ndul', 2), ('cc', 2), ('daku', 2), ('pecah', 2), ('sebesar', 2), ('kayanya', 2), ('megang', 2), ('jae', 2), ('npwp', 2), ('kuwu', 2), ('kajian', 2), ('getaran', 2), ('jeng', 2), ('risen', 2), ('proker', 1), ('lppm', 1), ('selaku', 1), ('penanggung', 1), ('kedatangan', 1), ('diundang', 1), ('adzan', 1), ('memamg', 1), ('kala', 1), ('publikan', 1), ('menyelesaikan', 1), ('terlontarnya', 1), ('bermain', 1), ('stad', 1), ('haroooom', 1), ('berdosa', 1), ('memainkannya', 1), ('percakapan', 1), ('penanya', 1), ('ustad', 1), ('disebuah', 1), ('intronya', 1), ('tumpangi', 1), ('dibalut', 1), ('kuasa', 1), ('garis', 1), ('bawahi', 1), ('kpk', 1), ('jadilah', 1), ('ggl', 1), ('mentri', 1), ('kiranti', 1), ('plis', 1), ('atulah', 1), ('solat', 1), ('ied', 1), ('pdkt', 1), ('cariin', 1), ('dicariin', 1), ('khabar', 1), ('tuduhan', 1), ('mesum', 1), ('habib', 1), ('rizieq', 1), ('dihentikan', 1), ('kesucian', 1), ('ramadhan', 1), ('menyidik', 1), ('ngecengin', 1), ('blog', 1), ('nulisnya', 1), ('dinihari', 1), ('terupload', 1), ('quota', 1), ('jaringan', 1), ('hiksss', 1), ('hitungan', 1), ('br', 1), ('slsi', 1), ('donlot', 1), ('rumahku', 1), ('pi', 1), ('dirubah', 1), ('berubahnya', 1), ('berdesakan', 1), ('bejubelan', 1), ('berpuasa', 1), ('ngunyah', 1), ('gejrot', 1), ('komennya', 1), ('haram', 1), ('sekedar', 1), ('ngerusuh', 1), ('balai', 1), ('ulfah', 1), ('hah', 1), ('wait', 1), ('pps', 1), ('ulfa', 1), ('numbuhin', 1), ('brewok', 1), ('compliment', 1), ('bonus', 1), ('dirawat', 1), ('liar', 1), ('perginya', 1), ('janjian', 1), ('sayanya', 1), ('gimana', 1), ('vanashh', 1), ('syekaleh', 1), ('vemirsyahh', 1), ('jamin', 1), ('police', 1), ('sejenisnya', 1), ('korup', 1), ('addicted', 1), ('keenakan', 1), ('generasiantikorupsi', 1), ('viralkan', 1), ('oposisi', 1), ('disembuhkan', 1), ('tulis', 1), ('jempol', 1), ('dikalahkan', 1), ('kebalik', 1), ('ekspresiin', 1), ('kegilaan', 1), ('jadiin', 1), ('pentingnya', 1), ('etik', 1), ('diajarkan', 1), ('minimal', 1), ('berbuat', 1), ('sopan', 1), ('teratur', 1), ('bablas', 1), ('peka', 1), ('bk', 1), ('pkn', 1), ('sosum', 1), ('kesananya', 1), ('ngena', 1), ('datangnya', 1), ('sperti', 1), ('iednya', 1), ('bul', 1), ('bersimpati', 1), ('brutal', 1), ('kampak', 1), ('posting', 1), ('beauty', 1), ('kepercayaannya', 1), ('yazidi', 1), ('dibunuh', 1), ('diperbudak', 1), ('tersingkir', 1), ('survival', 1), ('bg', 1), ('market', 1), ('memprediksi', 1), ('ekonomi', 1), ('kedepan', 1), ('isu', 1), ('komprenya', 1), ('perkelompok', 1), ('kah', 1), ('asaan', 1), ('maju', 1), ('gasampe', 1), ('woii', 1), ('hero', 1), ('dpr', 1), ('bikinan', 1), ('resep', 1), ('berhasil', 1), ('kasianin', 1), ('soleh', 1), ('ultah', 1), ('intelektual', 1), ('bercanda', 1), ('bom', 1), ('fiestamaksimum', 1), ('galuh', 1), ('nikahnya', 1), ('eum', 1), ('anu', 1), ('jederrrrrrr', 1), ('gik', 1), ('dianggep', 1), ('pemberontak', 1), ('nurut', 1), ('kinda', 1), ('possessive', 1), ('bitch', 1), ('these', 1), ('things', 1), ('ditelponin', 1), ('tkp', 1), ('lengang', 1), ('ati', 1), ('sis', 1), ('leptopku', 1), ('restart', 1), ('screen', 1), ('pointernya', 1), ('log', 1), ('restore', 1), ('kehapus', 1), ('bedanya', 1), ('daptar', 1), ('maklum', 1), ('passion', 1), ('kesan', 1), ('budak', 1), ('carter', 1), ('repotin', 1), ('klg', 1), ('travel', 1), ('intisarinya', 1), ('digojek', 1), ('geng', 1), ('even', 1), ('ngesot', 1), ('astagfirullahaladzim', 1), ('hik', 1), ('sedihnya', 1), ('nyampah', 1), ('followerku', 1), ('nimbang', 1), ('timbangannya', 1), ('labil', 1), ('dukung', 1), ('lahiran', 1), ('sesar', 1), ('testi', 1), ('mengistirhatkan', 1), ('kunjung', 1), ('radio', 1), ('alergi', 1), ('ikan', 1), ('tuna', 1), ('cuaca', 1), ('uucchhh', 1), ('tersiksa', 1), ('garukan', 1), ('kebelakang', 1), ('terkhir', 1), ('titik', 1), ('kyknya', 1), ('terkunci', 1), ('yaasudahlah', 1), ('jalani', 1), ('tehaer', 1), ('keponakan', 1), ('celana', 1), ('koko', 1), ('sestel', 1), ('jaket', 1), ('finansial', 1), ('pikirin', 1), ('lvl', 1), ('mempan', 1), ('mentul', 1), ('lembab', 1), ('trusan', 1), ('nerima', 1), ('pemberitahuan', 1), ('asiknya', 1), ('tlponan', 1), ('taat', 1), ('aturan', 1), ('kebingungan', 1), ('jahatin', 1), ('nci', 1), ('nafas', 1), ('dilindungi', 1), ('aaamiiinnn', 1), ('kristen', 1), ('jodoh', 1), ('seiman', 1), ('sejalan', 1), ('berkeliarab', 1), ('betah', 1), ('menanggapi', 1), ('keluhan', 1), ('warganya', 1), ('bidang', 1), ('insecure', 1), ('capable', 1), ('naudzubillah', 1), ('pertanggung', 1), ('jawabannya', 1), ('gelar', 1), ('tahta', 1), ('kedudukan', 1), ('panggilan', 1), ('melekat', 1), ('yakni', 1), ('alm', 1), ('almh', 1), ('singkat', 1), ('cintad', 1), ('dark', 1), ('pemarah', 1), ('caper', 1), ('humble', 1), ('berwarna', 1), ('karismatik', 1), ('play', 1), ('boy', 1), ('menrut', 1), ('sikopatnya', 1), ('mengapa', 1), ('mengatakan', 1), ('kejam', 1), ('pertarungan', 1), ('arena', 1), ('persaingan', 1), ('layaknya', 1), ('petani', 1), ('bercocok', 1), ('tanam', 1), ('diantara', 1), ('harapan', 1), ('sreg', 1), ('bab', 1), ('jum', 1), ('uprak', 1), ('studi', 1), ('bisaaa', 1), ('mainnya', 1), ('frontal', 1), ('sepaham', 1), ('artificial', 1), ('neural', 1), ('network', 1), ('sedap', 1), ('stressfull', 1), ('akurasi', 1), ('pengujian', 1), ('ubah', 1), ('parameter', 1), ('ngira', 1), ('fail', 1), ('datanya', 1), ('hidden', 1), ('layer', 1), ('manggarai', 1), ('jatinegara', 1), ('petjun', 1), ('berkeliaran', 1), ('shayy', 1), ('subhanallah', 1), ('dehh', 1), ('setop', 1), ('gembyor', 1), ('beristirahat', 1), ('good', 1), ('night', 1), ('cit', 1), ('pilipin', 1), ('dipepet', 1), ('senam', 1), ('kejaran', 1), ('bangjo', 1), ('hijau', 1), ('lurus', 1), ('amaaaaan', 1), ('motivasi', 1), ('mengawasi', 1), ('pengawas', 1), ('tps', 1), ('mengawal', 1), ('kecurangan', 1), ('pilkada', 1), ('tmarahang', 1), ('mengingatkan', 1), ('hutang', 1), ('berulang', 1), ('jawabanya', 1), ('bermata', 1), ('aurat', 1), ('non', 1), ('mahram', 1), ('berlajar', 1), ('prosedur', 1), ('dentoalveolar', 1), ('udahlah', 1), ('trihanggo', 1), ('nyuci', 1), ('jemur', 1), ('samping', 1), ('siul', 1), ('diamatin', 1), ('sugus', 1), ('kain', 1), ('mori', 1), ('kusem', 1), ('mukaknya', 1), ('hita', 1), ('burhan', 1), ('dasbor', 1), ('apain', 1), ('taruh', 1), ('iffa', 1), ('motekar', 1), ('rokoknya', 1), ('las', 1), ('parkir', 1), ('dimotekar', 1), ('staf', 1), ('nge', 1), ('dm', 1), ('copyright', 1), ('infringement', 1), ('actually', 1), ('mematikan', 1), ('culture', 1), ('ditanyain', 1), ('kmbaliannya', 1), ('inisiatif', 1), ('tabungin', 1), ('memfollow', 1), ('folow', 1), ('sunguh', 1), ('kalut', 1), ('awas', 1), ('nyatanya', 1), ('kesadaran', 1), ('mencegah', 1), ('perokok', 1), ('menasehati', 1), ('memuja', 1), ('menghamba', 1), ('asap', 1), ('lucu', 1), ('tidaknya', 1), ('dilihat', 1), ('mengorbankan', 1), ('imannya', 1), ('cintaaa', 1), ('ernest', 1), ('story', 1), ('catwomanizer', 1), ('dilecehkan', 1), ('pikirkan', 1), ('bekal', 1), ('amalan', 1), ('dibalas', 1), ('kenikmatan', 1), ('sadarlah', 1), ('petualangan', 1), ('misteri', 1), ('sebabnya', 1), ('menjalaninya', 1), ('yesus', 1), ('kerjaannya', 1), ('drop', 1), ('kiranya', 1), ('jepret', 1), ('salat', 1), ('pniel', 1), ('trims', 1), ('pentiiiing', 1), ('mening', 1), ('bis', 1), ('bersisa', 1), ('plek', 1), ('firman', 1), ('sunnah', 1), ('rasul', 1), ('menemui', 1), ('dimanapun', 1), ('berada', 1), ('mencintai', 1), ('klarifikasi', 1), ('ustadz', 1), ('zulkifli', 1), ('ali', 1), ('dhaif', 1), ('amal', 1), ('sholeh', 1), ('berda', 1), ('sa', 1), ('tommy', 1), ('selasa', 1), ('travelo', 1), ('nihh', 1), ('piala', 1), ('mendungnya', 1), ('biarin', 1), ('meger', 1), ('menguasai', 1), ('demikian', 1), ('lidah', 1), ('anggota', 1), ('memegahkan', 1), ('lihatlah', 1), ('betapapun', 1), ('api', 1), ('membakar', 1), ('diperjelas', 1), ('gratifikasi', 1), ('dilarang', 1), ('dimasyarakatkan', 1), ('terkahir', 1), ('persepsi', 1), ('memukul', 1), ('formal', 1), ('verifikasi', 1), ('syahkan', 1), ('peserta', 1), ('keputusan', 1), ('meski', 1), ('dalamnya', 1), ('kabupaten', 1), ('mendaftar', 1), ('caleg', 1), ('mewakili', 1), ('aspirasi', 1), ('nongkrongnya', 1), ('cafe', 1), ('restoran', 1), ('warung', 1), ('ooh', 1), ('hanyalah', 1), ('fakir', 1), ('ampuni', 1), ('kehendak', 1), ('takfiri', 1), ('cukuplah', 1), ('rabb', 1), ('bersandar', 1), ('meminta', 1), ('pertolongan', 1), ('berlepas', 1), ('mempersekutukanmu', 1), ('pakdok', 1), ('komentar', 1), ('mengenai', 1), ('msg', 1), ('seringkali', 1), ('celotehan', 1), ('sengklek', 1), ('kakehan', 1), ('micin', 1), ('dibuat', 1), ('dokumenter', 1), ('akuny', 1), ('rasulullah', 1), ('berkuasa', 1), ('cobaan', 1), ('kebaikan', 1), ('allahualam', 1), ('termenung', 1), ('seekor', 1), ('rusa', 1), ('sejuta', 1), ('menghampirinya', 1), ('gundah', 1), ('iringi', 1), ('padanya', 1), ('segumpal', 1), ('september', 1), ('penetapan', 1), ('oktober', 1), ('dimulai', 1), ('kampanye', 1), ('senggol', 1), ('bacok', 1), ('bermuka', 1), ('april', 1), ('spj', 1), ('bajunya', 1), ('ngetat', 1), ('lutut', 1), ('pakeannya', 1), ('kewajiban', 1), ('ter', 1), ('courage', 1), ('berbeda', 1), ('asalkan', 1), ('mengatasi', 1), ('diatasi', 1), ('lindungilah', 1), ('ind', 1), ('alloh', 1), ('semesta', 1), ('tamsil', 1), ('nusantara', 1), ('tiang', 1), ('dipancang', 1), ('tergesa', 1), ('gesa', 1), ('pangkalmu', 1), ('ditanam', 1), ('semilir', 1), ('segar', 1), ('caci', 1), ('kutuki', 1), ('dekati', 1), ('tobat', 1), ('vibe', 1), ('jarang', 1), ('pendapat', 1), ('btsnya', 1), ('diserang', 1), ('auratnya', 1), ('nu', 1), ('majelisnuruddin', 1), ('satrionkri', 1), ('semalam', 1), ('rekap', 1), ('usahain', 1), ('zero', 1), ('jiaaaaaaann', 1), ('spanduk', 1), ('pojoan', 1), ('alun', 1), ('keramatkan', 1), ('bid', 1), ('seriustanya', 1), ('bersamamu', 1), ('berharga', 1), ('dear', 1), ('statusnya', 1), ('marketplace', 1), ('pernyataan', 1), ('waras', 1), ('gun', 1), ('radikalisme', 1), ('dibanding', 1), ('elektion', 1), ('bnykn', 1), ('statemen', 1), ('statement', 1), ('ekse', 1), ('ynkz', 1), ('terheran', 1), ('goda', 1), ('evolusi', 1), ('sebaliknya', 1), ('lebi', 1), ('egi', 1), ('pamit', 1), ('tementemen', 1), ('sisil', 1), ('syok', 1), ('ngekek', 1), ('menolak', 1), ('membuatku', 1), ('bertahan', 1), ('hubungannya', 1), ('imvu', 1), ('agun', 1), ('enggan', 1), ('mengutamakan', 1), ('karir', 1), ('pendidikan', 1), ('lisa', 1), ('kalopun', 1), ('yanglek', 1), ('kepastian', 1), ('tanggalan', 1), ('bi', 1), ('dipaksain', 1), ('followers', 1), ('ribuan', 1), ('hujat', 1), ('unfollow', 1), ('dikursi', 1), ('belajarku', 1), ('remang', 1), ('bolak', 1), ('nelp', 1), ('fk', 1), ('paralel', 1), ('dipengen', 1), ('speak', 1), ('lebay', 1), ('boong', 1), ('ngatasin', 1), ('traumanya', 1), ('judge', 1), ('sudahlah', 1), ('terlewati', 1), ('lihatnya', 1), ('okesip', 1), ('ularrr', 1), ('hantar', 1), ('tetamu', 1), ('sesungguhnya', 1), ('belit', 1), ('belitan', 1), ('menggelikan', 1), ('dospem', 1), ('skrgpun', 1), ('ngawang', 1), ('tatap', 1), ('tatapan', 1), ('pastinya', 1), ('bangeeeeeettt', 1), ('lariiiiiiii', 1), ('scot', 1), ('gerangan', 1), ('sesosok', 1), ('tahunan', 1), ('ngebunuh', 1), ('ketidaktahuannya', 1), ('malapetaka', 1), ('army', 1), ('teknologi', 1), ('pangan', 1), ('tenangin', 1), ('perkuliahan', 1), ('konyol', 1), ('ban', 1), ('benjol', 1), ('rem', 1), ('pertanda', 1), ('terpengaruh', 1), ('daya', 1), ('sifatnya', 1), ('objeknya', 1), ('kebencian', 1), ('miss', 1), ('antisipasi', 1), ('kegiatan', 1), ('berujung', 1), ('disertai', 1), ('vandalisme', 1), ('terciptanya', 1), ('kenyamanan', 1), ('raya', 1), ('akukan', 1), ('sepatu', 1), ('po', 1), ('enaknya', 1), ('penjual', 1), ('ditelanjangi', 1), ('jauhi', 1), ('korupsi', 1), ('kerna', 1), ('takutlah', 1), ('badanku', 1), ('kg', 1), ('langsing', 1), ('gapura', 1), ('janganbullyaku', 1), ('manasin', 1), ('diceritain', 1), ('apel', 1), ('preman', 1), ('kakaknya', 1), ('nyekolahin', 1), ('ngamen', 1), ('ngebegal', 1), ('lahi', 1), ('nodong', 1), ('piso', 1), ('auto', 1), ('gundul', 1), ('seklai', 1), ('pemicu', 1), ('infeksi', 1), ('saluran', 1), ('lengah', 1), ('kepraktisan', 1), ('perhatikan', 1), ('ud', 1), ('lancarkanlah', 1), ('judulnya', 1), ('pastian', 1), ('penantian', 1), ('aspek', 1), ('dek', 1), ('melebihi', 1), ('sekalipun', 1), ('mengabari', 1), ('girlfriend', 1), ('pujuk', 1), ('bf', 1), ('merajuk', 1), ('dont', 1), ('want', 1), ('lose', 1), ('automatik', 1), ('dtg', 1), ('jambret', 1), ('nenteng', 1), ('alhasil', 1), ('gabut', 1), ('basah', 1), ('pemberian', 1), ('baladaanakdaerah', 1), ('timi', 1), ('serambi', 1), ('tercampakan', 1), ('twibbon', 1), ('univnya', 1), ('swasta', 1), ('dipandang', 1), ('layak', 1), ('tampil', 1), ('diinstagram', 1), ('salty', 1), ('sepupuku', 1), ('disaranin', 1), ('mobilny', 1), ('nyebrangnya', 1), ('memperlihatkan', 1), ('medsosku', 1), ('from', 1), ('catatan', 1), ('risikonya', 1), ('tanggung', 1), ('tukaran', 1), ('password', 1), ('pembajakan', 1), ('beredar', 1), ('luna', 1), ('suzzanna', 1), ('dilewati', 1), ('truck', 1), ('nyawa', 1), ('umpatan', 1), ('arus', 1), ('kang', 1), ('macetnya', 1), ('isteri', 1), ('cerai', 1), ('pakaianku', 1), ('kerudung', 1), ('dada', 1), ('rok', 1), ('kabaran', 1), ('random', 1), ('wajar', 1), ('suicide', 1), ('ditambah', 1), ('nanyain', 1), ('brusan', 1), ('sawa', 1), ('ukuran', 1), ('pipa', 1), ('pralon', 1), ('tutupin', 1), ('elastis', 1), ('dihina', 1), ('dibully', 1), ('hasrat', 1), ('sexual', 1), ('nyalurin', 1), ('debat', 1), ('guee', 1), ('pegangan', 1), ('correct', 1), ('me', 1), ('i', 1), ('wrong', 1), ('deng', 1), ('canggung', 1), ('percobaan', 1), ('makar', 1), ('menggulingkan', 1), ('hukum', 1), ('mphi', 1), ('taehyung', 1), ('psikopat', 1), ('siksa', 1), ('beracun', 1), ('puber', 1), ('dikecewain', 1), ('seindah', 1), ('diterima', 1), ('vj', 1), ('pn', 1), ('skali', 1), ('totol', 1), ('polkadot', 1), ('terngiang', 1), ('geli', 1), ('waton', 1), ('tersebar', 1), ('milih', 1), ('ngebuntutin', 1), ('bangkai', 1), ('tancap', 1), ('lbih', 1), ('ngerinya', 1), ('sesaat', 1), ('didlm', 1), ('sim', 1), ('atm', 1), ('gawat', 1), ('semen', 1), ('keseringan', 1), ('begadang', 1), ('sayur', 1), ('langsunh', 1), ('jastip', 1), ('tambahannya', 1), ('bahagiain', 1), ('pasangan', 1), ('banding', 1), ('bandingin', 1), ('ditelpon', 1), ('laporin', 1), ('berdasarkan', 1), ('teregisterasi', 1), ('ditindaklanjuti', 1), ('ribut', 1), ('quote', 1), ('gengnya', 1), ('nyebar', 1), ('versi', 1), ('ekstrem', 1), ('mlm', 1), ('sekitaran', 1), ('flyover', 1), ('tanjung', 1), ('barat', 1), ('ragunan', 1), ('segerombolan', 1), ('tindak', 1), ('terimakasih', 1), ('menelponmu', 1), ('kerumah', 1), ('menemuimu', 1), ('sedunia', 1), ('sesekali', 1), ('menguping', 1), ('mengintip', 1), ('halusnya', 1), ('toxic', 1), ('kasarin', 1), ('teenchoice', 1), ('choicefandom', 1), ('btsarmy', 1), ('kamus', 1), ('meskipun', 1), ('dicek', 1), ('grammar', 1), ('ngerasanya', 1), ('tombol', 1), ('kepencet', 1), ('ekspresinya', 1), ('tutur', 1), ('menohok', 1), ('etto', 1), ('iie', 1), ('juvia', 1), ('memastikan', 1), ('beruntusan', 1), ('pengobatan', 1), ('berhari', 1), ('junub', 1), ('diperbolehkan', 1), ('sperma', 1), ('donk', 1), ('ketakuan', 1), ('tersendiri', 1), ('recent', 1), ('oramg', 1), ('gantiin', 1), ('ava', 1), ('status', 1), ('hahahahah', 1), ('halus', 1), ('aloevera', 1), ('nyalahin', 1), ('overthinking', 1), ('siklus', 1), ('hai', 1), ('um', 1), ('undip', 1), ('paruh', 1), ('baya', 1), ('menghampiri', 1), ('papan', 1), ('bertuliskan', 1), ('jefry', 1), ('mengira', 1), ('minggunya', 1), ('asdfghjkl', 1), ('aduh', 1), ('gilasih', 1), ('tengahnya', 1), ('mayat', 1), ('ditakutkan', 1), ('mahasiswi', 1), ('tuan', 1), ('caranya', 1), ('ngehadepin', 1), ('dichat', 1), ('ngeread', 1), ('responnya', 1), ('langkah', 1), ('mandang', 1), ('berakhir', 1), ('jerawatku', 1), ('tlg', 1), ('botak', 1), ('salon', 1), ('mbanya', 1), ('akarnya', 1), ('digituin', 1), ('pdahal', 1), ('banyakin', 1), ('isinya', 1), ('sharing', 1), ('hadist', 1), ('paroki', 1), ('sebaiknya', 1), ('jinnya', 1), ('keciduk', 1), ('dahsyah', 1), ('menciptakan', 1), ('detailnya', 1), ('hinggal', 1), ('berasal', 1), ('bude', 1), ('diusirlah', 1), ('menggendong', 1), ('nganga', 1), ('membatin', 1), ('depanku', 1), ('blits', 1), ('cahaya', 1), ('kurangi', 1), ('terkadang', 1), ('tertinggal', 1), ('memelukmu', 1), ('perpisahan', 1), ('beeuughhh', 1), ('duluuuu', 1), ('cukur', 1), ('bersihkan', 1), ('ituloh', 1), ('pisonya', 1), ('sterilkah', 1), ('dibalik', 1), ('pasangannya', 1), ('kekurangan', 1), ('kos', 1), ('ruqiyah', 1), ('oknuum', 1), ('kebakaran', 1), ('pemadam', 1), ('kebakarannya', 1), ('dihalang', 1), ('halangin', 1), ('ibukota', 1), ('terkaget', 1), ('disapa', 1), ('menyadari', 1), ('penyamaran', 1), ('qerja', 1), ('lembur', 1), ('kuda', 1), ('pengendara', 1), ('helm', 1), ('serangga', 1), ('spontan', 1), ('tissue', 1), ('sejajar', 1), ('lokasi', 1), ('tetesan', 1), ('tisu', 1), ('braniin', 1), ('flu', 1), ('percuma', 1), ('baunya', 1), ('which', 1), ('terhampar', 1), ('luas', 1), ('abiiiss', 1), ('phobia', 1), ('merasakan', 1), ('terindah', 1), ('ketahuilah', 1), ('tiada', 1), ('kekasih', 1), ('sayyidina', 1), ('muhammad', 1), ('bibir', 1), ('bershalawat', 1), ('hatipun', 1), ('bergetar', 1), ('terpapar', 1), ('bertepi', 1), ('nabi', 1), ('tulus', 1), ('lekang', 1), ('kiamat', 1), ('ngelike', 1), ('leave', 1), ('alone', 1), ('kekamar', 1), ('kamarmandi', 1), ('scared', 1), ('sulam', 1), ('ketebalan', 1), ('sincan', 1), ('mengering', 1), ('peel', 1), ('nahan', 1), ('gading', 1), ('persimpangannya', 1), ('selamanya', 1), ('sambungin', 1), ('shufle', 1), ('lagunya', 1), ('cem', 1), ('desah', 1), ('ngecilin', 1), ('volume', 1), ('cus', 1), ('ibuku', 1), ('efeknya', 1), ('tiduran', 1), ('beradaptasi', 1), ('penghuni', 1), ('gangguin', 1), ('realitanya', 1), ('kebalikan', 1), ('analisis', 1), ('kebablasan', 1), ('menduga', 1), ('duga', 1), ('soonhoon', 1), ('imajinasiku', 1), ('ditelusuri', 1), ('penangkapan', 1), ('terduga', 1), ('teroris', 1), ('puluhan', 1), ('diantaranya', 1), ('ditembak', 1), ('votenya', 1), ('trainees', 1), ('vote', 1), ('kecuali', 1), ('trainee', 1), ('ketebak', 1), ('debut', 1), ('basa', 1), ('menyapa', 1), ('assalamualaikum', 1), ('keracunan', 1), ('langsu', 1), ('dinasehatin', 1), ('shopee', 1), ('ribu', 1), ('real', 1), ('rekening', 1), ('atmnya', 1), ('zarry', 1), ('hendrik', 1), ('jualan', 1), ('barangnya', 1), ('orderan', 1), ('customer', 1), ('beliin', 1), ('tuntut', 1), ('tuntutanmu', 1), ('terimalah', 1), ('kupastikan', 1), ('kubuat', 1), ('bahagia', 1), ('caraku', 1), ('diklaksonin', 1), ('nyenggol', 1), ('perkembangn', 1), ('khidupn', 1), ('sungguh', 1), ('dahsyat', 1), ('dirasakn', 1), ('pula', 1), ('mengedepankn', 1), ('kberadabn', 1), ('kulitnya', 1), ('skincarenya', 1), ('pengenalan', 1), ('dago', 1), ('merupakan', 1), ('tersempit', 1), ('terterjal', 1), ('pagar', 1), ('terpendek', 1), ('naikin', 1), ('gamis', 1), ('sya', 1), ('lemas', 1), ('terkejut', 1), ('mendengarmu', 1), ('meneriakinya', 1), ('jiwanya', 1), ('melompat', 1), ('jumpscare', 1), ('disebelahnya', 1), ('tersadar', 1), ('instan', 1), ('sayangi', 1), ('drw', 1), ('ples', 1), ('mengecewakan', 1), ('icut', 1), ('gelaaaa', 1), ('lompat', 1), ('perkenalan', 1), ('beruang', 1), ('buas', 1), ('mampus', 1), ('jambi', 1), ('gangguan', 1), ('sosok', 1), ('mistis', 1), ('dengarnya', 1), ('paniknya', 1), ('dibagikan', 1), ('dikelas', 1), ('rela', 1), ('kekantin', 1), ('kknlyfe', 1), ('day', 1), ('galonnya', 1), ('gunung', 1), ('subhannallah', 1), ('tempuh', 1), ('tanjakan', 1), ('jalannya', 1), ('ngefollow', 1), ('haruskah', 1), ('uname', 1), ('gojek', 1), ('batu', 1), ('ujungnya', 1), ('nyamperin', 1), ('dera', 1), ('alter', 1), ('flashing', 1), ('her', 1), ('boobs', 1), ('once', 1), ('while', 1), ('maksimal', 1), ('pkl', 1), ('setres', 1), ('dadakan', 1), ('nyabutnya', 1), ('santae', 1), ('kuku', 1), ('softlennya', 1), ('soflen', 1), ('warnaan', 1), ('gangapain', 1), ('ujug', 1), ('perih', 1), ('etaunya', 1), ('robek', 1), ('dikeluari', 1), ('membayangkan', 1), ('dimasjid', 1), ('shooower', 1), ('retweet', 1), ('peminat', 1), ('wayang', 1), ('menjerit', 1), ('keposesifan', 1), ('diapain', 1), ('gebetan', 1), ('campak', 1), ('kotak', 1), ('pahanya', 1), ('teh', 1), ('piknik', 1), ('nelpon', 1), ('lakukan', 1), ('singanya', 1), ('kenak', 1), ('uh', 1), ('anonla', 1), ('mendapatkan', 1), ('dipertemukan', 1), ('impression', 1), ('abel', 1), ('ii', 1), ('cikur', 1), ('tokopedia', 1), ('laporannya', 1), ('tercantum', 1), ('dimaksud', 1), ('dilemma', 1), ('lapar', 1), ('go', 1), ('food', 1), ('naspad', 1), ('duta', 1), ('minang', 1), ('kesiangan', 1), ('huu', 1), ('ngebantuin', 1), ('nyaaa', 1), ('kesimpulan', 1), ('quran', 1), ('yaitu', 1), ('selebihnya', 1), ('susan', 1), ('ngeong', 1), ('melolong', 1), ('manjat', 1), ('lt', 1), ('elektronik', 1), ('headset', 1), ('baterai', 1), ('soalnnya', 1), ('botol', 1), ('spray', 1), ('suhu', 1), ('cd', 1), ('diliat', 1), ('mens', 1), ('hue', 1), ('besoknya', 1), ('pe', 1), ('dihibur', 1), ('onet', 1), ('curry', 1), ('points', 1), ('masuknya', 1), ('nurunun', 1), ('ceklis', 1), ('hubungin', 1), ('jinhyuk', 1), ('menatap', 1), ('membalas', 1), ('lukis', 1), ('rek', 1), ('tergiur', 1), ('setorannya', 1), ('ketemunya', 1), ('ajar', 1), ('berlari', 1), ('menfess', 1), ('rantau', 1), ('logat', 1), ('campur', 1), ('bahasa', 1), ('thomasnya', 1), ('pingsan', 1), ('bantalnya', 1), ('laah', 1), ('menjombs', 1), ('jombs', 1), ('masnya', 1), ('pelarian', 1), ('pelarianku', 1), ('moveon', 1), ('idamanku', 1), ('pelaria', 1), ('ketindihan', 1), ('gerbang', 1), ('plz', 1), ('jago', 1), ('rapet', 1), ('oksigen', 1), ('modyar', 1), ('dibioskop', 1), ('kakinya', 1), ('ngiket', 1), ('karet', 1), ('biaya', 1), ('miskin', 1), ('terlepas', 1), ('oplas', 1), ('zonknya', 1), ('kdang', 1), ('natural', 1), ('dioplas', 1), ('kecanduan', 1), ('ngerombak', 1), ('plastic', 1), ('ptn', 1), ('gobloknya', 1), ('dibikinin', 1), ('kemarenan', 1), ('dilawan', 1), ('mencoba', 1), ('ditantang', 1), ('marketing', 1), ('plan', 1), ('co', 1), ('branding', 1), ('biru', 1), ('strateginya', 1), ('kepalang', 1), ('anik', 1), ('mengisi', 1), ('forum', 1), ('menyampaikan', 1), ('selevel', 1), ('terbersit', 1), ('kubur', 1), ('fana', 1), ('terseram', 1), ('caraka', 1), ('belantara', 1), ('dibayangin', 1), ('apalin', 1), ('pocongan', 1), ('lewatin', 1), ('parit', 1), ('melipir', 1), ('taxi', 1), ('dipaksa', 1), ('dijahatin', 1), ('liatin', 1), ('brunei', 1), ('menghilang', 1), ('dihipnotis', 1), ('visit', 1), ('pasiennya', 1), ('meninngal', 1), ('diperiksa', 1), ('olx', 1), ('ladang', 1), ('penipu', 1), ('pajang', 1), ('cod', 1), ('maksa', 1), ('mandiri', 1), ('checkup', 1), ('warning', 1), ('tensi', 1), ('kolesterol', 1), ('pusingnya', 1), ('spertinya', 1), ('gejala', 1), ('maag', 1), ('nyruput', 1), ('overwhelmed', 1), ('urusan', 1), ('sensi', 1), ('atmosphere', 1), ('tersayang', 1), ('karyawannya', 1), ('detail', 1), ('tujuannya', 1), ('jawabnya', 1), ('bosnya', 1), ('berkokoknya', 1), ('semenit', 1), ('bunyinya', 1), ('ngelonglong', 1), ('bocorin', 1), ('rahasia', 1), ('gigi', 1), ('susu', 1), ('copot', 1), ('huhuhuhuhu', 1), ('george', 1), ('ketip', 1), ('honda', 1), ('new', 1), ('supra', 1), ('bensin', 1), ('seliternya', 1), ('ngisinya', 1), ('berabe', 1), ('menyebrang', 1), ('margonda', 1), ('juanda', 1), ('zebra', 1), ('cross', 1), ('ngerem', 1), ('bukakanlah', 1), ('menuju', 1), ('surga', 1), ('tutupkan', 1), ('berikanlah', 1), ('menelaah', 1), ('wahai', 1), ('menurunkan', 1), ('mukmin', 1), ('dzuhur', 1), ('genteng', 1), ('berisik', 1), ('kedasi', 1), ('uncuing', 1), ('ngebangunin', 1), ('santap', 1), ('menyimak', 1), ('ceramah', 1), ('yon', 1), ('syiah', 1), ('seketika', 1), ('itt', 1), ('bakteri', 1), ('replyannya', 1), ('daftarnya', 1), ('tekkim', 1), ('farmasi', 1), ('fisikanya', 1), ('peliharaan', 1), ('bangeeet', 1), ('mls', 1), ('gini', 1), ('tapiiiiiiiiiii', 1), ('benahin', 1), ('ngurangin', 1), ('ditrack', 1), ('resinya', 1), ('suratnya', 1), ('murah', 1), ('singapore', 1), ('survey', 1), ('krena', 1), ('tmptnya', 1), ('bnr', 1), ('artikelnya', 1), ('alumni', 1), ('ditulis', 1), ('angker', 1), ('menularnya', 1), ('dicukur', 1), ('cukurnya', 1), ('steril', 1), ('ekok', 1), ('deteksi', 1), ('dini', 1), ('pelajaran', 1), ('berikutnya', 1), ('cepetan', 1), ('gurunya', 1), ('satinah', 1), ('biarpun', 1), ('pic', 1), ('dikumpulin', 1), ('ngirim', 1), ('yoongi', 1), ('block', 1), ('energy', 1), ('pict', 1), ('djkddjdldl', 1), ('akinya', 1), ('terbakar', 1), ('terios', 1), ('mertua', 1), ('dicheck', 1), ('terrbakar', 1), ('diparkir', 1), ('action', 1), ('pengabdi', 1), ('trailernya', 1), ('melanjutkan', 1), ('pisah', 1), ('anjrittt', 1), ('pulng', 1), ('jarak', 1), ('kuranglebih', 1), ('menitan', 1), ('sokan', 1), ('tema', 1), ('comeback', 1), ('ftisland', 1), ('aposeee', 1), ('explore', 1), ('like', 1), ('follow', 1), ('bubble', 1), ('over', 1), ('curated', 1), ('kelebatan', 1), ('gs', 1), ('kerusuhan', 1), ('menyertai', 1), ('private', 1), ('keulang', 1), ('selfi', 1), ('gendakan', 1), ('kekirim', 1), ('posenya', 1), ('gabanget', 1), ('sorry', 1), ('jorok', 1), ('prnah', 1), ('lend', 1), ('r', 1), ('darahnya', 1), ('gumpal', 1), ('dipakein', 1), ('jaring', 1), ('mahkluk', 1), ('pekat', 1), ('pesentren', 1), ('bentukannya', 1), ('naujubillah', 1), ('pengliatan', 1), ('kuning', 1), ('ketindisan', 1), ('why', 1), ('interested', 1), ('movie', 1), ('pakenya', 1), ('pelayaran', 1), ('parahnya', 1), ('atasannya', 1), ('beristri', 1), ('bentar', 1), ('camp', 1), ('organisasi', 1), ('perkemahan', 1), ('anehnya', 1), ('related', 1), ('kehidupan', 1), ('honestly', 1), ('manapun', 1), ('nakutin', 1), ('ehe', 1), ('mengurangi', 1), ('dikeluarkan', 1), ('pelaku', 1), ('okay', 1), ('kenyataan', 1), ('perhatiin', 1), ('umayan', 1), ('dijadikan', 1), ('taman', 1), ('lencana', 1), ('koin', 1), ('nyanyi', 1), ('nadanya', 1), ('lirik', 1), ('ngusir', 1), ('didunia', 1), ('kamulah', 1), ('khawatirkan', 1), ('digodain', 1), ('titit', 1), ('distasiun', 1), ('anter', 1), ('godain', 1), ('dikosan', 1), ('wanjay', 1), ('tawon', 1), ('perhari', 1), ('dibiarin', 1), ('mateng', 1), ('diletusin', 1), ('lingkaran', 1), ('loading', 1), ('tersimpan', 1), ('claims', 1), ('penggantinya', 1), ('pet', 1), ('soc', 1), ('gitulo', 1), ('mencurigakan', 1), ('justin', 1), ('selena', 1), ('membuktikan', 1), ('kebawa', 1), ('jb', 1), ('nikahin', 1), ('kontak', 1), ('asing', 1), ('sinisin', 1), ('galak', 1), ('cap', 1), ('sombong', 1), ('diputusin', 1), ('diselingkuhin', 1), ('diporotin', 1), ('kua', 1), ('gimanaaa', 1), ('gimanaa', 1), ('rl', 1), ('pls', 1), ('shel', 1), ('musnah', 1), ('sva', 1), ('gen', 1), ('press', 1), ('nista', 1), ('bullyable', 1), ('kas', 1), ('hov', 1), ('iyaaaa', 1), ('sekecil', 1), ('gendut', 1), ('birahi', 1), ('cowonya', 1), ('ira', 1), ('dilewatin', 1), ('akhri', 1), ('infeksius', 1), ('hiv', 1), ('aids', 1), ('duhh', 1), ('obatnya', 1), ('ahok', 1), ('jurkamnya', 1), ('bro', 1), ('nemo', 1), ('movement', 1), ('berbalik', 1), ('ikon', 1), ('panggung', 1), ('seinnya', 1), ('reflek', 1), ('ngecek', 1), ('tolol', 1), ('ready', 1), ('tomorrow', 1), ('pantat', 1), ('yamana', 1), ('negur', 1), ('seenaknya', 1), ('nyaris', 1), ('motorku', 1), ('trend', 1), ('diriku', 1), ('influencer', 1), ('karen', 1), ('influence', 1), ('original', 1), ('kebutuhan', 1), ('endingnya', 1), ('logisnya', 1), ('mega', 1), ('huaaaa', 1), ('akut', 1), ('kagetan', 1), ('makasih', 1), ('ojan', 1), ('ibad', 1), ('haekal', 1), ('pr', 1), ('dipungkiri', 1), ('mempengaruhi', 1), ('disekitarnya', 1), ('jek', 1), ('gunanya', 1), ('milik', 1), ('titipan', 1), ('dikembalikan', 1), ('tuntunan', 1), ('membantu', 1), ('ramadan', 1), ('huhuu', 1), ('headline', 1), ('bunuh', 1), ('kakek', 1), ('perkosa', 1), ('cucu', 1), ('solo', 1), ('penularan', 1), ('vertikal', 1), ('disarankan', 1), ('menjaga', 1), ('bayinya', 1), ('horizontal', 1), ('ade', 1), ('nurunin', 1), ('sekarangpun', 1), ('momen', 1), ('nenangin', 1), ('latihan', 1), ('pura', 1), ('dokterpun', 1), ('tikusnya', 1), ('berbicara', 1), ('patah', 1), ('kuduk', 1), ('bgtu', 1), ('sesak', 1), ('entahlah', 1), ('kesetiaan', 1), ('seri', 1), ('photo', 1), ('copyan', 1), ('dipotongi', 1), ('kcl', 1), ('potensi', 1), ('pendapatan', 1), ('disave', 1), ('draf', 1), ('chingudeulll', 1), ('hhhh', 1), ('abisan', 1), ('menjamin', 1), ('kebahagiaan', 1), ('dapatkan', 1), ('tegang', 1), ('jurnalrisa', 1), ('jendela', 1), ('berati', 1), ('menahan', 1), ('ulat', 1), ('ulet', 1), ('tas', 1), ('diceramahin', 1), ('kompor', 1), ('palaur', 1), ('gratak', 1), ('berkat', 1), ('india', 1), ('antv', 1), ('contoh', 1), ('mr', 1), ('bertengkar', 1), ('cekcok', 1), ('perihal', 1), ('membuatnya', 1), ('bujuk', 1), ('rayu', 1), ('supermarket', 1), ('kejadiannya', 1), ('telunjuk', 1), ('nancep', 1), ('matung', 1), ('jerit', 1), ('rasakan', 1), ('lampunya', 1), ('alasanku', 1), ('penyimak', 1), ('abadi', 1), ('terabaikan', 1), ('lul', 1), ('dinda', 1), ('chatnya', 1), ('komisi', 1), ('perlindungan', 1), ('pembelajaran', 1), ('sebatas', 1), ('meninggalkan', 1), ('penyesalan', 1), ('warnanya', 1), ('kelewat', 1), ('magrib', 1), ('nyiapin', 1), ('pasca', 1), ('ngopi', 1), ('vietnam', 1), ('terenak', 1), ('imho', 1), ('ngantukk', 1), ('goler', 1), ('sosmed', 1), ('yt', 1), ('pubg', 1), ('smpai', 1), ('kecium', 1), ('nyengat', 1), ('keesokan', 1), ('genderuwo', 1), ('misalnya', 1), ('dialihin', 1), ('prodi', 1), ('penjelasannya', 1), ('campaign', 1), ('miris', 1), ('kpribadian', 1), ('sbnernya', 1), ('perhtiin', 1), ('smbil', 1), ('charge', 1), ('tandanya', 1), ('abistu', 1), ('tungkai', 1), ('gemetaran', 1), ('peluh', 1), ('berjatuhan', 1), ('atasan', 1), ('mafia', 1), ('issues', 1), ('berlebihan', 1), ('berbau', 1), ('life', 1), ('percayaan', 1), ('pacarku', 1), ('bwa', 1), ('tmennya', 1), ('berurusan', 1), ('kunti', 1), ('mengerang', 1), ('sejaman', 1), ('memetwit', 1), ('ibarat', 1), ('kdrt', 1), ('tentu', 1), ('rendah', 1), ('pekerjaan', 1), ('mentalku', 1), ('loser', 1), ('molor', 1), ('puteran', 1), ('busway', 1), ('pelisss', 1), ('kecebur', 1), ('terperangkap', 1), ('didalam', 1), ('guanya', 1), ('banjir', 1), ('licin', 1), ('ajach', 1), ('kepleset', 1), ('galfok', 1), ('sakitnya', 1), ('plus', 1), ('serangan', 1), ('nervous', 1), ('agenda', 1), ('gatenang', 1), ('sukses', 1), ('ombudsman', 1), ('ri', 1), ('kebenaran', 1), ('ditindak', 1), ('lanjuti', 1), ('tempo', 1), ('sesingkatnya', 1), ('permasalahan', 1), ('penundaan', 1), ('berlaru', 1), ('merepotkanmu', 1), ('tanyanya', 1), ('hifumi', 1), ('mengambil', 1), ('memakainya', 1), ('kebesaran', 1), ('toh', 1), ('ygl', 1), ('mendalam', 1), ('ngapa', 1), ('galari', 1), ('well', 1), ('would', 1), ('thing', 1), ('were', 1), ('kmd', 1), ('handukin', 1), ('sesring', 1), ('kirakira', 1), ('seruuu', 1), ('ngebingungin', 1), ('kelebihan', 1), ('yaudahh', 1), ('dijalanin', 1), ('one', 1), ('ditemukan', 1), ('harimau', 1), ('halaman', 1), ('saksi', 1), ('terpercaya', 1), ('menurunnya', 1), ('jumlah', 1), ('kijang', 1), ('diburu', 1), ('kepemilikan', 1), ('senapan', 1), ('lambat', 1), ('laun', 1), ('bergesekan', 1), ('gapada', 1), ('grgr', 1), ('celakanya', 1), ('hotel', 1), ('terjual', 1), ('mengandung', 1), ('fixed', 1), ('cost', 1), ('relatif', 1), ('airlines', 1), ('bahan', 1), ('viwihotdealsformiddleeast', 1), ('semacamnya', 1), ('naroh', 1), ('cucian', 1), ('gudang', 1), ('ngelantur', 1), ('disiksa', 1), ('dibenarkan', 1), ('risiko', 1), ('dipilih', 1), ('sihh', 1), ('terdiri', 1), ('lawannya', 1), ('seluruh', 1), ('kalii', 1), ('bor', 1), ('almarhum', 1), ('duet', 1), ('legend', 1), ('dueg', 1), ('teknik', 1), ('mengamatimu', 1), ('ritual', 1), ('dibentak', 1), ('dimarah', 1), ('untungnya', 1), ('kekerasan', 1), ('fisik', 1), ('segi', 1), ('akting', 1), ('ngebekas', 1), ('capcus', 1), ('nicch', 1), ('diperkirakan', 1), ('sumatera', 1), ('jumat', 1), ('bb', 1), ('oot', 1), ('maki', 1), ('menjalin', 1), ('lgs', 1), ('sit', 1), ('diinget', 1), ('genderuw', 1), ('hilma', 1), ('tmnku', 1), ('sangobion', 1), ('vit', 1), ('beruntung', 1), ('hil', 1), ('mbatin', 1), ('dicoba', 1), ('yess', 1), ('kriteriaku', 1), ('bosenan', 1), ('penerima', 1), ('ditutup', 1), ('telpnya', 1), ('angkat', 1), ('dikenal', 1), ('area', 1), ('alor', 1), ('gajah', 1), ('pengkalan', 1), ('balak', 1), ('etc', 1), ('elakkan', 1), ('diingat', 1), ('kesekolah', 1), ('sendian', 1), ('dibelikan', 1), ('permen', 1), ('pin', 1), ('blan', 1), ('pertandingan', 1), ('bulutangkis', 1), ('terbuat', 1), ('knw', 1), ('teramat', 1), ('pandang', 1), ('psikolog', 1), ('pertamanya', 1), ('jelasin', 1), ('ucapanku', 1), ('diperhatikan', 1), ('mendiaminya', 1), ('dimusuhinya', 1), ('berkata', 1), ('menyinggung', 1), ('perasaanya', 1), ('percayalah', 1), ('euphoria', 1), ('dibeliin', 1), ('kebapakan', 1), ('happy', 1), ('keinginan', 1), ('kru', 1), ('istighfar', 1), ('didpan', 1), ('tabungan', 1), ('ngomel', 1), ('gatakut', 1), ('ajaib', 1), ('luluslah', 1), ('kapanlah', 1), ('yaampon', 1), ('ngeexpect', 1), ('lecet', 1), ('geser', 1), ('kerjaanku', 1), ('konco', 1), ('hiu', 1), ('megalodon', 1), ('visualisasi', 1), ('jenis', 1), ('jalaninnya', 1), ('mundur', 1), ('terbaik', 1), ('persiapan', 1), ('gosong', 1), ('ospek', 1), ('dilatih', 1), ('militer', 1), ('outbound', 1), ('diksarlin', 1), ('god', 1), ('pajak', 1), ('harusnya', 1), ('berikut', 1), ('diblacklist', 1), ('holcim', 1), ('nyalinya', 1), ('ciut', 1), ('mendesak', 1), ('paksain', 1), ('kaku', 1), ('karuan', 1), ('bok', 1), ('diminta', 1), ('menampung', 1), ('rekomendasi', 1), ('medeteksi', 1), ('ngetiknya', 1), ('copy', 1), ('paste', 1), ('roomchat', 1), ('close', 1), ('lemah', 1), ('sedangkan', 1), ('hpalah', 1), ('pidato', 1), ('retak', 1), ('tujuh', 1), ('detik', 1), ('tebas', 1), ('rejeki', 1), ('relovan', 1), ('tik', 1), ('tok', 1), ('somay', 1), ('berselisiban', 1), ('pertamina', 1), ('aih', 1), ('pulogebang', 1), ('belokan', 1), ('pasir', 1), ('dagingnya', 1), ('ditolongin', 1), ('tmnnya', 1), ('bw', 1), ('hti', 1), ('last', 1), ('karin', 1), ('pontianak', 1), ('pon', 1), ('meja', 1), ('sepolos', 1), ('ituuuu', 1), ('ngelive', 1), ('ngehujat', 1), ('dianya', 1), ('soft', 1), ('kejamnya', 1), ('bermasalah', 1), ('opang', 1), ('ganteng', 1), ('lantainya', 1), ('dibuka', 1), ('membukanya', 1), ('bnda', 1), ('bkl', 1), ('trjadi', 1), ('tjadi', 1), ('sekeliling', 1), ('sndiri', 1), ('hate', 1), ('just', 1), ('rn', 1), ('fml', 1), ('tadinya', 1), ('yaelah', 1), ('tergoyah', 1), ('tentunya', 1), ('kurindukan', 1), ('edinburgh', 1), ('town', 1), ('princess', 1), ('calton', 1), ('hill', 1), ('ge', 1), ('istilah', 1), ('planning', 1), ('kedengeran', 1), ('ambulance', 1), ('hujan', 1), ('deres', 1), ('petir', 1), ('ne', 1), ('selimut', 1), ('ing', 1), ('jarum', 1), ('dinding', 1), ('terpaksa', 1), ('batre', 1), ('adain', 1), ('imunisasi', 1), ('kelenteng', 1), ('depopulasi', 1), ('terku', 1), ('ngetes', 1), ('perangkat', 1), ('elektromagnetik', 1), ('komputer', 1), ('bersikap', 1), ('ditakutin', 1), ('ketelen', 1), ('berbela', 1), ('sungkawa', 1), ('mengirimkan', 1), ('dipencet', 1), ('terbahak', 1), ('bahak', 1), ('huehehe', 1), ('selimutan', 1), ('mawar', 1), ('olah', 1), ('terselubung', 1), ('terang', 1), ('terangan', 1), ('izinkan', 1), ('bahagiakan', 1), ('orangtuaku', 1), ('tertidur', 1), ('peristirahatanya', 1), ('peredaran', 1), ('dibiarkan', 1), ('ekstra', 1), ('mengkonsumsi', 1), ('menyebarkannya', 1), ('ba', 1), ('berlima', 1), ('dipertigaan', 1), ('ketutupan', 1), ('gendong', 1), ('ag', 1), ('ngebayanginnya', 1), ('tanggap', 1), ('hebat', 1), ('cengo', 1), ('perawatannya', 1), ('kecatet', 1), ('riwayat', 1), ('bpjs', 1), ('dibaca', 1), ('homo', 1), ('respect', 1), ('jangankan', 1), ('blakan', 1), ('jomblo', 1), ('hidupnya', 1), ('sukanya', 1), ('reaksi', 1), ('apasi', 1), ('goblox', 1), ('ngecewain', 1), ('cengeng', 1), ('ngamau', 1), ('dikhianati', 1), ('jalanannya', 1), ('terusan', 1), ('alkohol', 1), ('dibegal', 1), ('sebioskop', 1), ('doang', 1), ('teaser', 1), ('coming', 1), ('soon', 1), ('laaahhh', 1), ('serrr', 1), ('kalah', 1), ('penasarannya', 1), ('perlahan', 1), ('menyalakan', 1), ('pegang', 1), ('mengarahkan', 1), ('membahayakan', 1), ('mayoritas', 1), ('tantangan', 1), ('feelings', 1), ('gerakan', 1), ('juno', 1), ('perutnya', 1), ('membesar', 1), ('goyangan', 1), ('gelombang', 1), ('meter', 1), ('menghantam', 1), ('pesisir', 1), ('selatan', 1), ('pulau', 1), ('parangtritis', 1), ('pangandaran', 1), ('rancabuaya', 1), ('agustus', 1), ('macet', 1), ('disamping', 1), ('omongannya', 1), ('spot', 1), ('poltekkes', 1), ('sbm', 1), ('dihujat', 1), ('kesian', 1), ('sebagainya', 1), ('tapikan', 1), ('hak', 1), ('lalulintas', 1), ('beginian', 1), ('bodoamat', 1), ('kuping', 1), ('budeg', 1), ('terlupakan', 1), ('huhuuu', 1), ('azab', 1), ('indosiar', 1), ('asalnya', 1), ('pemeran', 1), ('cowoknya', 1), ('shoolih', 1), ('maksiat', 1), ('pembaca', 1), ('kisah', 1), ('terhibur', 1), ('antaranya', 1), ('xboleh', 1), ('terpikir', 1), ('xberani', 1), ('tandas', 1), ('duk', 1), ('hostel', 1), ('peluk', 1), ('member', 1), ('level', 1), ('tni', 1), ('geram', 1), ('better', 1), ('batin', 1), ('rasain', 1), ('pemantauan', 1), ('sosialisasi', 1), ('krb', 1), ('iii', 1), ('patroli', 1), ('rutin', 1), ('waspada', 1), ('waspadamerapi', 1), ('usir', 1), ('ngilangin', 1), ('rantang', 1), ('mak', 1), ('tuduh', 1), ('bedak', 1), ('lipstik', 1), ('bersihin', 1), ('mc', 1), ('pixy', 1), ('fw', 1), ('ngekeh', 1), ('hubungi', 1), ('memasuki', 1), ('spion', 1), ('kecepatan', 1), ('kencang', 1), ('fly', 1), ('heart', 1), ('about', 1), ('explode', 1), ('atuh', 1), ('kategori', 1), ('af', 1), ('bicaranya', 1), ('bandingngin', 1), ('cz', 1), ('slhkan', 1), ('nmpk', 1), ('tepi', 1), ('la', 1), ('cuak', 1), ('wehhh', 1), ('sarung', 1), ('bantal', 1), ('bergerak', 1), ('ilmunya', 1), ('donasi', 1), ('investasi', 1), ('sungguhku', 1), ('harga', 1), ('range', 1), ('reviewnya', 1), ('gadgetin', 1), ('peminatnya', 1), ('mobile', 1), ('bnyak', 1), ('dihitung', 1), ('ps', 1), ('build', 1), ('empati', 1), ('jeleknya', 1), ('mentok', 1), ('menyebalkan', 1), ('behelan', 1), ('dewi', 1), ('persik', 1), ('sks', 1), ('smt', 1), ('matkul', 1), ('uasnya', 1), ('pembagian', 1), ('uts', 1), ('imbangin', 1), ('uas', 1), ('sebelnya', 1), ('mual', 1), ('hadepin', 1), ('curhatan', 1), ('ngasi', 1), ('gmarahti', 1), ('ayuka', 1), ('semenyeramkan', 1), ('dijabarkan', 1), ('tega', 1), ('ikuti', 1), ('belakangan', 1), ('sibuk', 1), ('melayani', 1), ('umatnya', 1), ('nyeberang', 1), ('pelican', 1), ('crossing', 1), ('ngalah', 1), ('ditangan', 1), ('urat', 1), ('nadi', 1), ('kegeser', 1), ('digugel', 1), ('tumor', 1), ('parnoan', 1), ('sitin', 1), ('pengalamanku', 1), ('minim', 1), ('oprec', 1), ('angkata', 1), ('waah', 1), ('mutualan', 1), ('yuu', 1), ('people', 1), ('sep', 1), ('genit', 1), ('ikatan', 1), ('dipijet', 1), ('iyain', 1), ('mijet', 1), ('anatomi', 1), ('akupuntur', 1), ('itupun', 1), ('loncat', 1), ('larinya', 1), ('pintunya', 1), ('ngomogin', 1), ('gais', 1), ('pt', 1), ('airmas', 1), ('asri', 1), ('pergantian', 1), ('schedule', 1), ('china', 1), ('melek', 1), ('huaaa', 1), ('terjun', 1), ('jenjangnya', 1), ('apalgi', 1), ('takutin', 1), ('siswanyaaa', 1), ('kaaak', 1), ('bumn', 1), ('auranya', 1), ('bedaa', 1), ('lenyap', 1), ('tokoh', 1), ('berpotensi', 1), ('timbulkan', 1), ('dampak', 1), ('morbiditas', 1), ('mortalitas', 1), ('silent', 1), ('killer', 1), ('staisun', 1), ('gopay', 1), ('atuhlah', 1), ('payment', 1), ('stasiun', 1), ('testing', 1), ('version', 1), ('environment', 1), ('downtime', 1), ('operasional', 1), ('eksisting', 1), ('menyimpan', 1), ('kekhawatiran', 1), ('berkawan', 1), ('melegakan', 1), ('hape', 1), ('nissa', 1), ('sabyan', 1), ('browsing', 1), ('kuotanya', 1), ('per', 1), ('sinyal', 1), ('maksimum', 1), ('edge', 1), ('hantui', 1), ('pulsa', 1), ('kesedot', 1), ('sejarahnya', 1), ('mengerikan', 1), ('akupun', 1), ('cobain', 1), ('kesana', 1), ('gih', 1), ('ferry', 1), ('julianto', 1), ('petinggi', 1), ('pelayan', 1), ('ormas', 1), ('kucingnya', 1), ('mengerjakan', 1), ('thesis', 1), ('gelisah', 1), ('konflik', 1), ('maps', 1), ('hnnggg', 1), ('maksudku', 1), ('dilakukan', 1), ('dudum', 1), ('perasaab', 1), ('berlarut', 1), ('putri', 1), ('mengeras', 1), ('memarahimu', 1), ('banyuwangi', 1), ('bisnya', 1), ('sewaktu', 1), ('nabrak', 1), ('ditelisik', 1), ('bebet', 1), ('bobot', 1), ('bibit', 1), ('apanyalah', 1), ('beloman', 1), ('visioner', 1), ('bung', 1), ('ayahku', 1), ('wafat', 1), ('doain', 1), ('blabla', 1), ('kentut', 1), ('gakcuma', 1), ('boker', 1), ('bongkar', 1), ('speakup', 1), ('cuma', 1), ('brppun', 1), ('sobatkenthel', 1), ('duren', 1), ('sawit', 1), ('indomie', 1), ('sante', 1), ('bodohnya', 1), ('scroll', 1), ('timeline', 1), ('menemukan', 1), ('suzanna', 1), ('kesetanan', 1), ('keeengganan', 1), ('interaksi', 1), ('ataupun', 1), ('berinteraksi', 1), ('ngecounter', 1), ('counter', 1), ('total', 1), ('kebangun', 1), ('nonjol', 1), ('gorden', 1), ('begituan', 1), ('fisika', 1), ('matematika', 1), ('kepapr', 1), ('sinar', 1), ('matahari', 1), ('kebeli', 1), ('mangkanya', 1), ('guenya', 1), ('ngurus', 1), ('biro', 1), ('galaknya', 1), ('naujubile', 1), ('ngandelin', 1), ('nekatbuat', 1), ('birokrasi', 1), ('telfon', 1), ('senior', 1), ('anggap', 1), ('someone', 1), ('ditinggalkan', 1), ('realita', 1), ('bad', 1), ('happen', 1), ('kejebak', 1), ('hidupku', 1), ('kehadiran', 1), ('jelaskan', 1), ('kostan', 1), ('saatnya', 1), ('learning', 1), ('matang', 1), ('bupati', 1), ('usianya', 1), ('doctag', 1), ('cantumin', 1), ('ngedamprat', 1), ('ceweknya', 1), ('gempal', 1), ('diseruduk', 1), ('penjelasan', 1), ('dekil', 1), ('seantero', 1), ('tuiter', 1), ('wisata', 1), ('kuliner', 1), ('ekspedisi', 1), ('overload', 1), ('nyampenya', 1), ('batal', 1), ('gegana', 1), ('ngeplay', 1), ('slh', 1), ('jawaban', 1), ('voting', 1), ('selanjutnya', 1), ('gelas', 1), ('dicelup', 1), ('bergantian', 1), ('ularnya', 1), ('kalbis', 1), ('iparnya', 1), ('kereta', 1), ('lenteng', 1), ('agung', 1), ('tebet', 1), ('ac', 1), ('weh', 1), ('penjahat', 1), ('hatiin', 1), ('hana', 1), ('so', 1), ('far', 1), ('support', 1), ('camera', 1), ('softlens', 1), ('melototi', 1), ('rinci', 1), ('gubernurnya', 1), ('maupun', 1), ('vlive', 1), ('screennya', 1), ('locked', 1), ('lock', 1), ('fingerprint', 1), ('didenda', 1), ('dikarenakan', 1), ('tauan', 1), ('dilapor', 1), ('dipusatkan', 1), ('cab', 1), ('flo', 1), ('sefakultas', 1), ('keluarnya', 1), ('kacamata', 1), ('gakenal', 1), ('bayaran', 1), ('nunggak', 1), ('jual', 1), ('jdkan', 1), ('punten', 1), ('pa', 1), ('issu', 1), ('terkait', 1), ('rencana', 1), ('pertemuan', 1), ('ciwaringin', 1), ('bertempat', 1), ('sumberwaras', 1), ('hihi', 1), ('juur', 1), ('ngrasa', 1), ('dag', 1), ('dig', 1), ('dug', 1), ('alarm', 1), ('pffft', 1), ('sederajat', 1), ('adakan', 1), ('remidial', 1), ('juli', 1), ('kejelasan', 1), ('faktaatauhoax', 1), ('tiki', 1), ('dikirimin', 1), ('kendala', 1), ('nethink', 1), ('hambatan', 1), ('ngedown', 1), ('emo', 1), ('ngejalaninnya', 1), ('menurutmu', 1), ('ulah', 1), ('gerutunya', 1), ('ariel', 1), ('sekitarnya', 1), ('nunduk', 1), ('bebatuan', 1), ('ibadah', 1), ('kajiannya', 1), ('menyimpang', 1), ('didalem', 1), ('kontra', 1), ('gitudeh', 1), ('rada', 1), ('ginian', 1), ('settingan', 1), ('digangguin', 1), ('merangkak', 1), ('mengesot', 1), ('natang', 1), ('oo', 1), ('mensnya', 1), ('ngegumpal', 1), ('kista', 1), ('pil', 1), ('kb', 1), ('lancar', 1), ('kesekian', 1), ('terdampak', 1), ('iru', 1), ('lapangan', 1), ('bukaaan', 1), ('issue', 1), ('gampang', 1), ('alias', 1), ('simple', 1), ('snap', 1), ('od', 1), ('tajem', 1), ('suporter', 1), ('penikmat', 1), ('awam', 1), ('stadion', 1), ('adaaaa', 1), ('ding', 1), ('pulangnya', 1), ('dianterin', 1), ('rawannya', 1), ('terlambat', 1), ('penyebab', 1), ('hormon', 1), ('sempit', 1), ('kaca', 1), ('keserempet', 1), ('kesebar', 1), ('seriusan', 1), ('cungkring', 1), ('pengalaman', 1), ('ojek', 1), ('pux', 1), ('cebong', 1), ('ct', 1), ('caratss', 1), ('carats', 1), ('jengggg', 1), ('pacarnya', 1), ('acong', 1), ('uwa', 1), ('pembuluh', 1), ('otaknya', 1), ('ibunya', 1), ('kepalanya', 1), ('ditemuin', 1), ('lombok', 1), ('setidaknya', 1), ('tidurnya', 1), ('ketar', 1), ('ketir', 1), ('ditolak', 1), ('meeting', 1), ('ingini', 1), ('sekelip', 1), ('dinas', 1), ('sampel', 1), ('binatang', 1), ('maba', 1), ('gabung', 1), ('fakultas', 1), ('nimbrung', 1), ('minjam', 1), ('janji', 1), ('dihubungin', 1), ('didatengin', 1), ('patut', 1), ('de', 1), ('tup', 1), ('we', 1), ('re', 1), ('meant', 1), ('together', 1), ('darenya', 1), ('true', 1), ('dare', 1), ('anti', 1), ('club', 1), ('infonya', 1), ('rekan', 1), ('menawan', 1), ('sekampus', 1), ('sulitnya', 1), ('menetapkan', 1), ('presidennya', 1), ('disebabkan', 1), ('gemuknya', 1), ('koalisi', 1), ('mengusung', 1), ('petahana', 1), ('kehati', 1), ('hatian', 1), ('pengusung', 1), ('parpol', 1)]\n"
     ]
    }
   ],
   "source": [
    "text = df['tweet'].values\n",
    "y = df['label'].values\n",
    "teks = ' '.join(text)\n",
    "kata = nltk.tokenize.word_tokenize(teks)\n",
    "fdist = FreqDist(kata)\n",
    "top_words = fdist.most_common()\n",
    "print(top_words)"
   ]
  },
  {
   "cell_type": "code",
   "execution_count": 24,
   "id": "2df336f6",
   "metadata": {
    "scrolled": false
   },
   "outputs": [
    {
     "name": "stdout",
     "output_type": "stream",
     "text": [
      "      nan       aku      yang     takut     tidak        di       dan     kalau       ada       ini      tapi        ya     sudah       itu      jadi      saja      sama     masih    banget       mau       nya    karena      saya     orang        ke      lagi      bisa     terus    begitu      juga       dia      dari       pas       apa    sampai       sih    dengan     seram     hanya      tahu      akan       kan      kita     teman bagaimana   seperti     untuk   sendiri    banyak      atau \n",
      "     1662       661       460       430       364       263       234       227       198       185       183       178       178       166       158       149       146       140       130       123       121       120       120       120       115       113       113       108       108       108       108        93        92        88        86        78        77        75        74        70        70        67        66        64        61        61        60        58        58        57 \n",
      "None\n"
     ]
    }
   ],
   "source": [
    "print(fdist.tabulate(50))"
   ]
  },
  {
   "cell_type": "code",
   "execution_count": 25,
   "id": "32b0b7a0",
   "metadata": {},
   "outputs": [
    {
     "name": "stdout",
     "output_type": "stream",
     "text": [
      "kata frek tertinggi  nan  =  1662\n"
     ]
    }
   ],
   "source": [
    "print(\"kata frek tertinggi \", fdist.max(),\" = \", fdist[fdist.max()])"
   ]
  },
  {
   "cell_type": "code",
   "execution_count": 26,
   "id": "1df8638d",
   "metadata": {},
   "outputs": [
    {
     "data": {
      "image/png": "[encoded data removed]",
      "text/plain": [
       "<Figure size 432x288 with 1 Axes>"
      ]
     },
     "metadata": {
      "needs_background": "light"
     },
     "output_type": "display_data"
    },
    {
     "data": {
      "text/plain": [
       "<AxesSubplot:xlabel='Samples', ylabel='Counts'>"
      ]
     },
     "execution_count": 26,
     "metadata": {},
     "output_type": "execute_result"
    }
   ],
   "source": [
    "fdist.plot(40,cumulative=False)"
   ]
  },
  {
   "cell_type": "code",
   "execution_count": null,
   "id": "a502613c",
   "metadata": {},
   "outputs": [],
   "source": [
    " aku "
   ]
  }
 ],
 "metadata": {
  "kernelspec": {
   "display_name": "Python 3",
   "language": "python",
   "name": "python3"
  },
  "language_info": {
   "codemirror_mode": {
    "name": "ipython",
    "version": 3
   },
   "file_extension": ".py",
   "mimetype": "text/x-python",
   "name": "python",
   "nbconvert_exporter": "python",
   "pygments_lexer": "ipython3",
   "version": "3.8.8"
  }
 },
 "nbformat": 4,
 "nbformat_minor": 5
}
