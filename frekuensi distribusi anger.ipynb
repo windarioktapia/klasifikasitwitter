{
 "cells": [
  {
   "cell_type": "code",
   "execution_count": 1,
   "id": "731b7ea1",
   "metadata": {},
   "outputs": [],
   "source": [
    "import pandas as pd \n",
    "import numpy as np \n",
    "import nltk \n",
    "import re\n",
    "import string\n",
    "import matplotlib.pyplot as plt\n",
    "\n",
    "from sklearn.feature_extraction.text import CountVectorizer\n",
    "from sklearn.model_selection import train_test_split, cross_val_score, cross_validate\n",
    "from sklearn.naive_bayes import MultinomialNB\n",
    "from sklearn.metrics import confusion_matrix \n",
    "from sklearn.metrics import accuracy_score\n",
    "from sklearn.metrics import precision_score,recall_score,f1_score\n",
    "from sklearn.metrics import classification_report\n",
    "from sklearn import metrics\n",
    "from sklearn.model_selection import GridSearchCV\n",
    "\n",
    "from sklearn import tree\n",
    "\n",
    "from imblearn.over_sampling import SMOTE\n",
    "from collections import Counter\n",
    "\n",
    "from nltk import FreqDist, word_tokenize"
   ]
  },
  {
   "cell_type": "code",
   "execution_count": 2,
   "id": "91177414",
   "metadata": {},
   "outputs": [],
   "source": [
    "import seaborn as sns\n",
    "import matplotlib.pyplot as plt\n",
    "import collections, numpy"
   ]
  },
  {
   "cell_type": "code",
   "execution_count": 3,
   "id": "ff9cab19",
   "metadata": {},
   "outputs": [],
   "source": [
    "df= pd.read_csv('anger.csv') "
   ]
  },
  {
   "cell_type": "code",
   "execution_count": 4,
   "id": "1edcc6c8",
   "metadata": {},
   "outputs": [
    {
     "name": "stdout",
     "output_type": "stream",
     "text": [
      "Missing dataset value in all :  True\n"
     ]
    }
   ],
   "source": [
    "print(\"Missing dataset value in all : \",df.isnull().values.any())"
   ]
  },
  {
   "cell_type": "code",
   "execution_count": 5,
   "id": "f819307d",
   "metadata": {},
   "outputs": [
    {
     "data": {
      "text/html": [
       "<div>\n",
       "<style scoped>\n",
       "    .dataframe tbody tr th:only-of-type {\n",
       "        vertical-align: middle;\n",
       "    }\n",
       "\n",
       "    .dataframe tbody tr th {\n",
       "        vertical-align: top;\n",
       "    }\n",
       "\n",
       "    .dataframe thead th {\n",
       "        text-align: right;\n",
       "    }\n",
       "</style>\n",
       "<table border=\"1\" class=\"dataframe\">\n",
       "  <thead>\n",
       "    <tr style=\"text-align: right;\">\n",
       "      <th></th>\n",
       "      <th>label</th>\n",
       "      <th>tweet</th>\n",
       "    </tr>\n",
       "  </thead>\n",
       "  <tbody>\n",
       "    <tr>\n",
       "      <th>0</th>\n",
       "      <td>anger</td>\n",
       "      <td>Soal jln Jatibaru,polisi tdk bs GERTAK gubernu...</td>\n",
       "    </tr>\n",
       "    <tr>\n",
       "      <th>1</th>\n",
       "      <td>anger</td>\n",
       "      <td>Sesama cewe lho (kayaknya), harusnya bisa lebi...</td>\n",
       "    </tr>\n",
       "    <tr>\n",
       "      <th>2</th>\n",
       "      <td>anger</td>\n",
       "      <td>Jln Jatibaru,bagian dari wilayah Tn Abang.Peng...</td>\n",
       "    </tr>\n",
       "    <tr>\n",
       "      <th>3</th>\n",
       "      <td>anger</td>\n",
       "      <td>Dari sekian banyak thread yang aku baca, threa...</td>\n",
       "    </tr>\n",
       "    <tr>\n",
       "      <th>4</th>\n",
       "      <td>anger</td>\n",
       "      <td>Contoh mereka yg gemar menyudutkan, teriak pal...</td>\n",
       "    </tr>\n",
       "  </tbody>\n",
       "</table>\n",
       "</div>"
      ],
      "text/plain": [
       "   label                                              tweet\n",
       "0  anger  Soal jln Jatibaru,polisi tdk bs GERTAK gubernu...\n",
       "1  anger  Sesama cewe lho (kayaknya), harusnya bisa lebi...\n",
       "2  anger  Jln Jatibaru,bagian dari wilayah Tn Abang.Peng...\n",
       "3  anger  Dari sekian banyak thread yang aku baca, threa...\n",
       "4  anger  Contoh mereka yg gemar menyudutkan, teriak pal..."
      ]
     },
     "execution_count": 5,
     "metadata": {},
     "output_type": "execute_result"
    }
   ],
   "source": [
    "df.head()"
   ]
  },
  {
   "cell_type": "code",
   "execution_count": 6,
   "id": "3e4092f1",
   "metadata": {},
   "outputs": [
    {
     "data": {
      "text/plain": [
       "(2308, 2)"
      ]
     },
     "execution_count": 6,
     "metadata": {},
     "output_type": "execute_result"
    }
   ],
   "source": [
    "df.shape"
   ]
  },
  {
   "cell_type": "code",
   "execution_count": 7,
   "id": "0e2c8aa4",
   "metadata": {},
   "outputs": [
    {
     "name": "stdout",
     "output_type": "stream",
     "text": [
      "Jumlah kolom pada dataset:   2\n",
      "Jumlah baris pada dataset:   2308\n"
     ]
    }
   ],
   "source": [
    "print('Jumlah kolom pada dataset:  ', len(df.columns))\n",
    "print('Jumlah baris pada dataset:  ', len(df))"
   ]
  },
  {
   "cell_type": "code",
   "execution_count": 8,
   "id": "91a99e76",
   "metadata": {},
   "outputs": [
    {
     "name": "stderr",
     "output_type": "stream",
     "text": [
      "C:\\anaconda\\lib\\site-packages\\seaborn\\_decorators.py:36: FutureWarning: Pass the following variable as a keyword arg: x. From version 0.12, the only valid positional argument will be `data`, and passing other arguments without an explicit keyword will result in an error or misinterpretation.\n",
      "  warnings.warn(\n"
     ]
    },
    {
     "data": {
      "image/png": "[encoded data removed]",
      "text/plain": [
       "<Figure size 432x288 with 1 Axes>"
      ]
     },
     "metadata": {
      "needs_background": "light"
     },
     "output_type": "display_data"
    }
   ],
   "source": [
    "sns.countplot(df['label'],label=\"Count\") #Grafik pada kolom label\n",
    "plt.show() "
   ]
  },
  {
   "cell_type": "code",
   "execution_count": 9,
   "id": "781ff815",
   "metadata": {},
   "outputs": [
    {
     "data": {
      "text/plain": [
       "Counter({'anger': 1101, nan: 1207})"
      ]
     },
     "execution_count": 9,
     "metadata": {},
     "output_type": "execute_result"
    }
   ],
   "source": [
    "collections.Counter(df['label'])"
   ]
  },
  {
   "cell_type": "code",
   "execution_count": 12,
   "id": "077ffe53",
   "metadata": {},
   "outputs": [
    {
     "data": {
      "text/plain": [
       "'Nah ini, yg nunggu anak anteng dengan kesabaran seluas samudra trus bapaknya dateng2 bikin anak nangis. Hmmm kuingin marah melampiaskan'"
      ]
     },
     "execution_count": 12,
     "metadata": {},
     "output_type": "execute_result"
    }
   ],
   "source": [
    "df['tweet'][21]"
   ]
  },
  {
   "cell_type": "code",
   "execution_count": 20,
   "id": "965ca3ca",
   "metadata": {},
   "outputs": [],
   "source": [
    "def case_folding(tweet):  \n",
    "    tweet = str(tweet).lower()\n",
    "    return tweet\n",
    "df['tweet']= df['tweet'].apply(case_folding)  "
   ]
  },
  {
   "cell_type": "code",
   "execution_count": 21,
   "id": "1da6b187",
   "metadata": {},
   "outputs": [
    {
     "data": {
      "text/html": [
       "<div>\n",
       "<style scoped>\n",
       "    .dataframe tbody tr th:only-of-type {\n",
       "        vertical-align: middle;\n",
       "    }\n",
       "\n",
       "    .dataframe tbody tr th {\n",
       "        vertical-align: top;\n",
       "    }\n",
       "\n",
       "    .dataframe thead th {\n",
       "        text-align: right;\n",
       "    }\n",
       "</style>\n",
       "<table border=\"1\" class=\"dataframe\">\n",
       "  <thead>\n",
       "    <tr style=\"text-align: right;\">\n",
       "      <th></th>\n",
       "      <th>label</th>\n",
       "      <th>tweet</th>\n",
       "    </tr>\n",
       "  </thead>\n",
       "  <tbody>\n",
       "    <tr>\n",
       "      <th>0</th>\n",
       "      <td>anger</td>\n",
       "      <td>soal jln jatibaru,polisi tdk bs gertak gubernu...</td>\n",
       "    </tr>\n",
       "    <tr>\n",
       "      <th>1</th>\n",
       "      <td>anger</td>\n",
       "      <td>sesama cewe lho (kayaknya), harusnya bisa lebi...</td>\n",
       "    </tr>\n",
       "    <tr>\n",
       "      <th>2</th>\n",
       "      <td>anger</td>\n",
       "      <td>jln jatibaru,bagian dari wilayah tn abang.peng...</td>\n",
       "    </tr>\n",
       "    <tr>\n",
       "      <th>3</th>\n",
       "      <td>anger</td>\n",
       "      <td>dari sekian banyak thread yang aku baca, threa...</td>\n",
       "    </tr>\n",
       "    <tr>\n",
       "      <th>4</th>\n",
       "      <td>anger</td>\n",
       "      <td>contoh mereka yg gemar menyudutkan, teriak pal...</td>\n",
       "    </tr>\n",
       "  </tbody>\n",
       "</table>\n",
       "</div>"
      ],
      "text/plain": [
       "   label                                              tweet\n",
       "0  anger  soal jln jatibaru,polisi tdk bs gertak gubernu...\n",
       "1  anger  sesama cewe lho (kayaknya), harusnya bisa lebi...\n",
       "2  anger  jln jatibaru,bagian dari wilayah tn abang.peng...\n",
       "3  anger  dari sekian banyak thread yang aku baca, threa...\n",
       "4  anger  contoh mereka yg gemar menyudutkan, teriak pal..."
      ]
     },
     "execution_count": 21,
     "metadata": {},
     "output_type": "execute_result"
    }
   ],
   "source": [
    "df.head()"
   ]
  },
  {
   "cell_type": "code",
   "execution_count": 23,
   "id": "a8c578af",
   "metadata": {},
   "outputs": [],
   "source": [
    "def clean_tweet(tweet):\n",
    "    \n",
    "    # remove special characters \n",
    "    tweet = re.sub('[^ a-zA-Z0-9]', ' ', tweet)\n",
    "    \n",
    "    # remove number\n",
    "    tweet = re.sub(r'[0-9]+', '', tweet)\n",
    "    \n",
    "    #remove url \n",
    "    tweet = re.sub(\"url\", \"\", tweet)\n",
    "    \n",
    "    #remove username \n",
    "    tweet = re.sub('username', '', tweet)\n",
    "    \n",
    "    #remove sensitiveno\n",
    "    tweet = re.sub('sensitiveno', '', tweet)\n",
    "    \n",
    "    #remove URL \n",
    "    tweet = re.sub(\"https\", \"\", tweet)\n",
    "    \n",
    "    # remove askfm\n",
    "    tweet = re.sub('askfm', '', tweet)\n",
    "    \n",
    "    #remove double spasi\n",
    "    tweet= \" \".join(tweet.split())    \n",
    "    return tweet\n",
    "df['tweet']= df['tweet'].apply(clean_tweet)"
   ]
  },
  {
   "cell_type": "code",
   "execution_count": null,
   "id": "eca40394",
   "metadata": {},
   "outputs": [],
   "source": [
    "df['tweet'][2489]"
   ]
  },
  {
   "cell_type": "code",
   "execution_count": 24,
   "id": "27a745a6",
   "metadata": {},
   "outputs": [
    {
     "data": {
      "text/html": [
       "<div>\n",
       "<style scoped>\n",
       "    .dataframe tbody tr th:only-of-type {\n",
       "        vertical-align: middle;\n",
       "    }\n",
       "\n",
       "    .dataframe tbody tr th {\n",
       "        vertical-align: top;\n",
       "    }\n",
       "\n",
       "    .dataframe thead th {\n",
       "        text-align: right;\n",
       "    }\n",
       "</style>\n",
       "<table border=\"1\" class=\"dataframe\">\n",
       "  <thead>\n",
       "    <tr style=\"text-align: right;\">\n",
       "      <th></th>\n",
       "      <th>label</th>\n",
       "      <th>tweet</th>\n",
       "    </tr>\n",
       "  </thead>\n",
       "  <tbody>\n",
       "    <tr>\n",
       "      <th>0</th>\n",
       "      <td>anger</td>\n",
       "      <td>soal jln jatibaru polisi tdk bs gertak gubernu...</td>\n",
       "    </tr>\n",
       "    <tr>\n",
       "      <th>1</th>\n",
       "      <td>anger</td>\n",
       "      <td>sesama cewe lho kayaknya harusnya bisa lebih r...</td>\n",
       "    </tr>\n",
       "    <tr>\n",
       "      <th>2</th>\n",
       "      <td>anger</td>\n",
       "      <td>jln jatibaru bagian dari wilayah tn abang peng...</td>\n",
       "    </tr>\n",
       "    <tr>\n",
       "      <th>3</th>\n",
       "      <td>anger</td>\n",
       "      <td>dari sekian banyak thread yang aku baca thread...</td>\n",
       "    </tr>\n",
       "    <tr>\n",
       "      <th>4</th>\n",
       "      <td>anger</td>\n",
       "      <td>contoh mereka yg gemar menyudutkan teriak pali...</td>\n",
       "    </tr>\n",
       "  </tbody>\n",
       "</table>\n",
       "</div>"
      ],
      "text/plain": [
       "   label                                              tweet\n",
       "0  anger  soal jln jatibaru polisi tdk bs gertak gubernu...\n",
       "1  anger  sesama cewe lho kayaknya harusnya bisa lebih r...\n",
       "2  anger  jln jatibaru bagian dari wilayah tn abang peng...\n",
       "3  anger  dari sekian banyak thread yang aku baca thread...\n",
       "4  anger  contoh mereka yg gemar menyudutkan teriak pali..."
      ]
     },
     "execution_count": 24,
     "metadata": {},
     "output_type": "execute_result"
    }
   ],
   "source": [
    "df.head()"
   ]
  },
  {
   "cell_type": "code",
   "execution_count": 25,
   "id": "4f111fb1",
   "metadata": {},
   "outputs": [],
   "source": [
    "key_norm = pd.read_csv('kamus_normalisasi.csv')\n",
    "\n",
    "def normalisasi(tweet):\n",
    "    tweet = ' '.join([key_norm[key_norm['singkat'] == word]['hasil'].values[0] \n",
    "                      if (key_norm[\"singkat\"] == word).any() else word for word in tweet.split()])\n",
    "    return tweet\n",
    "df['tweet']= df['tweet'].apply(normalisasi)"
   ]
  },
  {
   "cell_type": "code",
   "execution_count": 26,
   "id": "1d0860a1",
   "metadata": {},
   "outputs": [
    {
     "data": {
      "text/html": [
       "<div>\n",
       "<style scoped>\n",
       "    .dataframe tbody tr th:only-of-type {\n",
       "        vertical-align: middle;\n",
       "    }\n",
       "\n",
       "    .dataframe tbody tr th {\n",
       "        vertical-align: top;\n",
       "    }\n",
       "\n",
       "    .dataframe thead th {\n",
       "        text-align: right;\n",
       "    }\n",
       "</style>\n",
       "<table border=\"1\" class=\"dataframe\">\n",
       "  <thead>\n",
       "    <tr style=\"text-align: right;\">\n",
       "      <th></th>\n",
       "      <th>label</th>\n",
       "      <th>tweet</th>\n",
       "    </tr>\n",
       "  </thead>\n",
       "  <tbody>\n",
       "    <tr>\n",
       "      <th>0</th>\n",
       "      <td>anger</td>\n",
       "      <td>soal jalan jatibaru polisi tidak bisa gertak g...</td>\n",
       "    </tr>\n",
       "    <tr>\n",
       "      <th>1</th>\n",
       "      <td>anger</td>\n",
       "      <td>sesama cewek loh sepertinya harusnya bisa lebi...</td>\n",
       "    </tr>\n",
       "    <tr>\n",
       "      <th>2</th>\n",
       "      <td>anger</td>\n",
       "      <td>jalan jatibaru bagian dari wilayah tanah abang...</td>\n",
       "    </tr>\n",
       "    <tr>\n",
       "      <th>3</th>\n",
       "      <td>anger</td>\n",
       "      <td>dari sekian banyak thread yang aku baca thread...</td>\n",
       "    </tr>\n",
       "    <tr>\n",
       "      <th>4</th>\n",
       "      <td>anger</td>\n",
       "      <td>contoh mereka yang gemar menyudutkan teriak pa...</td>\n",
       "    </tr>\n",
       "  </tbody>\n",
       "</table>\n",
       "</div>"
      ],
      "text/plain": [
       "   label                                              tweet\n",
       "0  anger  soal jalan jatibaru polisi tidak bisa gertak g...\n",
       "1  anger  sesama cewek loh sepertinya harusnya bisa lebi...\n",
       "2  anger  jalan jatibaru bagian dari wilayah tanah abang...\n",
       "3  anger  dari sekian banyak thread yang aku baca thread...\n",
       "4  anger  contoh mereka yang gemar menyudutkan teriak pa..."
      ]
     },
     "execution_count": 26,
     "metadata": {},
     "output_type": "execute_result"
    }
   ],
   "source": [
    "df.head()"
   ]
  },
  {
   "cell_type": "raw",
   "id": "73128d18",
   "metadata": {},
   "source": [
    "df.to_csv(\"C:/Users/HP/TUGAS/cleanning.csv\")"
   ]
  },
  {
   "cell_type": "raw",
   "id": "3c499d5e",
   "metadata": {},
   "source": [
    "df.to_csv(\"C:/Users/HP/TUGAS/fix.csv\")"
   ]
  },
  {
   "cell_type": "code",
   "execution_count": 27,
   "id": "9bf4c0e5",
   "metadata": {
    "scrolled": true
   },
   "outputs": [
    {
     "data": {
      "text/html": [
       "<div>\n",
       "<style scoped>\n",
       "    .dataframe tbody tr th:only-of-type {\n",
       "        vertical-align: middle;\n",
       "    }\n",
       "\n",
       "    .dataframe tbody tr th {\n",
       "        vertical-align: top;\n",
       "    }\n",
       "\n",
       "    .dataframe thead th {\n",
       "        text-align: right;\n",
       "    }\n",
       "</style>\n",
       "<table border=\"1\" class=\"dataframe\">\n",
       "  <thead>\n",
       "    <tr style=\"text-align: right;\">\n",
       "      <th></th>\n",
       "      <th>label</th>\n",
       "      <th>tweet</th>\n",
       "    </tr>\n",
       "  </thead>\n",
       "  <tbody>\n",
       "    <tr>\n",
       "      <th>0</th>\n",
       "      <td>anger</td>\n",
       "      <td>soal jalan jatibaru polisi tidak bisa gertak g...</td>\n",
       "    </tr>\n",
       "    <tr>\n",
       "      <th>1</th>\n",
       "      <td>anger</td>\n",
       "      <td>sesama cewek loh sepertinya harusnya bisa lebi...</td>\n",
       "    </tr>\n",
       "    <tr>\n",
       "      <th>2</th>\n",
       "      <td>anger</td>\n",
       "      <td>jalan jatibaru bagian dari wilayah tanah abang...</td>\n",
       "    </tr>\n",
       "    <tr>\n",
       "      <th>3</th>\n",
       "      <td>anger</td>\n",
       "      <td>dari sekian banyak thread yang aku baca thread...</td>\n",
       "    </tr>\n",
       "    <tr>\n",
       "      <th>4</th>\n",
       "      <td>anger</td>\n",
       "      <td>contoh mereka yang gemar menyudutkan teriak pa...</td>\n",
       "    </tr>\n",
       "  </tbody>\n",
       "</table>\n",
       "</div>"
      ],
      "text/plain": [
       "   label                                              tweet\n",
       "0  anger  soal jalan jatibaru polisi tidak bisa gertak g...\n",
       "1  anger  sesama cewek loh sepertinya harusnya bisa lebi...\n",
       "2  anger  jalan jatibaru bagian dari wilayah tanah abang...\n",
       "3  anger  dari sekian banyak thread yang aku baca thread...\n",
       "4  anger  contoh mereka yang gemar menyudutkan teriak pa..."
      ]
     },
     "execution_count": 27,
     "metadata": {},
     "output_type": "execute_result"
    }
   ],
   "source": [
    "df.head()"
   ]
  },
  {
   "cell_type": "code",
   "execution_count": 28,
   "id": "dcd22abb",
   "metadata": {},
   "outputs": [],
   "source": [
    "text = df['tweet'].values\n",
    "y = df['label'].values"
   ]
  },
  {
   "cell_type": "code",
   "execution_count": 29,
   "id": "3c611ba9",
   "metadata": {},
   "outputs": [],
   "source": [
    "teks = ' '.join(text)"
   ]
  },
  {
   "cell_type": "code",
   "execution_count": 30,
   "id": "6bab6b91",
   "metadata": {},
   "outputs": [],
   "source": [
    "kata = nltk.tokenize.word_tokenize(teks)"
   ]
  },
  {
   "cell_type": "code",
   "execution_count": 31,
   "id": "b54eb31f",
   "metadata": {},
   "outputs": [],
   "source": [
    "fdist = FreqDist(kata)"
   ]
  },
  {
   "cell_type": "code",
   "execution_count": 32,
   "id": "6db3f725",
   "metadata": {},
   "outputs": [
    {
     "name": "stdout",
     "output_type": "stream",
     "text": [
      "[('nan', 1207), ('yang', 881), ('tidak', 748), ('di', 500), ('dan', 436), ('aku', 382), ('sudah', 348), ('kalau', 339), ('saja', 332), ('itu', 294), ('ya', 287), ('saya', 284), ('orang', 282), ('ini', 280), ('ada', 277), ('kamu', 271), ('masih', 253), ('sama', 238), ('mau', 228), ('nya', 213), ('tapi', 209), ('bisa', 185), ('juga', 178), ('jadi', 164), ('dia', 161), ('lagi', 157), ('hanya', 151), ('apa', 150), ('dengan', 149), ('ke', 147), ('dari', 141), ('karena', 121), ('jangan', 117), ('kok', 111), ('memang', 106), ('terus', 106), ('sih', 105), ('lain', 104), ('tahu', 100), ('untuk', 100), ('kan', 97), ('begitu', 96), ('buat', 96), ('seperti', 95), ('atau', 94), ('sampai', 93), ('bahkan', 92), ('kita', 91), ('anda', 90), ('harus', 89), ('bukan', 89), ('banyak', 88), ('lah', 84), ('bagaimana', 82), ('mereka', 82), ('banget', 81), ('pakai', 80), ('si', 76), ('semua', 74), ('punya', 73), ('lebih', 71), ('akan', 71), ('suka', 71), ('kenapa', 67), ('bikin', 64), ('belum', 63), ('begini', 63), ('kalian', 63), ('salah', 61), ('sendiri', 60), ('pada', 59), ('dulu', 58), ('bilang', 56), ('sekarang', 55), ('padahal', 55), ('pernah', 55), ('presiden', 54), ('selalu', 54), ('kata', 53), ('ingin', 53), ('benar', 53), ('pak', 53), ('baru', 51), ('negara', 51), ('mana', 51), ('baik', 51), ('kali', 48), ('minta', 47), ('cewek', 46), ('teman', 46), ('tuh', 45), ('anak', 45), ('pasti', 44), ('via', 44), ('biar', 44), ('hidup', 44), ('paling', 43), ('dapat', 43), ('cari', 42), ('indonesia', 41), ('jelas', 41), ('mungkin', 40), ('sangat', 40), ('kami', 40), ('rakyat', 39), ('siapa', 39), ('gak', 39), ('satu', 38), ('bodoh', 38), ('tolong', 38), ('usah', 38), ('pas', 37), ('diri', 36), ('dalam', 36), ('sebagai', 36), ('adalah', 35), ('mbak', 35), ('kerja', 35), ('deh', 35), ('mah', 35), ('dong', 35), ('kayak', 35), ('diam', 34), ('besar', 34), ('hari', 34), ('rasa', 34), ('para', 34), ('ganti', 33), ('masuk', 33), ('masa', 33), ('kesal', 33), ('haha', 32), ('vallen', 32), ('nanti', 32), ('jalan', 31), ('gubernur', 31), ('lihat', 31), ('hal', 31), ('hati', 30), ('kembali', 30), ('marah', 30), ('nih', 30), ('ngomong', 30), ('lama', 30), ('sekali', 30), ('makan', 30), ('loh', 29), ('otak', 29), ('sexual', 29), ('coba', 29), ('sok', 29), ('langsung', 29), ('soal', 28), ('eh', 28), ('instagram', 28), ('oleh', 28), ('jam', 28), ('lo', 28), ('tetap', 27), ('kasih', 27), ('masalah', 27), ('makanya', 27), ('gitu', 27), ('apalagi', 27), ('mas', 27), ('pelecehan', 26), ('laki', 26), ('keluar', 26), ('jokowi', 26), ('apakah', 25), ('lalu', 25), ('sampah', 25), ('tahun', 25), ('pun', 24), ('uang', 24), ('tanpa', 24), ('kurang', 24), ('politik', 24), ('up', 24), ('rumah', 24), ('merasa', 24), ('perempuan', 23), ('nyinyir', 23), ('sering', 23), ('mati', 23), ('kemarin', 23), ('tempat', 23), ('takut', 22), ('kantor', 22), ('media', 22), ('kau', 22), ('foto', 22), ('waktu', 22), ('pancasila', 22), ('makin', 22), ('ternyata', 22), ('sedikit', 22), ('berani', 22), ('partai', 22), ('koruptor', 22), ('maaf', 22), ('sini', 22), ('jika', 22), ('jawab', 21), ('bertanya', 21), ('beli', 21), ('kepada', 21), ('akun', 21), ('jakarta', 21), ('iya', 21), ('sebenarnya', 21), ('cara', 21), ('agama', 21), ('perlu', 20), ('habis', 20), ('macam', 20), ('kasus', 20), ('jahat', 20), ('sebelum', 20), ('harassment', 20), ('buka', 20), ('saat', 20), ('lewat', 20), ('alasan', 20), ('tanya', 20), ('bukti', 20), ('bla', 20), ('korban', 19), ('baca', 19), ('namanya', 19), ('pikir', 19), ('mending', 19), ('kasihan', 19), ('apapun', 19), ('bapak', 19), ('sosial', 19), ('ketika', 19), ('bawa', 19), ('allah', 19), ('main', 19), ('bayar', 19), ('speak', 19), ('nikah', 19), ('dm', 19), ('harga', 19), ('tol', 19), ('disini', 19), ('mikir', 19), ('min', 18), ('zaman', 18), ('belajar', 18), ('kadang', 18), ('nah', 18), ('bagi', 18), ('duit', 18), ('tentang', 18), ('kalah', 18), ('giliran', 18), ('a', 18), ('islam', 18), ('sayang', 18), ('biasa', 18), ('situ', 18), ('to', 18), ('bro', 17), ('kaum', 17), ('bong', 17), ('bagus', 17), ('hukum', 17), ('ah', 17), ('macet', 17), ('jauh', 17), ('penting', 17), ('tolol', 17), ('warga', 17), ('pemimpin', 17), ('akhirnya', 17), ('korupsi', 17), ('boleh', 17), ('bunuh', 17), ('pihak', 16), ('tidur', 16), ('pemerintah', 16), ('calon', 16), ('mengerti', 16), ('paket', 16), ('mu', 16), ('bulan', 16), ('balas', 16), ('naik', 16), ('x', 16), ('tiap', 16), ('memaki', 15), ('an', 15), ('secara', 15), ('menurut', 15), ('datang', 15), ('termasuk', 15), ('goblok', 15), ('atas', 15), ('dipakai', 15), ('selesai', 15), ('heran', 15), ('menjadi', 15), ('depan', 15), ('dpr', 15), ('bangsa', 15), ('setiap', 15), ('nomor', 15), ('gara', 15), ('butuh', 15), ('malam', 14), ('mohon', 14), ('wajar', 14), ('lebay', 14), ('segala', 14), ('sana', 14), ('dibilang', 14), ('percaya', 14), ('bersama', 14), ('manusia', 14), ('dasar', 14), ('tu', 14), ('kena', 14), ('dekat', 14), ('dimana', 14), ('niat', 14), ('sakit', 14), ('tua', 14), ('bahwa', 14), ('urusan', 14), ('status', 14), ('mobil', 14), ('pacar', 14), ('polisi', 13), ('ikut', 13), ('hak', 13), ('selama', 13), ('susah', 13), ('pula', 13), ('saling', 13), ('nonton', 13), ('sekolah', 13), ('data', 13), ('semoga', 13), ('gagal', 13), ('tanggal', 13), ('saudara', 13), ('kirim', 13), ('sabar', 13), ('disuruh', 13), ('terlalu', 13), ('diberi', 13), ('cebong', 13), ('koar', 13), ('enak', 13), ('sadar', 13), ('kebanyakan', 13), ('kapan', 13), ('membuat', 13), ('gila', 13), ('bpip', 13), ('tersebut', 13), ('harusnya', 12), ('pulang', 12), ('sedang', 12), ('agar', 12), ('aduh', 12), ('hasil', 12), ('anjing', 12), ('pelaku', 12), ('ibu', 12), ('wa', 12), ('sebal', 12), ('hp', 12), ('puasa', 12), ('jawaban', 12), ('emosi', 12), ('setelah', 12), ('kosong', 12), ('justru', 12), ('ngapain', 12), ('terhadap', 12), ('tangan', 12), ('beda', 12), ('fitnah', 12), ('buruk', 12), ('beri', 12), ('kenal', 12), ('chat', 12), ('ingat', 12), ('malu', 12), ('penuh', 12), ('berarti', 12), ('please', 12), ('cepat', 12), ('biasanya', 12), ('setan', 12), ('parah', 12), ('seorang', 12), ('dunia', 12), ('baju', 12), ('bila', 12), ('sesama', 11), ('seseorang', 11), ('maling', 11), ('komen', 11), ('asal', 11), ('program', 11), ('mulut', 11), ('cowok', 11), ('wkwk', 11), ('pki', 11), ('anies', 11), ('terjadi', 11), ('melihat', 11), ('muka', 11), ('terima', 11), ('bicara', 11), ('semakin', 11), ('dki', 11), ('ketemu', 11), ('masyarakat', 11), ('kabur', 11), ('tutup', 11), ('bela', 11), ('sby', 11), ('radikal', 11), ('kampret', 11), ('tadi', 11), ('imam', 11), ('setuju', 11), ('kepentingan', 11), ('cinta', 11), ('dua', 11), ('melakukan', 11), ('keliatan', 11), ('ramai', 11), ('tinggi', 11), ('barang', 11), ('luar', 11), ('mesti', 11), ('mampu', 11), ('tuhan', 11), ('bocor', 11), ('ha', 11), ('turun', 10), ('sepertinya', 10), ('otaknya', 10), ('aneh', 10), ('betul', 10), ('tinggal', 10), ('lucu', 10), ('toh', 10), ('lupa', 10), ('malas', 10), ('rusak', 10), ('keras', 10), ('masyumi', 10), ('digituin', 10), ('beliau', 10), ('pejabat', 10), ('mata', 10), ('lainnya', 10), ('resi', 10), ('telah', 10), ('kesalahan', 10), ('driver', 10), ('soalnya', 10), ('pilih', 10), ('jujur', 10), ('jijik', 10), ('tong', 10), ('jerman', 10), ('fakta', 10), ('t', 10), ('negeri', 10), ('neraka', 10), ('cc', 10), ('tokoh', 10), ('paham', 10), ('tunggu', 10), ('jual', 10), ('milih', 10), ('twitter', 10), ('sistem', 10), ('bule', 10), ('demi', 10), ('pantas', 10), ('jatengdaruratkorupsi', 10), ('sejak', 9), ('sumpah', 9), ('cukup', 9), ('nilai', 9), ('kuota', 9), ('isu', 9), ('kartu', 9), ('hei', 9), ('sekedar', 9), ('wah', 9), ('jatuh', 9), ('jari', 9), ('dangdut', 9), ('tentu', 9), ('pintar', 9), ('wanita', 9), ('bang', 9), ('mak', 9), ('dear', 9), ('kah', 9), ('cabul', 9), ('maju', 9), ('surga', 9), ('in', 9), ('isi', 9), ('pagi', 9), ('suruh', 9), ('hampir', 9), ('minggu', 9), ('anjir', 9), ('kelas', 9), ('caranya', 9), ('sambil', 9), ('kasar', 9), ('kepala', 9), ('beberapa', 9), ('menolak', 9), ('teroris', 9), ('dibuat', 9), ('menit', 9), ('kpk', 9), ('why', 9), ('gitasav', 9), ('berbeda', 9), ('bola', 9), ('namun', 9), ('contoh', 8), ('sebagainya', 8), ('miskin', 8), ('orangnya', 8), ('pks', 8), ('hem', 8), ('maksud', 8), ('bantu', 8), ('kuat', 8), ('kecewa', 8), ('menyalahkan', 8), ('semuanya', 8), ('pertama', 8), ('diajak', 8), ('nama', 8), ('tetapi', 8), ('itulah', 8), ('siang', 8), ('diejek', 8), ('busuk', 8), ('memberi', 8), ('tepat', 8), ('isinya', 8), ('prabowo', 8), ('seharusnya', 8), ('lebaran', 8), ('besok', 8), ('pura', 8), ('bingung', 8), ('solusi', 8), ('juta', 8), ('parpol', 8), ('sudahlah', 8), ('melanggar', 8), ('dilakukan', 8), ('kampus', 8), ('bank', 8), ('bangsat', 8), ('untung', 8), ('persija', 8), ('bawah', 8), ('tukang', 8), ('terhormat', 8), ('jaringan', 8), ('kuliah', 8), ('pesan', 8), ('gojek', 8), ('periksa', 8), ('bukannya', 8), ('bakalan', 8), ('dana', 8), ('benci', 8), ('oh', 8), ('mama', 8), ('kak', 8), ('dirinya', 8), ('yakin', 8), ('the', 8), ('pegang', 8), ('kalut', 8), ('pemain', 8), ('lempar', 8), ('bisnis', 8), ('biarkan', 8), ('daripada', 8), ('jaga', 7), ('tanggung', 7), ('mbaknya', 7), ('teriak', 7), ('netizen', 7), ('berkali', 7), ('bisanya', 7), ('dosa', 7), ('grup', 7), ('alamat', 7), ('nunggu', 7), ('profesional', 7), ('info', 7), ('bohong', 7), ('s', 7), ('soeharto', 7), ('plastik', 7), ('pernyataan', 7), ('maki', 7), ('kemudian', 7), ('agak', 7), ('bacot', 7), ('nyaman', 7), ('hutang', 7), ('jabatan', 7), ('sopan', 7), ('politisi', 7), ('tiba', 7), ('suatu', 7), ('dengar', 7), ('merah', 7), ('waras', 7), ('berasa', 7), ('ngerasain', 7), ('tuntas', 7), ('sang', 7), ('bubarkan', 7), ('dengki', 7), ('suporter', 7), ('u', 7), ('pribadi', 7), ('sesuai', 7), ('pelayanan', 7), ('pelanggan', 7), ('bahagia', 7), ('umat', 7), ('aturan', 7), ('musuh', 7), ('kota', 7), ('cerita', 7), ('wakil', 7), ('hah', 7), ('arab', 7), ('wajib', 7), ('senang', 7), ('umum', 7), ('awal', 7), ('cantik', 7), ('of', 7), ('pindah', 7), ('sore', 7), ('anti', 7), ('supaya', 7), ('berita', 7), ('acara', 7), ('terutama', 7), ('jelasin', 7), ('akhir', 7), ('peduli', 7), ('dianggap', 7), ('disebut', 7), ('kecil', 7), ('sebuah', 7), ('lakukan', 7), ('silahkan', 7), ('ktp', 7), ('harrasment', 7), ('siapapun', 7), ('klub', 7), ('dilecehkan', 7), ('dilecehin', 7), ('berfikir', 7), ('kalimat', 7), ('muak', 7), ('bentuk', 7), ('pilkada', 7), ('panjang', 7), ('nyindir', 7), ('panas', 7), ('tanah', 6), ('bagian', 6), ('thread', 6), ('jago', 6), ('fansite', 6), ('seksual', 6), ('keluarga', 6), ('mencari', 6), ('telepon', 6), ('mengeluh', 6), ('ditanya', 6), ('dibawa', 6), ('center', 6), ('jengkel', 6), ('sahabat', 6), ('se', 6), ('usaha', 6), ('karya', 6), ('suara', 6), ('disalahkan', 6), ('sukses', 6), ('ajak', 6), ('asli', 6), ('block', 6), ('penyanyi', 6), ('ih', 6), ('dikira', 6), ('kerjaan', 6), ('surat', 6), ('daerah', 6), ('bebas', 6), ('menimpa', 6), ('amp', 6), ('ngomel', 6), ('soekarno', 6), ('alah', 6), ('ahok', 6), ('hotel', 6), ('cerdas', 6), ('dibully', 6), ('netijen', 6), ('sengaja', 6), ('biarin', 6), ('muda', 6), ('anaknya', 6), ('kereta', 6), ('uu', 6), ('memilih', 6), ('bangga', 6), ('tiket', 6), ('kelakuan', 6), ('serius', 6), ('tambah', 6), ('mundur', 6), ('oke', 6), ('petugas', 6), ('ulang', 6), ('penjara', 6), ('meladeni', 6), ('gimana', 6), ('kekuasaan', 6), ('dewan', 6), ('mengemis', 6), ('bekerja', 6), ('kehidupan', 6), ('menyebalkan', 6), ('bca', 6), ('jasa', 6), ('thr', 6), ('mulai', 6), ('elo', 6), ('anggota', 6), ('nkri', 6), ('menyuruh', 6), ('it', 6), ('badan', 6), ('kog', 6), ('sebab', 6), ('my', 6), ('segera', 6), ('liatin', 6), ('otakny', 6), ('sialan', 6), ('bocah', 6), ('video', 6), ('berapa', 6), ('sehingga', 6), ('jelek', 6), ('k', 6), ('so', 6), ('kira', 6), ('tengah', 6), ('memalukan', 6), ('yaelah', 6), ('cs', 6), ('nyata', 6), ('prof', 6), ('kewajiban', 6), ('beneran', 6), ('istri', 6), ('disalahin', 6), ('internet', 6), ('fans', 6), ('jiwa', 6), ('sepak', 6), ('nyalahin', 6), ('masing', 6), ('call', 6), ('vs', 6), ('pilihan', 6), ('sesuatu', 6), ('kemana', 6), ('bahan', 6), ('tulis', 6), ('gampang', 6), ('transaksi', 6), ('aplikasi', 6), ('bahasa', 6), ('sibuk', 5), ('harapan', 5), ('hukuman', 5), ('hancur', 5), ('dikirim', 5), ('kendaraan', 5), ('menganggap', 5), ('internasional', 5), ('lokasi', 5), ('terkenal', 5), ('bandit', 5), ('oposisi', 5), ('ribut', 5), ('nol', 5), ('respon', 5), ('oknum', 5), ('dendam', 5), ('bintang', 5), ('berbincang', 5), ('pertanyaan', 5), ('yaitu', 5), ('tenang', 5), ('sepakat', 5), ('kosan', 5), ('telat', 5), ('tai', 5), ('galak', 5), ('be', 5), ('ijin', 5), ('tagihan', 5), ('komentar', 5), ('pelajaran', 5), ('aktivis', 5), ('rugi', 5), ('keterlaluan', 5), ('janji', 5), ('kaki', 5), ('yoyakarta', 5), ('pecat', 5), ('tangkap', 5), ('woi', 5), ('gangguan', 5), ('menyesatkan', 5), ('duh', 5), ('ambil', 5), ('adik', 5), ('mantan', 5), ('lapor', 5), ('kesini', 5), ('tujuan', 5), ('berpikir', 5), ('perang', 5), ('rezim', 5), ('dipanggil', 5), ('kenyataan', 5), ('lampir', 5), ('ujungnya', 5), ('sebelumnya', 5), ('lengkap', 5), ('mampus', 5), ('berisik', 5), ('terakhir', 5), ('film', 5), ('golongan', 5), ('sekalian', 5), ('dilarang', 5), ('didirikan', 5), ('penerimaan', 5), ('peserta', 5), ('bahas', 5), ('belah', 5), ('ketua', 5), ('hakim', 5), ('muslim', 5), ('brengsek', 5), ('enaknya', 5), ('didukung', 5), ('uangnya', 5), ('amanah', 5), ('diisi', 5), ('sempat', 5), ('menerima', 5), ('hubungan', 5), ('duluan', 5), ('berkata', 5), ('halo', 5), ('dp', 5), ('surabaya', 5), ('pengiriman', 5), ('menanggapi', 5), ('sifat', 5), ('cancel', 5), ('sim', 5), ('admin', 5), ('alias', 5), ('sebut', 5), ('demokrasi', 5), ('daftar', 5), ('wong', 5), ('jadinya', 5), ('alay', 5), ('ok', 5), ('tertutup', 5), ('template', 5), ('memberikan', 5), ('mendukung', 5), ('ganteng', 5), ('yo', 5), ('twit', 5), ('da', 5), ('hti', 5), ('blokir', 5), ('didepan', 5), ('segini', 5), ('prabocor', 5), ('sepupu', 5), ('norak', 5), ('korup', 5), ('for', 5), ('era', 5), ('ayat', 5), ('ulama', 5), ('selain', 5), ('nasabah', 5), ('mandiri', 5), ('on', 5), ('sebatas', 5), ('are', 5), ('ongkir', 5), ('artis', 5), ('jualan', 5), ('mudah', 5), ('dibawah', 5), ('bermasalah', 5), ('intinya', 5), ('seronok', 5), ('simic', 5), ('bosan', 5), ('pancasilais', 5), ('guru', 5), ('jak', 5), ('nusantara', 5), ('dukungan', 5), ('ayo', 5), ('egois', 5), ('nge', 5), ('email', 5), ('tindakan', 5), ('membiarkan', 5), ('repot', 5), ('picik', 5), ('bangkit', 5), ('tweet', 5), ('ditolak', 5), ('ngaku', 5), ('awalnya', 5), ('air', 5), ('entah', 5), ('dijadikan', 5), ('selamat', 5), ('jalur', 5), ('rata', 5), ('sisi', 5), ('pasar', 5), ('mikirin', 5), ('pilpres', 5), ('sehat', 5), ('efek', 5), ('seberapa', 5), ('survey', 5), ('polri', 5), ('sensitive', 5), ('sia', 5), ('kakak', 5), ('bidang', 5), ('wilayah', 4), ('persoalan', 4), ('abang', 4), ('rasain', 4), ('sendirian', 4), ('dibela', 4), ('kecuali', 4), ('sekian', 4), ('tulisan', 4), ('menuduh', 4), ('sah', 4), ('lari', 4), ('ngamuk', 4), ('bacanya', 4), ('dijelaskan', 4), ('khusus', 4), ('nambah', 4), ('menyakiti', 4), ('itupun', 4), ('arah', 4), ('verbal', 4), ('fisik', 4), ('nangis', 4), ('pln', 4), ('dokumen', 4), ('not', 4), ('bertahun', 4), ('kafir', 4), ('khilafah', 4), ('bumi', 4), ('lahir', 4), ('rampok', 4), ('jawabannya', 4), ('masalahnya', 4), ('payah', 4), ('beres', 4), ('kelompok', 4), ('pbb', 4), ('pendukung', 4), ('batalin', 4), ('sepihak', 4), ('aman', 4), ('cuek', 4), ('nongkrong', 4), ('publik', 4), ('harto', 4), ('kehilangan', 4), ('berlaku', 4), ('susahnya', 4), ('etika', 4), ('menteri', 4), ('listrik', 4), ('golkar', 4), ('kejadian', 4), ('menggelikan', 4), ('ikutan', 4), ('neng', 4), ('service', 4), ('juni', 4), ('sehari', 4), ('ditinggal', 4), ('pdip', 4), ('bupati', 4), ('terserah', 4), ('capek', 4), ('orderan', 4), ('kejahatan', 4), ('empati', 4), ('save', 4), ('valen', 4), ('damai', 4), ('lambat', 4), ('walaupun', 4), ('tahan', 4), ('pasangan', 4), ('liga', 4), ('ide', 4), ('melulu', 4), ('berusaha', 4), ('ber', 4), ('hai', 4), ('model', 4), ('transfer', 4), ('melayani', 4), ('am', 4), ('dukung', 4), ('mesum', 4), ('minim', 4), ('minum', 4), ('logika', 4), ('betapa', 4), ('bego', 4), ('rt', 4), ('bijak', 4), ('kalinya', 4), ('tangga', 4), ('al', 4), ('qur', 4), ('nyasar', 4), ('sholat', 4), ('satunya', 4), ('didik', 4), ('masukan', 4), ('pacaran', 4), ('hijrah', 4), ('berikan', 4), ('percuma', 4), ('mengurus', 4), ('swt', 4), ('ajaib', 4), ('duitnya', 4), ('mengerjakan', 4), ('artidjo', 4), ('kacung', 4), ('pusing', 4), ('debat', 4), ('blok', 4), ('ribuan', 4), ('hilang', 4), ('republik', 4), ('she', 4), ('mengakui', 4), ('bandung', 4), ('doa', 4), ('omong-omong', 4), ('tagih', 4), ('toko', 4), ('ganggu', 4), ('mudik', 4), ('lagian', 4), ('pintu', 4), ('awas', 4), ('got', 4), ('terbuka', 4), ('stop', 4), ('jurusan', 4), ('pendukungnya', 4), ('wtp', 4), ('munafik', 4), ('izin', 4), ('ngawur', 4), ('kampanye', 4), ('bpjs', 4), ('kritik', 4), ('darah', 4), ('palembang', 4), ('anggaran', 4), ('meskipun', 4), ('menunggu', 4), ('sma', 4), ('dibayar', 4), ('jawabnya', 4), ('maksa', 4), ('fix', 4), ('rendah', 4), ('segitu', 4), ('antri', 4), ('m', 4), ('hoax', 4), ('mapan', 4), ('sinyal', 4), ('perjuangan', 4), ('penghuni', 4), ('dengkul', 4), ('sbnrnya', 4), ('daniel', 4), ('numpang', 4), ('mi', 4), ('jarang', 4), ('la', 4), ('menghargai', 4), ('woy', 4), ('bom', 4), ('nyapres', 4), ('cina', 4), ('gaes', 4), ('kebencian', 4), ('sms', 4), ('mimpin', 4), ('puas', 4), ('anggap', 4), ('banteng', 4), ('atm', 4), ('pelajari', 4), ('menggunakan', 4), ('e', 4), ('tipe', 4), ('pahlawan', 4), ('informasi', 4), ('diperlakukan', 4), ('abal', 4), ('posisi', 4), ('gara-gara', 4), ('akal', 4), ('real', 4), ('pendapat', 4), ('kontra', 4), ('salahnya', 4), ('mencoba', 4), ('generasi', 4), ('khalayak', 4), ('pola', 4), ('mirip', 4), ('motor', 4), ('story', 4), ('rajin', 4), ('nalar', 4), ('pakaian', 4), ('gausa', 4), ('parkir', 4), ('halah', 4), ('terlebih', 4), ('diminta', 4), ('nasib', 4), ('tindak', 4), ('b', 4), ('ri', 4), ('siap', 4), ('lepas', 4), ('klaim', 4), ('bung', 4), ('pendidikan', 4), ('fokus', 4), ('your', 4), ('urusin', 4), ('arti', 4), ('sombong', 4), ('asian', 4), ('games', 4), ('sure', 4), ('drama', 4), ('that', 4), ('suami', 4), ('mengatur', 4), ('berhak', 4), ('sebaiknya', 4), ('berbagai', 4), ('online', 4), ('pemilik', 4), ('berhasil', 4), ('buktikan', 4), ('batu', 4), ('jera', 4), ('berat', 4), ('jutaan', 4), ('om', 4), ('waktunya', 4), ('selingkuh', 4), ('keterangan', 4), ('negri', 4), ('menghancurkan', 4), ('pajak', 4), ('antrian', 4), ('semacam', 4), ('nu', 4), ('opini', 4), ('menjatuhkan', 4), ('disaat', 4), ('seluler', 4), ('msih', 4), ('radikalisme', 4), ('nanyain', 4), ('sengsara', 4), ('player', 4), ('seakan', 4), ('bekasi', 4), ('rekening', 4), ('telkomsel', 4), ('atlit', 4), ('asing', 3), ('nulis', 3), ('gemar', 3), ('menyudutkan', 3), ('men', 3), ('berdasarkan', 3), ('tni', 3), ('unsur', 3), ('hadiah', 3), ('kamera', 3), ('monyet', 3), ('wahai', 3), ('membaca', 3), ('diatur', 3), ('koalisi', 3), ('tagar', 3), ('ketinggalan', 3), ('jilbab', 3), ('kurir', 3), ('gerindra', 3), ('kondisi', 3), ('perkara', 3), ('maksudnya', 3), ('rb', 3), ('masuknya', 3), ('dibuka', 3), ('semen', 3), ('perusahaan', 3), ('menyenangkan', 3), ('sodorin', 3), ('konsisten', 3), ('dimarahin', 3), ('olah', 3), ('pro', 3), ('na', 3), ('against', 3), ('mobile', 3), ('sejenis', 3), ('kejam', 3), ('ngatur', 3), ('baiknya', 3), ('baswedan', 3), ('rupiah', 3), ('pohon', 3), ('sekaligus', 3), ('junjungan', 3), ('thanks', 3), ('konsumsi', 3), ('miris', 3), ('menciptakan', 3), ('pikiran', 3), ('sensasi', 3), ('manja', 3), ('maha', 3), ('sempurna', 3), ('saatnya', 3), ('mention', 3), ('belanja', 3), ('komplain', 3), ('menyampaikan', 3), ('hebat', 3), ('pokoknya', 3), ('project', 3), ('begitukan', 3), ('tolak', 3), ('share', 3), ('seenak', 3), ('backers', 3), ('toc', 3), ('antara', 3), ('sudi', 3), ('penipu', 3), ('mementingkan', 3), ('semangat', 3), ('harap', 3), ('kuasa', 3), ('dilakuin', 3), ('nyerang', 3), ('mengabaikan', 3), ('sepele', 3), ('merubah', 3), ('bubarin', 3), ('normal', 3), ('mutar', 3), ('ulah', 3), ('yes', 3), ('senin', 3), ('perhatian', 3), ('sengkuni', 3), ('maklum', 3), ('metal', 3), ('mega', 3), ('purbalingga', 3), ('hawa', 3), ('membubarkan', 3), ('serba', 3), ('ajar', 3), ('bertemu', 3), ('pencerahan', 3), ('barat', 3), ('sebutan', 3), ('ibunya', 3), ('solat', 3), ('kebijakan', 3), ('akibat', 3), ('nafsu', 3), ('old', 3), ('money', 3), ('kampung', 3), ('api', 3), ('menyelamatkan', 3), ('penguasa', 3), ('tampil', 3), ('wo', 3), ('mafia', 3), ('pukul', 3), ('supir', 3), ('terbang', 3), ('langit', 3), ('mikirnya', 3), ('konsumen', 3), ('rizik', 3), ('belain', 3), ('modal', 3), ('ditambah', 3), ('manfaat', 3), ('pembenaran', 3), ('pergi', 3), ('pengecut', 3), ('sampaikan', 3), ('novel', 3), ('suci', 3), ('bangunan', 3), ('kekafiran', 3), ('gereja', 3), ('berlindung', 3), ('manajemen', 3), ('pasang', 3), ('gih', 3), ('senior', 3), ('kamar', 3), ('lantai', 3), ('line', 3), ('pensiun', 3), ('duduk', 3), ('apanya', 3), ('menchat', 3), ('gambar', 3), ('pelayan', 3), ('konglomerat', 3), ('karakter', 3), ('anis', 3), ('saran', 3), ('ramah', 3), ('tingkah', 3), ('lemah', 3), ('bencong', 3), ('jalanan', 3), ('keburukan', 3), ('jadilah', 3), ('tingkat', 3), ('perilaku', 3), ('adil', 3), ('merusak', 3), ('cucu', 3), ('ikhlas', 3), ('sekalinya', 3), ('kakek', 3), ('sepanjang', 3), ('rada', 3), ('jangankan', 3), ('malang', 3), ('dibikin', 3), ('santai', 3), ('pengaduan', 3), ('input', 3), ('terusan', 3), ('time', 3), ('jemput', 3), ('dipercaya', 3), ('fz', 3), ('terbukti', 3), ('gigit', 3), ('rela', 3), ('hitungan', 3), ('belakang', 3), ('jurang', 3), ('berhenti', 3), ('dek', 3), ('seandainya', 3), ('karyamu', 3), ('digunakan', 3), ('ribu', 3), ('sesuka', 3), ('gaji', 3), ('tertarik', 3), ('dipaksa', 3), ('tunjangan', 3), ('menangkap', 3), ('follow', 3), ('kesempatan', 3), ('faham', 3), ('tersinggung', 3), ('dirusak', 3), ('ampun', 3), ('fair', 3), ('kampungan', 3), ('mbok', 3), ('complain', 3), ('kelakuannya', 3), ('sungguh', 3), ('aparat', 3), ('subuh', 3), ('update', 3), ('resiko', 3), ('absen', 3), ('mahasiswa', 3), ('meski', 3), ('right', 3), ('bahaya', 3), ('ormas', 3), ('menawarkan', 3), ('wes', 3), ('china', 3), ('inilah', 3), ('tipu', 3), ('berharap', 3), ('kanada', 3), ('donk', 3), ('konsep', 3), ('ngoceh', 3), ('pecundang', 3), ('kumpul', 3), ('laluny', 3), ('pengikutny', 3), ('ap', 3), ('moter', 3), ('atuh', 3), ('penipuan', 3), ('duda', 3), ('turunan', 3), ('maning', 3), ('well', 3), ('hargai', 3), ('berpikiran', 3), ('sudut', 3), ('ataupun', 3), ('akur', 3), ('asik', 3), ('statement', 3), ('aset', 3), ('mengatakan', 3), ('sedih', 3), ('impor', 3), ('bangun', 3), ('bin', 3), ('pesanan', 3), ('kinerja', 3), ('image', 3), ('ateis', 3), ('keuntungan', 3), ('kejar', 3), ('sementara', 3), ('kebablasan', 3), ('cabang', 3), ('adu', 3), ('c', 3), ('telkom', 3), ('mendekati', 3), ('tambahan', 3), ('rasis', 3), ('sedangkan', 3), ('antar', 3), ('sekalipun', 3), ('this', 3), ('is', 3), ('helmi', 3), ('gengsi', 3), ('mall', 3), ('ngantri', 3), ('ilmu', 3), ('diberikan', 3), ('sya', 3), ('fatal', 3), ('maka', 3), ('bangtan', 3), ('sekecil', 3), ('berbuat', 3), ('mbk', 3), ('serah', 3), ('hanyalah', 3), ('kenyataannya', 3), ('sebaliknya', 3), ('sexy', 3), ('bos', 3), ('at', 3), ('mengundurkan', 3), ('hapus', 3), ('woles', 3), ('kapasitasnya', 3), ('geram', 3), ('kelahi', 3), ('ngajak', 3), ('lagu', 3), ('masak', 3), ('hehe', 3), ('telinga', 3), ('ali', 3), ('persebaya', 3), ('berkabar', 3), ('tugas', 3), ('lelaki', 3), ('hingga', 3), ('menuju', 3), ('merasakan', 3), ('astagfirullah', 3), ('dasarnya', 3), ('taek', 3), ('care', 3), ('bau', 3), ('parkiran', 3), ('sulit', 3), ('berkurang', 3), ('traveloka', 3), ('kesannya', 3), ('bully', 3), ('buang', 3), ('vv', 3), ('bbm', 3), ('ngerekam', 3), ('sembarangan', 3), ('klien', 3), ('mahal', 3), ('pelayanannya', 3), ('jnt', 3), ('ang', 3), ('dangkal', 3), ('sukarno', 3), ('jadwal', 3), ('bogor', 3), ('jokes', 3), ('gunanya', 3), ('patut', 3), ('its', 3), ('dont', 3), ('bumn', 3), ('bedanya', 3), ('begituan', 3), ('mindset', 3), ('milik', 3), ('gosip', 3), ('ngerubah', 3), ('penumpang', 3), ('menilai', 3), ('stay', 3), ('sejalan', 3), ('warisan', 3), ('kawan', 3), ('memimpin', 3), ('menutup', 3), ('artinya', 3), ('trotoar', 3), ('bersih', 3), ('biaya', 3), ('misal', 3), ('maupun', 3), ('dewasa', 3), ('penggunaan', 3), ('bermain', 3), ('saham', 3), ('travel', 3), ('diganti', 3), ('perbaiki', 3), ('nunjukin', 3), ('dipertanyakan', 3), ('upload', 3), ('menjalankan', 3), ('beras', 3), ('laku', 3), ('aib', 3), ('iri', 3), ('dibilangin', 3), ('sponsor', 3), ('keluhan', 3), ('panggil', 3), ('pembangunan', 3), ('ahy', 3), ('nd', 3), ('ampli', 3), ('ditindak', 3), ('juli', 3), ('kanan', 3), ('seumur', 3), ('krl', 3), ('barangnya', 3), ('kpop', 3), ('bu', 3), ('bolong', 3), ('pertanyaannya', 3), ('laporan', 3), ('peran', 3), ('prestasi', 3), ('notif', 3), ('otomatis', 3), ('berulang', 3), ('gb', 3), ('double', 3), ('gaib', 3), ('pembayaran', 3), ('manis', 3), ('saldo', 3), ('kriminalisasi', 3), ('sekuler', 3), ('dompet', 3), ('kmn', 3), ('dilanjutkan', 3), ('telpon', 3), ('lisa', 3), ('nyala', 3), ('kos', 3), ('bln', 3), ('toxic', 3), ('sebentar', 3), ('dijual', 3), ('barista', 3), ('gancit', 3), ('cowoknya', 3), ('nyampah', 3), ('sex', 3), ('dicari', 3), ('feed', 3), ('liatnya', 3), ('omongan', 3), ('ratusan', 3), ('lanjut', 3), ('provider', 3), ('biadab', 3), ('penelitian', 3), ('acc', 3), ('standar', 3), ('bukalapak', 3), ('wow', 3), ('diperjuangin', 3), ('menara', 3), ('ta', 3), ('fp', 3), ('terdaftar', 3), ('fandom', 3), ('nari', 3), ('jatibaru', 2), ('berpolitik', 2), ('pengaturan', 2), ('kesabaran', 2), ('curhat', 2), ('dihujat', 2), ('tng', 2), ('rumit', 2), ('berpikirlah', 2), ('toleran', 2), ('versi', 2), ('menghina', 2), ('idol', 2), ('beliin', 2), ('kpopers', 2), ('jancok', 2), ('siluman', 2), ('sedap', 2), ('budayakan', 2), ('calonnya', 2), ('kaos', 2), ('sekiranya', 2), ('mengarah', 2), ('social', 2), ('password', 2), ('mengantar', 2), ('ketemuan', 2), ('putar', 2), ('mardani', 2), ('koalisinya', 2), ('sesusah', 2), ('itukah', 2), ('support', 2), ('gzz', 2), ('libur', 2), ('rencana', 2), ('bapaknya', 2), ('kuingin', 2), ('melampiaskan', 2), ('mahkamah', 2), ('kewenangan', 2), ('teh', 2), ('berasumsi', 2), ('hayo', 2), ('cashback', 2), ('token', 2), ('laptop', 2), ('produk', 2), ('penjualan', 2), ('detail', 2), ('diproses', 2), ('diprotes', 2), ('mempan', 2), ('berterima', 2), ('berjuang', 2), ('wan', 2), ('one', 2), ('swing', 2), ('legal', 2), ('jaringannya', 2), ('menganggu', 2), ('karyawan', 2), ('bawaan', 2), ('fuck', 2), ('menguat', 2), ('hoak', 2), ('fb', 2), ('dibayarkan', 2), ('tenaga', 2), ('memanfaatkan', 2), ('sebelah', 2), ('terdengar', 2), ('diatasi', 2), ('tipikal', 2), ('tempatnya', 2), ('mail', 2), ('akrab', 2), ('mentionan', 2), ('help', 2), ('mbanya', 2), ('gendut', 2), ('senyum', 2), ('slogan', 2), ('store', 2), ('dizaman', 2), ('creator', 2), ('nikita', 2), ('mirzani', 2), ('kepolosan', 2), ('pikirannya', 2), ('jarinya', 2), ('lonte', 2), ('keturunan', 2), ('cukai', 2), ('rokok', 2), ('creators', 2), ('haus', 2), ('rakyatnya', 2), ('merendahkan', 2), ('semestinya', 2), ('tegas', 2), ('paksa', 2), ('will', 2), ('pembukaan', 2), ('r', 2), ('kebutuhan', 2), ('dihajar', 2), ('kabinet', 2), ('gundul', 2), ('bunda', 2), ('istana', 2), ('orba', 2), ('php', 2), ('niatnya', 2), ('fahri', 2), ('reformasi', 2), ('mustinya', 2), ('amien', 2), ('mengadukan', 2), ('panggung', 2), ('menyolot', 2), ('wth', 2), ('habibie', 2), ('wiranto', 2), ('pangab', 2), ('ham', 2), ('basmi', 2), ('hubungi', 2), ('pembelian', 2), ('demikian', 2), ('selasa', 2), ('sapi', 2), ('nyali', 2), ('paraf', 2), ('tugasnya', 2), ('gerombolan', 2), ('mekkah', 2), ('operasi', 2), ('wifi', 2), ('indie', 2), ('home', 2), ('oposan', 2), ('lampu', 2), ('tauk', 2), ('jorr', 2), ('titit', 2), ('huhu', 2), ('frontal', 2), ('nasehatin', 2), ('makian', 2), ('pantang', 2), ('tracking', 2), ('melalui', 2), ('melibatkan', 2), ('menghapus', 2), ('pastikan', 2), ('salahkan', 2), ('ngalahin', 2), ('tes', 2), ('nurutin', 2), ('syarat', 2), ('jatah', 2), ('non', 2), ('stasiun', 2), ('ac', 2), ('fadli', 2), ('misalnya', 2), ('terorisme', 2), ('memberantas', 2), ('nyamuk', 2), ('seolah', 2), ('begitulah', 2), ('kemampuan', 2), ('menanggung', 2), ('silakan', 2), ('merajalela', 2), ('cuci', 2), ('nyatanya', 2), ('dihubungi', 2), ('alumni', 2), ('dikampus', 2), ('memakai', 2), ('fasilitas', 2), ('kolam', 2), ('wrong', 2), ('matematis', 2), ('lay', 2), ('kadernya', 2), ('terkadang', 2), ('mengalahkan', 2), ('joko', 2), ('widodo', 2), ('demo', 2), ('kencing', 2), ('onta', 2), ('kebayang', 2), ('made', 2), ('setara', 2), ('eropa', 2), ('hubungannya', 2), ('provokator', 2), ('putih', 2), ('warung', 2), ('rojali', 2), ('berkas', 2), ('meja', 2), ('layar', 2), ('timnas', 2), ('pisah', 2), ('job', 2), ('setia', 2), ('kelanjutan', 2), ('sandi', 2), ('jalanin', 2), ('sebagian', 2), ('kebongkar', 2), ('kost', 2), ('ahoker', 2), ('pc', 2), ('mentang', 2), ('ra', 2), ('berdiri', 2), ('konsultasi', 2), ('malaikat', 2), ('buta', 2), ('ngirim', 2), ('psi', 2), ('penjilat', 2), ('memaksa', 2), ('ucapan', 2), ('indosat', 2), ('sesi', 2), ('kubu', 2), ('teriakan', 2), ('pemegang', 2), ('bersuara', 2), ('camkan', 2), ('komunis', 2), ('berkedok', 2), ('nek', 2), ('just', 2), ('perkuat', 2), ('rp', 2), ('sebanding', 2), ('kualitas', 2), ('ngewe', 2), ('bonceng', 2), ('jalannya', 2), ('bersalah', 2), ('menutupi', 2), ('peringatan', 2), ('kedepan', 2), ('nenek', 2), ('pertemuan', 2), ('diundur', 2), ('kemungkinan', 2), ('tersangka', 2), ('santun', 2), ('total', 2), ('berhutang', 2), ('lokal', 2), ('pedas', 2), ('tulang', 2), ('alasannya', 2), ('pan', 2), ('buset', 2), ('signal', 2), ('diriku', 2), ('tobat', 2), ('struk', 2), ('menghubungi', 2), ('tekan', 2), ('pulsa', 2), ('h', 2), ('berangkat', 2), ('seharian', 2), ('darmo', 2), ('bukanya', 2), ('dipikir', 2), ('belakangan', 2), ('pengalaman', 2), ('viralkan', 2), ('when', 2), ('reply', 2), ('sejenisnya', 2), ('merokok', 2), ('bak', 2), ('hoh', 2), ('dipelihara', 2), ('percintaan', 2), ('adanya', 2), ('percayai', 2), ('fakultas', 2), ('jamban', 2), ('buatan', 2), ('mumpung', 2), ('dimintain', 2), ('ngapah', 2), ('membalas', 2), ('diklaim', 2), ('duitan', 2), ('keknya', 2), ('merancang', 2), ('haram', 2), ('ustadz', 2), ('pns', 2), ('makasih', 2), ('israel', 2), ('belajarlah', 2), ('ditegor', 2), ('sinting', 2), ('orangtua', 2), ('qobul', 2), ('pusat', 2), ('kanpus', 2), ('akses', 2), ('youtube', 2), ('doang', 2), ('diskusi', 2), ('cita', 2), ('daya', 2), ('respek', 2), ('menjabat', 2), ('maluin', 2), ('kesekian', 2), ('socmed', 2), ('dibalas', 2), ('sop', 2), ('memasuki', 2), ('rok', 2), ('ipa', 2), ('rkyt', 2), ('densus', 2), ('posesif', 2), ('konsekuensi', 2), ('face', 2), ('fake', 2), ('balance', 2), ('super', 2), ('teliti', 2), ('jenis', 2), ('head', 2), ('maafin', 2), ('perawat', 2), ('darahnya', 2), ('waduh', 2), ('honda', 2), ('whatsapp', 2), ('buru', 2), ('solo', 2), ('mood', 2), ('tega', 2), ('intoleran', 2), ('ojok', 2), ('serang', 2), ('order', 2), ('nasution', 2), ('penjaga', 2), ('sirik', 2), ('god', 2), ('elah', 2), ('najisin', 2), ('temuin', 2), ('presentasikan', 2), ('gatot', 2), ('tgb', 2), ('omongin', 2), ('hina', 2), ('lina', 2), ('belagu', 2), ('politikus', 2), ('nipu', 2), ('sleep', 2), ('abadi', 2), ('undang', 2), ('iblis', 2), ('cln', 2), ('goa', 2), ('viral', 2), ('lita', 2), ('amit', 2), ('sekelas', 2), ('diketawain', 2), ('son', 2), ('ce', 2), ('sorry', 2), ('kegoblokan', 2), ('pandang', 2), ('pembuktian', 2), ('musibah', 2), ('azab', 2), ('dibangun', 2), ('anjlok', 2), ('ektp', 2), ('mangkrak', 2), ('diluar', 2), ('menyalah', 2), ('nyalahkan', 2), ('out', 2), ('being', 2), ('ukhti', 2), ('abdi', 2), ('sosmed', 2), ('umroh', 2), ('takbir', 2), ('pencipta', 2), ('lumayan', 2), ('luas', 2), ('jamaahnya', 2), ('malak', 2), ('ujaran', 2), ('jelaskan', 2), ('kaget', 2), ('nyalain', 2), ('jawa', 2), ('nyaleg', 2), ('hadiahnya', 2), ('kenyang', 2), ('mei', 2), ('ujian', 2), ('tasik', 2), ('akang', 2), ('buronan', 2), ('numpuk', 2), ('keberanian', 2), ('dihilangkan', 2), ('memecah', 2), ('kristenisasi', 2), ('kebangkitan', 2), ('bilapun', 2), ('konteks', 2), ('membangkitkan', 2), ('hantu', 2), ('politis', 2), ('ekonomis', 2), ('depannya', 2), ('anter', 2), ('setidaknya', 2), ('memiliki', 2), ('sabang', 2), ('melawan', 2), ('diserang', 2), ('still', 2), ('uno', 2), ('pakde', 2), ('berbanding', 2), ('juara', 2), ('didunia', 2), ('perhatianku', 2), ('terbalik', 2), ('pemakaian', 2), ('persepsi', 2), ('pemikiran', 2), ('hastag', 2), ('gratis', 2), ('semena', 2), ('bolak', 2), ('divisi', 2), ('ilcbpip', 2), ('ck', 2), ('budi', 2), ('nihh', 2), ('pelacur', 2), ('ngelecehin', 2), ('women', 2), ('harrasement', 2), ('bercanda', 2), ('kompensasi', 2), ('lemot', 2), ('cma', 2), ('caper', 2), ('baper', 2), ('ngalami', 2), ('stock', 2), ('kenyamanan', 2), ('setengah', 2), ('cuk', 2), ('tampan', 2), ('bullshit', 2), ('gondok', 2), ('dongkol', 2), ('mangkel', 2), ('kagetnya', 2), ('meniqaaa', 2), ('insyafmu', 2), ('alim', 2), ('habluminallah', 2), ('free', 2), ('posisinya', 2), ('pengetahuan', 2), ('dikeluarin', 2), ('didalem', 2), ('jatuhkan', 2), ('kyai', 2), ('siembok', 2), ('artikel', 2), ('seenaknya', 2), ('maksimal', 2), ('kontol', 2), ('terlihat', 2), ('life', 2), ('fm', 2), ('seringkali', 2), ('dijawab', 2), ('ukuran', 2), ('menyebut', 2), ('dalamnya', 2), ('berbayar', 2), ('pekerjaan', 2), ('hobi', 2), ('ketahuan', 2), ('last', 2), ('everything', 2), ('dipermasalahkan', 2), ('different', 2), ('case', 2), ('iku', 2), ('poto', 2), ('gregetan', 2), ('karo', 2), ('tunjukan', 2), ('kesurupan', 2), ('beginilah', 2), ('ngomongnya', 2), ('nasional', 2), ('goyang', 2), ('better', 2), ('umumnya', 2), ('negatif', 2), ('kawin', 2), ('cerai', 2), ('kelebihan', 2), ('bikini', 2), ('niqab', 2), ('seragam', 2), ('akar', 2), ('instan', 2), ('walau', 2), ('konser', 2), ('ciri', 2), ('disamain', 2), ('kaca', 2), ('hhhh', 2), ('dikasi', 2), ('orde', 2), ('mumpuni', 2), ('wali', 2), ('mengkritik', 2), ('mpr', 2), ('tubuh', 2), ('nganggep', 2), ('pantat', 2), ('tukar', 2), ('viavallen', 2), ('menghujat', 2), ('budaya', 2), ('kandang', 2), ('cakep', 2), ('stok', 2), ('serasa', 2), ('ooo', 2), ('sepi', 2), ('pembina', 2), ('ucapkan', 2), ('mengganggu', 2), ('ngabalin', 2), ('dibiarkan', 2), ('pemprov', 2), ('stadion', 2), ('dipukuli', 2), ('menaklukkan', 2), ('mustahil', 2), ('perbuatan', 2), ('nakal', 2), ('do', 2), ('more', 2), ('salam', 2), ('kreatif', 2), ('melempar', 2), ('timur', 2), ('iman', 2), ('dikenal', 2), ('virus', 2), ('kriminal', 2), ('pagar', 2), ('dilapangan', 2), ('bunga', 2), ('maya', 2), ('lecehkan', 2), ('sekitar', 2), ('tetaplah', 2), ('cat', 2), ('calling', 2), ('pmrintah', 2), ('upaya', 2), ('kel', 2), ('perempuannya', 2), ('gituan', 2), ('harrassment', 2), ('speakup', 2), ('populer', 2), ('ngomongin', 2), ('sesat', 2), ('selera', 2), ('rizieq', 2), ('melahirkan', 2), ('kakap', 2), ('neg', 2), ('apaan', 2), ('sorban', 2), ('karir', 2), ('kecoak', 2), ('diperbaiki', 2), ('kecelakaan', 2), ('ngeselin', 2), ('dokter', 2), ('konsul', 2), ('tingkatkan', 2), ('lai', 2), ('jiang', 2), ('komentator', 2), ('analis', 2), ('bal', 2), ('balan', 2), ('terbaik', 2), ('logikanya', 2), ('berantakan', 2), ('kapok', 2), ('semarah', 2), ('tahap', 2), ('sinis', 2), ('periode', 2), ('error', 2), ('iyalah', 2), ('mendapat', 2), ('minoritas', 2), ('perbandingan', 2), ('terkutuk', 2), ('spam', 2), ('grgr', 2), ('kepemimpinan', 2), ('apan', 2), ('beban', 2), ('ay', 2), ('o', 2), ('jongkok', 2), ('ungulan', 2), ('coment', 2), ('odong', 2), ('kertas', 2), ('nak', 2), ('serta', 2), ('barulah', 2), ('muah', 2), ('bibirnya', 2), ('mantap', 2), ('slipi', 2), ('kekurangan', 2), ('ngumbar', 2), ('biduan', 2), ('musik', 2), ('mie', 2), ('pop', 2), ('provokatif', 2), ('tanda', 2), ('ngarang', 2), ('dialquran', 2), ('jelekin', 2), ('alquran', 2), ('nemu', 2), ('nyontek', 2), ('hadist', 2), ('dakwah', 2), ('ayam', 2), ('they', 2), ('tunjuk', 2), ('asumsi', 2), ('many', 2), ('victim', 2), ('positive', 2), ('zon', 2), ('bibit', 2), ('ngaceng', 2), ('murka', 2), ('dilontarkan', 2), ('nyambung', 2), ('sekat', 2), ('melaksanakan', 2), ('ngakunya', 2), ('jk', 2), ('berpendidikan', 2), ('utamanya', 2), ('laen', 2), ('abg', 2), ('ngerumpi', 2), ('ditangkap', 2), ('dibandingkan', 2), ('sepeda', 2), ('posting', 2), ('neymar', 2), ('gelar', 2), ('cocot', 2), ('kelewat', 2), ('dipenjara', 2), ('minyak', 2), ('apple', 2), ('proyek', 2), ('produksi', 2), ('rapat', 2), ('alam', 2), ('korbannya', 2), ('terang', 2), ('bahwasanya', 2), ('kartosoewiryo', 2), ('taat', 2), ('beragama', 2), ('sayyidina', 2), ('hafidz', 2), ('quran', 2), ('ahli', 2), ('ibnu', 2), ('muljam', 2), ('nyumpahin', 2), ('tercapai', 2), ('kemanusiaan', 2), ('laknat', 2), ('teror', 2), ('segalanya', 2), ('ketawa', 2), ('kurangi', 2), ('potensial', 2), ('donor', 2), ('tunggal', 2), ('parungpanjang', 2), ('sesekali', 2), ('menjelang', 2), ('estimasi', 2), ('infrastruktur', 2), ('dollar', 2), ('investasi', 2), ('nabung', 2), ('bakrie', 2), ('pt', 2), ('indon', 2), ('ppkn', 2), ('habisnya', 2), ('live', 2), ('fungsi', 2), ('banyakin', 2), ('kenaikan', 2), ('tarif', 2), ('memangnya', 2), ('puluhan', 2), ('modus', 2), ('mengaku', 2), ('elit', 2), ('kekuatan', 2), ('tiga', 2), ('apah', 2), ('umatnya', 2), ('lembaga', 2), ('dagangan', 2), ('olang', 2), ('im', 2), ('lapangan', 2), ('amerika', 2), ('rektor', 2), ('kontribusi', 2), ('istilah', 2), ('cui', 2), ('kredibel', 2), ('mengonggong', 2), ('cawapres', 2), ('wajah', 2), ('kliatan', 2), ('nuduh', 2), ('stress', 2), ('perpanjang', 2), ('dibantu', 2), ('bantuin', 2), ('misi', 2), ('dadakan', 2), ('nelpon', 2), ('partainya', 2), ('perasaan', 2), ('etc', 2), ('sentimen', 2), ('terkebelakang', 2), ('swasta', 2), ('dijalan', 2), ('diinginkan', 2), ('dok', 2), ('tempo', 2), ('merupakan', 2), ('menikmati', 2), ('venue', 2), ('twitt', 2), ('but', 2), ('mencuri', 2), ('bakar', 2), ('polemik', 2), ('hadits', 2), ('pengurus', 2), ('konflik', 2), ('keren', 2), ('menang', 2), ('mslh', 2), ('sukai', 2), ('kian', 2), ('campur', 2), ('meninggal', 2), ('mendapatkan', 2), ('tuduhan', 2), ('tuding', 2), ('memprovokasi', 2), ('weh', 2), ('cikarang', 2), ('sesak', 2), ('ja', 2), ('ditempat', 2), ('soldout', 2), ('tenggelamkan', 2), ('dagang', 2), ('scroll', 2), ('sejarah', 2), ('terpaksa', 2), ('bertahan', 2), ('like', 2), ('gblk', 2), ('people', 2), ('sosok', 2), ('boneka', 2), ('nyantai', 2), ('thinking', 2), ('goreng', 2), ('dianjurkan', 2), ('lhoo', 2), ('julid', 2), ('mitos', 2), ('omongannya', 2), ('nungguin', 2), ('ruang', 2), ('menduduki', 2), ('bangku', 2), ('hidupin', 2), ('padal', 2), ('kuotanya', 2), ('editing', 2), ('warganya', 2), ('ketakutan', 2), ('cie', 2), ('dibuktikan', 2), ('supplier', 2), ('thb', 2), ('koran', 2), ('bantuan', 2), ('smile', 2), ('okay', 2), ('cegah', 2), ('satker', 2), ('bhw', 2), ('cair', 2), ('hayuk', 2), ('bayangin', 2), ('setujui', 2), ('card', 2), ('ad', 2), ('nk', 2), ('suroboyo', 2), ('raya', 2), ('beginian', 2), ('kader', 2), ('mengapa', 2), ('intel', 2), ('alat', 2), ('ngejudge', 2), ('kursi', 2), ('sebelahnya', 2), ('kebagian', 2), ('ngindarin', 2), ('ngetik', 2), ('jaksa', 2), ('hallo', 2), ('ibadah', 2), ('toksik', 2), ('religius', 2), ('pengelolaan', 2), ('muterin', 2), ('halaman', 2), ('trf', 2), ('sepatu', 2), ('vulgar', 2), ('iko', 2), ('secepat', 2), ('kilat', 2), ('dibales', 2), ('menghilang', 2), ('selangkangan', 2), ('sejahtera', 2), ('alon', 2), ('iuran', 2), ('kopi', 2), ('sam', 2), ('bnr', 2), ('sahur', 2), ('kerudung', 2), ('lihatin', 2), ('plus', 2), ('barusan', 2), ('user', 2), ('identitas', 2), ('kiriman', 2), ('aceh', 2), ('mengomel', 2), ('diomelin', 2), ('human', 2), ('ngeyel', 2), ('beserta', 2), ('haji', 2), ('seni', 2), ('dahulu', 2), ('tcash', 2), ('langsng', 2), ('pelit', 2), ('server', 2), ('ade', 2), ('et', 2), ('grapari', 2), ('umar', 2), ('khatab', 2), ('kemunduran', 2), ('berturut', 2), ('down', 2), ('dibatalkan', 2), ('membenci', 2), ('mantannya', 2), ('ingatan', 2), ('komplen', 2), ('kedebet', 2), ('pn', 2), ('menambah', 2), ('berbusana', 2), ('keledai', 2), ('motong', 2), ('bala', 2), ('ditakuti', 2), ('nangkep', 2), ('sokan', 2), ('evaluasi', 2), ('coi', 2), ('memikirkan', 2), ('larut', 2), ('adab', 2), ('hujat', 2), ('dosen', 2), ('dinas', 2), ('bekukan', 2), ('dingin', 2), ('re', 2), ('arsitektur', 2), ('tanahnya', 2), ('tentunya', 2), ('kontroversi', 2), ('gambir', 2), ('semarang', 2), ('mlht', 2), ('pedagang', 2), ('masjid', 2), ('diliat', 2), ('diperlukan', 2), ('bl', 2), ('tertentu', 2), ('terbaru', 2), ('pikun', 2), ('cuma', 2), ('indihome', 2), ('tolonglah', 2), ('kowe', 2), ('aktif', 2), ('bali', 2), ('enggan', 2), ('berpenghasilan', 2), ('sktm', 2), ('fondaition', 2), ('kecantikan', 2), ('kiamat', 2), ('bebenah', 2), ('elektronik', 2), ('pemesanan', 2), ('faedah', 2), ('ondel', 2), ('takluk', 2), ('delcontnan', 2), ('paslon', 2), ('kagum', 2), ('arbitrase', 2), ('carls', 2), ('jr', 2), ('ditutup', 2), ('npwp', 2), ('tokopedia', 2), ('mifi', 2), ('berdarah', 2), ('mahar', 2), ('mistranslate', 2), ('kasusnya', 2), ('sara', 2), ('penghianat', 2), ('narasumber', 2), ('diliput', 2), ('ena', 2), ('appli', 2), ('tanggapan', 2), ('gertak', 1), ('pembahasan', 1), ('temurun', 1), ('pelik', 1), ('sakitnya', 1), ('haid', 1), ('paniknya', 1), ('wajarlah', 1), ('wewenang', 1), ('abng', 1), ('trdahulu', 1), ('dibenahi', 1), ('bermnfaat', 1), ('butek', 1), ('penulisan', 1), ('seberantakan', 1), ('judge', 1), ('penyerangan', 1), ('pidananya', 1), ('menjual', 1), ('jepretan', 1), ('sebening', 1), ('bacain', 1), ('mahabenar', 1), ('lord', 1), ('tenggelam', 1), ('sedihnya', 1), ('rerata', 1), ('kesehatanmu', 1), ('dikasur', 1), ('logat', 1), ('dahlia', 1), ('badak', 1), ('dikelola', 1), ('amatiran', 1), ('kenpak', 1), ('mengindahkan', 1), ('statementnya', 1), ('koordinasi', 1), ('gagahan', 1), ('setalah', 1), ('dianulir', 1), ('marwahmu', 1), ('mr', 1), ('ketentuan', 1), ('diadu', 1), ('ditentuin', 1), ('sarjana', 1), ('diungkapkan', 1), ('julidin', 1), ('syari', 1), ('dikelas', 1), ('menyela', 1), ('instanya', 1), ('gerak', 1), ('titik', 1), ('searah', 1), ('dibenarkan', 1), ('hebatnya', 1), ('faktanya', 1), ('menyebutkan', 1), ('rencananya', 1), ('jurassic', 1), ('world', 1), ('kayanya', 1), ('mengingat', 1), ('fit', 1), ('sebelanga', 1), ('anteng', 1), ('seluas', 1), ('samudra', 1), ('mikirlah', 1), ('mengadili', 1), ('genosida', 1), ('kacang', 1), ('kulit', 1), ('web', 1), ('permata', 1), ('klik', 1), ('responding', 1), ('maret', 1), ('proses', 1), ('nambang', 1), ('rembang', 1), ('meter', 1), ('areal', 1), ('tambang', 1), ('lamanya', 1), ('tantrum', 1), ('ngantuk', 1), ('istigfar', 1), ('kodratnya', 1), ('gabung', 1), ('alihkan', 1), ('penyelundup', 1), ('datar', 1), ('pi', 1), ('wannaone', 1), ('entertainment', 1), ('warns', 1), ('action', 1), ('masters', 1), ('jkn', 1), ('puskesmes', 1), ('tunjukkan', 1), ('elektoniknya', 1), ('bongakkk', 1), ('dulunya', 1), ('flexible', 1), ('dimosi', 1), ('lengser', 1), ('geger', 1), ('musim', 1), ('pelemahan', 1), ('sebarkan', 1), ('tinju', 1), ('kurirnya', 1), ('pertanggung', 1), ('secepatnya', 1), ('yatim', 1), ('katering', 1), ('menguras', 1), ('materi', 1), ('menjiplak', 1), ('gimmik', 1), ('stereotyping', 1), ('ditunjukkan', 1), ('mengecam', 1), ('kebenaran', 1), ('argumen', 1), ('disakiti', 1), ('kpdmu', 1), ('ansor', 1), ('menerus', 1), ('difitnah', 1), ('cikal', 1), ('bakalnya', 1), ('black', 1), ('malingnye', 1), ('salamsatunyalilari', 1), ('bonekjancuk', 1), ('desk', 1), ('menjawab', 1), ('kejawab', 1), ('apsara', 1), ('perawatannya', 1), ('iyain', 1), ('ribet', 1), ('jaminan', 1), ('keprofesionalan', 1), ('official', 1), ('kal', 1), ('risih', 1), ('bareng', 1), ('scam', 1), ('fraud', 1), ('ranah', 1), ('menampilkan', 1), ('berdosa', 1), ('dinikmati', 1), ('heh', 1), ('auto', 1), ('mbaaaak', 1), ('berjuta', 1), ('pendapatan', 1), ('pembenaranmu', 1), ('pendapatmu', 1), ('selonjoran', 1), ('sofa', 1), ('melepaskan', 1), ('kickstarter', 1), ('selaku', 1), ('penyedia', 1), ('platform', 1), ('crowd', 1), ('funding', 1), ('tunduk', 1), ('governing', 1), ('law', 1), ('loophole', 1), ('ibukota', 1), ('pimpin', 1), ('perlindungan', 1), ('dimohon', 1), ('include', 1), ('bo', 1), ('labil', 1), ('taatin', 1), ('rule', 1), ('utamakan', 1), ('amandemen', 1), ('berkat', 1), ('rahmat', 1), ('uud', 1), ('disitu', 1), ('bongo', 1), ('mengapresiasi', 1), ('gapnya', 1), ('ketjewalah', 1), ('rakus', 1), ('advokat', 1), ('dirampok', 1), ('rahasia', 1), ('edaran', 1), ('maintain', 1), ('denda', 1), ('potongan', 1), ('konyol', 1), ('publish', 1), ('ngasi', 1), ('goda', 1), ('nerusin', 1), ('permaluin', 1), ('reminder', 1), ('bua', 1), ('negeriku', 1), ('diturunkan', 1), ('melenggang', 1), ('jaya', 1), ('raisa', 1), ('dipersembahkan', 1), ('permisif', 1), ('dialami', 1), ('khanmaen', 1), ('ketimbang', 1), ('memanfaatkannya', 1), ('pertunjukan', 1), ('dalih', 1), ('pembelaan', 1), ('hilihkinthil', 1), ('ojolnya', 1), ('bensinnya', 1), ('baliknya', 1), ('kesatuan', 1), ('mencopot', 1), ('tragedi', 1), ('bertanggung', 1), ('menembak', 1), ('mikirkan', 1), ('pelanggar', 1), ('bebal', 1), ('berlanjut', 1), ('salahsatunya', 1), ('keluargamu', 1), ('cakung', 1), ('prosedur', 1), ('jumat', 1), ('difollow', 1), ('maksindo', 1), ('rabu', 1), ('esmosi', 1), ('byr', 1), ('hadapi', 1), ('jik', 1), ('pulanglah', 1), ('peler', 1), ('eselon', 1), ('pelaksananya', 1), ('ttd', 1), ('istilahnya', 1), ('neliti', 1), ('dittd', 1), ('dipenuhi', 1), ('sarang', 1), ('pentolannya', 1), ('prodeo', 1), ('terjerat', 1), ('gocar', 1), ('cikampek', 1), ('ironisnya', 1), ('terbiasa', 1), ('dikirimin', 1), ('bolehkan', 1), ('diomongin', 1), ('dimata', 1), ('laun', 1), ('tetangga', 1), ('ngedip', 1), ('diiiiiiiiiih', 1), ('allaaaaah', 1), ('sebisa', 1), ('ngeblokir', 1), ('dimaafkan', 1), ('difermentasi', 1), ('bergelimang', 1), ('karma', 1), ('hotline', 1), ('purwokerto', 1), ('kaimana', 1), ('papua', 1), ('kalimanah', 1), ('dihukum', 1), ('ditembak', 1), ('sibangsat', 1), ('dijagain', 1), ('selagi', 1), ('mertua', 1), ('ied', 1), ('sungkeman', 1), ('pahala', 1), ('persepak', 1), ('bolaan', 1), ('gaza', 1), ('sanah', 1), ('keberpihakan', 1), ('ala', 1), ('unggulan', 1), ('okeh', 1), ('ngoce', 1), ('mengisi', 1), ('gemetaran', 1), ('pantokhir', 1), ('akmil', 1), ('pap', 1), ('payudara', 1), ('matian', 1), ('bahagiain', 1), ('ayahnya', 1), ('semula', 1), ('transmigrasi', 1), ('apinya', 1), ('copet', 1), ('zhon', 1), ('relepansi', 1), ('godok', 1), ('diacak', 1), ('derita', 1), ('pelanggaran', 1), ('persepakbolaan', 1), ('musnah', 1), ('bersihkan', 1), ('habisan', 1), ('usut', 1), ('datangi', 1), ('wartawannya', 1), ('target', 1), ('politiknya', 1), ('khianati', 1), ('jantung', 1), ('rusuh', 1), ('terorganisir', 1), ('saudaranya', 1), ('biru', 1), ('mesin', 1), ('best', 1), ('denki', 1), ('central', 1), ('park', 1), ('instalansi', 1), ('praktek', 1), ('alumnus', 1), ('kepentingannya', 1), ('sepengetahuan', 1), ('otoritas', 1), ('dululah', 1), ('berkutat', 1), ('keruh', 1), ('ketimpangan', 1), ('picak', 1), ('memutarbalikan', 1), ('correct', 1), ('me', 1), ('if', 1), ('i', 1), ('konotasi', 1), ('dilekatkan', 1), ('kompromi', 1), ('matematikawan', 1), ('mestinya', 1), ('assuming', 1), ('meragukan', 1), ('sahih', 1), ('kepancing', 1), ('dimane', 1), ('miring', 1), ('dihitung', 1), ('disembah', 1), ('pengganguran', 1), ('kebukti', 1), ('dibelain', 1), ('wadah', 1), ('menyetarakan', 1), ('nyaring', 1), ('bunyinya', 1), ('basis', 1), ('jakmania', 1), ('kehotel', 1), ('mandi', 1), ('sendal', 1), ('jepit', 1), ('gembel', 1), ('lift', 1), ('disana', 1), ('bejuta', 1), ('pahami', 1), ('keseluruhan', 1), ('kitab', 1), ('terganti', 1), ('digratisin', 1), ('apal', 1), ('menusuk', 1), ('selamanya', 1), ('menengah', 1), ('depok', 1), ('file', 1), ('tanyaan', 1), ('bangkai', 1), ('dibalik', 1), ('nikmati', 1), ('imbas', 1), ('diputusin', 1), ('istiqomah', 1), ('konon', 1), ('nereka', 1), ('besoknya', 1), ('gandengan', 1), ('dinikahin', 1), ('dihalalin', 1), ('temani', 1), ('pergantian', 1), ('transisinya', 1), ('description', 1), ('zalim', 1), ('junioritas', 1), ('timeline', 1), ('curiga', 1), ('ngebully', 1), ('skandalnya', 1), ('ujung', 1), ('protes', 1), ('tahunnya', 1), ('disiram', 1), ('siram', 1), ('terlanjur', 1), ('diadakan', 1), ('playstorenya', 1), ('legend', 1), ('senyumin', 1), ('anas', 1), ('kasasi', 1), ('mengharap', 1), ('putusan', 1), ('ditelikung', 1), ('transj', 1), ('berbaik', 1), ('dudukin', 1), ('jebakan', 1), ('keagamaan', 1), ('bulu', 1), ('bantam', 1), ('alkafirun', 1), ('ecek', 1), ('modalnya', 1), ('berdasar', 1), ('persidangan', 1), ('saingan', 1), ('dota', 1), ('pubg', 1), ('peringkat', 1), ('diubun', 1), ('ubun', 1), ('kebaca', 1), ('ton', 1), ('teka', 1), ('teki', 1), ('berideologi', 1), ('bermental', 1), ('disponsori', 1), ('testiq', 1), ('membuktikan', 1), ('napi', 1), ('menandakan', 1), ('ml', 1), ('buyback', 1), ('ajang', 1), ('spontan', 1), ('bantah', 1), ('disingkron', 1), ('taunya', 1), ('twiter', 1), ('perduli', 1), ('tumbuh', 1), ('seribu', 1), ('bye', 1), ('dihamburkan', 1), ('lantang', 1), ('menghormati', 1), ('memparalat', 1), ('front', 1), ('linernya', 1), ('fansnya', 1), ('angkuh', 1), ('menjauh', 1), ('rasanya', 1), ('kaku', 1), ('pinjam', 1), ('tupperware', 1), ('kamis', 1), ('rendang', 1), ('dimasukin', 1), ('freezer', 1), ('sent', 1), ('hell', 1), ('giga', 1), ('sinyalnya', 1), ('sariwates', 1), ('kiaracondong', 1), ('magrib', 1), ('mengantarkan', 1), ('berkerudung', 1), ('rambutnya', 1), ('dibelakangnya', 1), ('ditengah', 1), ('disalip', 1), ('ketiganya', 1), ('membalikan', 1), ('telapak', 1), ('segelintir', 1), ('mencoreng', 1), ('berkelit', 1), ('bersandiwara', 1), ('kebodohan', 1), ('penghinaan', 1), ('congoni', 1), ('bersabar', 1), ('ucap', 1), ('ajalah', 1), ('permisa', 1), ('visa', 1), ('baguslah', 1), ('mangap', 1), ('kunyuk', 1), ('sepenuhnya', 1), ('yah', 1), ('mengembalikan', 1), ('mabuk', 1), ('teks', 1), ('optimis', 1), ('iyuh', 1), ('urat', 1), ('digadang', 1), ('benarkan', 1), ('majuin', 1), ('daerahnya', 1), ('kerajinan', 1), ('penduduk', 1), ('polah', 1), ('menderita', 1), ('kebal', 1), ('penderitaan', 1), ('penjajah', 1), ('terparah', 1), ('membanting', 1), ('menikmatinya', 1), ('kemunculan', 1), ('bakil', 1), ('sembuh', 1), ('dendamnya', 1), ('usil', 1), ('dikiranya', 1), ('aware', 1), ('pikirin', 1), ('konco', 1), ('operator', 1), ('expo', 1), ('dpnya', 1), ('heboh', 1), ('gaberner', 1), ('kolonial', 1), ('eson', 1), ('samping', 1), ('kfc', 1), ('lancar', 1), ('curcol', 1), ('bilangnya', 1), ('lillah', 1), ('pembelajarannya', 1), ('su', 1), ('chatting', 1), ('mine', 1), ('tau', 1), ('berubah', 1), ('hilux', 1), ('lebar', 1), ('melindasi', 1), ('lindas', 1), ('tot', 1), ('kucing', 1), ('sanggup', 1), ('lambaikan', 1), ('camera', 1), ('cik', 1), ('binus', 1), ('psychology', 1), ('mulus', 1), ('sich', 1), ('cekatan', 1), ('pengajian', 1), ('ustadznya', 1), ('dibubarkan', 1), ('pulau', 1), ('pulaunya', 1), ('apartemennya', 1), ('nantinya', 1), ('melihara', 1), ('kecebong', 1), ('ustad', 1), ('disuap', 1), ('kerahkan', 1), ('dibodohi', 1), ('ngedumel', 1), ('timbang', 1), ('setaon', 1), ('dimintainnya', 1), ('lgian', 1), ('dipatok', 1), ('parcaya', 1), ('rezeki', 1), ('mambah', 1), ('jauhkan', 1), ('membawamu', 1), ('disopirin', 1), ('hafal', 1), ('jus', 1), ('kebalik', 1), ('dipohon', 1), ('ditunjukin', 1), ('balasku', 1), ('hakcipta', 1), ('perasaanmu', 1), ('biji', 1), ('brp', 1), ('ditny', 1), ('berulangkali', 1), ('refreshing', 1), ('udara', 1), ('segar', 1), ('terlaku', 1), ('sumpek', 1), ('feel', 1), ('seringnya', 1), ('kepake', 1), ('mencak', 1), ('menyingkirkannya', 1), ('rkhup', 1), ('mempertimbangkan', 1), ('perancang', 1), ('rkuhp', 1), ('mnguntungkan', 1), ('drimu', 1), ('betah', 1), ('pantatcina', 1), ('thoghut', 1), ('tnya', 1), ('nawarin', 1), ('blablablaaahhh', 1), ('sederhana', 1), ('gundulmu', 1), ('pendiri', 1), ('menentang', 1), ('mmbela', 1), ('dsar', 1), ('gajinya', 1), ('ahh', 1), ('ontime', 1), ('mister', 1), ('olala', 1), ('ckp', 1), ('setahun', 1), ('kitudeui', 1), ('jubras', 1), ('jebris', 1), ('punyan', 1), ('panyun', 1), ('batur', 1), ('sp', 1), ('kumaha', 1), ('deui', 1), ('pisang', 1), ('ambon', 1), ('usus', 1), ('terurai', 1), ('ledakan', 1), ('apkl', 1), ('ijab', 1), ('mendata', 1), ('vertikal', 1), ('bawahnya', 1), ('disuruhnya', 1), ('halaaahh', 1), ('ciduk', 1), ('noh', 1), ('kacungmu', 1), ('braninya', 1), ('plangaplongo', 1), ('ngalor', 1), ('ngidul', 1), ('kabuuuurrr', 1), ('petahana', 1), ('menggapai', 1), ('netesin', 1), ('keringat', 1), ('sediain', 1), ('karpet', 1), ('menyia', 1), ('nyiakan', 1), ('toyor', 1), ('driverku', 1), ('seangkatan', 1), ('lum', 1), ('bubu', 1), ('muntah', 1), ('marjuki', 1), ('waspadai', 1), ('dak', 1), ('hawatir', 1), ('mekanisme', 1), ('pemilihan', 1), ('direksi', 1), ('komisarisnya', 1), ('bod', 1), ('boc', 1), ('nice', 1), ('isengnya', 1), ('seanjing', 1), ('hadeehh', 1), ('dipilih', 1), ('tandanya', 1), ('bernalar', 1), ('kreasi', 1), ('udahgituaja', 1), ('pengagum', 1), ('tatanan', 1), ('transparansi', 1), ('pemprof', 1), ('detik', 1), ('kelewatan', 1), ('peak', 1), ('ips', 1), ('bejad', 1), ('spv', 1), ('paginy', 1), ('lauk', 1), ('samyang', 1), ('syukurin', 1), ('dapetin', 1), ('gapenting', 1), ('bruh', 1), ('nyut', 1), ('nyutan', 1), ('karen', 1), ('mengulang', 1), ('memahami', 1), ('selayaknya', 1), ('huuhhh', 1), ('nyombongin', 1), ('pede', 1), ('pengakuan', 1), ('dept', 1), ('gm', 1), ('bertanduk', 1), ('buah', 1), ('ketiga', 1), ('dst', 1), ('plaakkk', 1), ('ilfeel', 1), ('ngegaji', 1), ('nyaut', 1), ('lemak', 1), ('anyiiiiing', 1), ('omonganmu', 1), ('koyo', 1), ('seh', 1), ('dikeplak', 1), ('wis', 1), ('talah', 1), ('untungnya', 1), ('menghasilkan', 1), ('po', 1), ('pasukan', 1), ('ngebubarin', 1), ('pengajiannya', 1), ('ust', 1), ('terlarang', 1), ('sales', 1), ('force', 1), ('suzuki', 1), ('rsu', 1), ('kesebuah', 1), ('ancernya', 1), ('selepas', 1), ('taraweh', 1), ('fisika', 1), ('tamu', 1), ('discon', 1), ('okey', 1), ('kebhinekaan', 1), ('kakean', 1), ('ember', 1), ('ngasitau', 1), ('brusaha', 1), ('ngomporin', 1), ('duhh', 1), ('kalii', 1), ('pencurian', 1), ('choir', 1), ('tka', 1), ('abud', 1), ('pabriknya', 1), ('goindonesia', 1), ('gerindrong', 1), ('dongo', 1), ('kabah', 1), ('matanya', 1), ('oce', 1), ('muslihat', 1), ('paktanya', 1), ('sulitlah', 1), ('ocehan', 1), ('rusdi', 1), ('kimak', 1), ('tarkul', 1), ('lae', 1), ('yesus', 1), ('singkat', 1), ('ngayal', 1), ('ketinggian', 1), ('very', 1), ('confused', 1), ('tngh', 1), ('kelilingin', 1), ('sirikan', 1), ('bocengli', 1), ('hubby', 1), ('mature', 1), ('gobloknya', 1), ('bgtu', 1), ('waste', 1), ('penanganan', 1), ('integrated', 1), ('kacauu', 1), ('kamprettt', 1), ('slain', 1), ('kriting', 1), ('jungkir', 1), ('sll', 1), ('cawapresny', 1), ('plesinden', 1), ('hedeh', 1), ('kamplettt', 1), ('napsu', 1), ('bagusan', 1), ('dibioskop', 1), ('paku', 1), ('payung', 1), ('nyawa', 1), ('dihina', 1), ('remehin', 1), ('sodaraw', 1), ('dengkii', 1), ('sumpahin', 1), ('tipuannya', 1), ('seterusnya', 1), ('ahahhah', 1), ('postingan', 1), ('juned', 1), ('mnghadirin', 1), ('idiot', 1), ('menghadiri', 1), ('kapooook', 1), ('bangsaaat', 1), ('anjrit', 1), ('anjiiing', 1), ('cicil', 1), ('never', 1), ('kristen', 1), ('najisssin', 1), ('tajir', 1), ('catat', 1), ('dendem', 1), ('br', 1), ('diancam', 1), ('dikacungin', 1), ('adiknya', 1), ('coz', 1), ('keluarganya', 1), ('saraf', 1), ('lesehan', 1), ('lega', 1), ('deketin', 1), ('niban', 1), ('ngelacur', 1), ('gasukak', 1), ('gamo', 1), ('etapi', 1), ('jugak', 1), ('sukak', 1), ('disetujuin', 1), ('bulenya', 1), ('woii', 1), ('geer', 1), ('emerson', 1), ('kerna', 1), ('kebencianya', 1), ('junjungannya', 1), ('cw', 1), ('co', 1), ('kemudahan', 1), ('dimanfaatin', 1), ('kegilaan', 1), ('lingkaran', 1), ('lakinya', 1), ('najiiiis', 1), ('bejibun', 1), ('privasi', 1), ('udahlah', 1), ('bijaksana', 1), ('berujung', 1), ('guys', 1), ('ngertiin', 1), ('then', 1), ('dinamika', 1), ('pertemanan', 1), ('yey', 1), ('slek', 1), ('slekkan', 1), ('sahabatan', 1), ('terjebak', 1), ('gerakn', 1), ('ktk', 1), ('golongannya', 1), ('cobaan', 1), ('misuh', 1), ('matane', 1), ('kritis', 1), ('beraninya', 1), ('jembatan', 1), ('pelabuhan', 1), ('elektabilitas', 1), ('hambalang', 1), ('katakan', 1), ('kerjaannya', 1), ('acar', 1), ('worth', 1), ('budget', 1), ('beribu', 1), ('puki', 1), ('gilirah', 1), ('meledak', 1), ('gituajaterus', 1), ('sekjend', 1), ('kronologis', 1), ('bantul', 1), ('pade', 1), ('lola', 1), ('turned', 1), ('asshole', 1), ('menyangkal', 1), ('parahnya', 1), ('aminin', 1), ('mustajab', 1), ('nyoblos', 1), ('bermoral', 1), ('dongok', 1), ('tangkepin', 1), ('nolongin', 1), ('jamaah', 1), ('bloon', 1), ('ditipu', 1), ('syahwat', 1), ('rubicon', 1), ('hummer', 1), ('gerakan', 1), ('slh', 1), ('hatinya', 1), ('mosok', 1), ('cenderung', 1), ('ceck', 1), ('tb', 1), ('minus', 1), ('palakin', 1), ('seketika', 1), ('pdi', 1), ('khayru', 1), ('ummah', 1), ('perintahnya', 1), ('ruf', 1), ('mencegah', 1), ('munkar', 1), ('ibarat', 1), ('kang', 1), ('kabupaten', 1), ('oge', 1), ('pr', 1), ('malahan', 1), ('tidap', 1), ('cing', 1), ('mikil', 1), ('disegani', 1), ('menyegani', 1), ('bawaslu', 1), ('terjun', 1), ('tutur', 1), ('disambangi', 1), ('dinegara', 1), ('ngakaknya', 1), ('menyembah', 1), ('charles', 1), ('darwin', 1), ('teori', 1), ('tahayul', 1), ('konyolnya', 1), ('kloning', 1), ('ngadepin', 1), ('deflasi', 1), ('munir', 1), ('udin', 1), ('disingkirkan', 1), ('dipenjarakan', 1), ('dilaporkan', 1), ('oembingkaian', 1), ('kuar', 1), ('memaknai', 1), ('don', 1), ('needy', 1), ('prioritaskan', 1), ('maksain', 1), ('cubit', 1), ('cubitin', 1), ('gangguin', 1), ('kejelasan', 1), ('langkahnya', 1), ('pembingkaian', 1), ('tahyul', 1), ('bahlul', 1), ('indikasi', 1), ('pertengahan', 1), ('terjengkang', 1), ('terkapar', 1), ('semaput', 1), ('kenangan', 1), ('bbri', 1), ('bbmr', 1), ('telo', 1), ('satelit', 1), ('penjelasan', 1), ('vid', 1), ('ditanggapin', 1), ('tajam', 1), ('plasa', 1), ('nelfon', 1), ('pelaporan', 1), ('go', 1), ('kabar', 1), ('childish', 1), ('kekanakkanakan', 1), ('overacting', 1), ('tanggapi', 1), ('sandiaga', 1), ('karwo', 1), ('mendagri', 1), ('hri', 1), ('janjian', 1), ('jek', 1), ('nang', 1), ('deeh', 1), ('pejuang', 1), ('tersisa', 1), ('direbut', 1), ('lurus', 1), ('govlok', 1), ('berhiaskan', 1), ('rasisme', 1), ('mongooo', 1), ('memendam', 1), ('liberalisme', 1), ('afganistan', 1), ('pakistan', 1), ('iran', 1), ('menarik', 1), ('konten', 1), ('sumbangsih', 1), ('kebersihan', 1), ('semudah', 1), ('laboratorium', 1), ('semster', 1), ('doain', 1), ('common', 1), ('logic', 1), ('logcial', 1), ('fallacy', 1), ('cret', 1), ('jihad', 1), ('pekerjaannya', 1), ('passion', 1), ('nyinyiri', 1), ('anjiir', 1), ('casually', 1), ('angry', 1), ('sebiasa', 1), ('melecehkan', 1), ('diremehkan', 1), ('sekalii', 1), ('urutannya', 1), ('kegiatan', 1), ('desa', 1), ('mantion', 1), ('berakhir', 1), ('unik', 1), ('provide', 1), ('special', 1), ('pesennya', 1), ('mena', 1), ('around', 1), ('mbuh', 1), ('suteki', 1), ('akhirat', 1), ('ramalan', 1), ('melacur', 1), ('gratisan', 1), ('consent', 1), ('worst', 1), ('enemy', 1), ('feminim', 1), ('itself', 1), ('idolamu', 1), ('khilaf', 1), ('dijadiin', 1), ('layanan', 1), ('speed', 1), ('tauuuuuuuu', 1), ('teiung', 1), ('pisau', 1), ('preseden', 1), ('rude', 1), ('publishing', 1), ('fvcking', 1), ('kidding', 1), ('flash', 1), ('sale', 1), ('dikabarin', 1), ('stocknya', 1), ('ngecek', 1), ('ketampanan', 1), ('pria', 1), ('wtf', 1), ('hee', 1), ('relationshit', 1), ('habluminannas', 1), ('disakitinya', 1), ('dipoligami', 1), ('disiksa', 1), ('batinnya', 1), ('dilepasin', 1), ('as', 1), ('bird', 1), ('pejaten', 1), ('villagenya', 1), ('mengular', 1), ('macetnya', 1), ('gelarnya', 1), ('hrsnya', 1), ('ngentot', 1), ('heiii', 1), ('mbah', 1), ('buya', 1), ('setahu', 1), ('terdapat', 1), ('satupun', 1), ('memuat', 1), ('panitia', 1), ('wkakaka', 1), ('ymc', 1), ('woojin', 1), ('merugi', 1), ('pontang', 1), ('panting', 1), ('pembantu', 1), ('kehabisan', 1), ('investor', 1), ('selemah', 1), ('dipertahanin', 1), ('dicemooh', 1), ('dihargai', 1), ('pembalap', 1), ('mengkerut', 1), ('twittermu', 1), ('brrt', 1), ('senasib', 1), ('ask', 1), ('anon', 1), ('mbacot', 1), ('sakarepe', 1), ('klikbca', 1), ('dimaksud', 1), ('omong', 1), ('website', 1), ('jatuhin', 1), ('agnezmo', 1), ('vote', 1), ('graris', 1), ('haloo', 1), ('ngadain', 1), ('asupan', 1), ('takaran', 1), ('balikin', 1), ('person', 1), ('general', 1), ('sentuhan', 1), ('perkataan', 1), ('nitijen', 1), ('economy', 1), ('lom', 1), ('transparan', 1), ('njlimet', 1), ('misqin', 1), ('jurnal', 1), ('dihack', 1), ('jurnalnya', 1), ('tabur', 1), ('tuai', 1), ('mgkin', 1), ('memfitnah', 1), ('terselubung', 1), ('carmuk', 1), ('kebengenan', 1), ('masanya', 1), ('berkehendak', 1), ('balasannya', 1), ('nyebur', 1), ('dideketin', 1), ('sosialisasi', 1), ('garuk', 1), ('jembut', 1), ('liburan', 1), ('halal', 1), ('apasih', 1), ('bertindak', 1), ('sedemikian', 1), ('memandang', 1), ('sprti', 1), ('come', 1), ('moments', 1), ('tristan', 1), ('merespon', 1), ('those', 1), ('two', 1), ('cases', 1), ('dishare', 1), ('postan', 1), ('tenggelem', 1), ('koe', 1), ('moshing', 1), ('maung', 1), ('pamor', 1), ('njeplak', 1), ('wae', 1), ('melemahkan', 1), ('menyebarkan', 1), ('pantaslah', 1), ('bicaranya', 1), ('mengubah', 1), ('syur', 1), ('diambil', 1), ('solving', 1), ('membela', 1), ('favorit', 1), ('bapuk', 1), ('least', 1), ('ngrasa', 1), ('jepang', 1), ('nebas', 1), ('samurai', 1), ('korea', 1), ('sujud', 1), ('selewat', 1), ('sue', 1), ('jelpi', 1), ('ngalamin', 1), ('bakat', 1), ('adat', 1), ('ketimuran', 1), ('jadian', 1), ('gedebuk', 1), ('pedahal', 1), ('humble', 1), ('jama', 1), ('bisannya', 1), ('ngelu', 1), ('bercita', 1), ('pikirnya', 1), ('terbatas', 1), ('menjongoskan', 1), ('menampung', 1), ('tuliskan', 1), ('anjingnya', 1), ('cuuk', 1), ('bonekselamanyajancok', 1), ('darimana', 1), ('maukah', 1), ('traika', 1), ('membungkuk', 1), ('ag', 1), ('trending', 1), ('topic', 1), ('trendy', 1), ('doski', 1), ('joget', 1), ('barangkali', 1), ('shit', 1), ('sekesel', 1), ('kasis', 1), ('dilaporin', 1), ('sederhananya', 1), ('respect', 1), ('seenggaknya', 1), ('terdidik', 1), ('macan', 1), ('naluri', 1), ('moyang', 1), ('hits', 1), ('hype', 1), ('terkece', 1), ('followers', 1), ('larinya', 1), ('hunting', 1), ('anying', 1), ('milenial', 1), ('literatur', 1), ('emamg', 1), ('sumpel', 1), ('kntr', 1), ('ki', 1), ('jepangnya', 1), ('dgrin', 1), ('pk', 1), ('sumpelan', 1), ('abisnya', 1), ('dukcapil', 1), ('dibuatin', 1), ('suket', 1), ('ngurusnya', 1), ('pembeking', 1), ('instruksi', 1), ('ketuanya', 1), ('anggotanya', 1), ('mengefektifkan', 1), ('jubir', 1), ('mochtar', 1), ('representasi', 1), ('dekaden', 1), ('pandangan', 1), ('menguasai', 1), ('sewa', 1), ('gbk', 1), ('knapa', 1), ('ditangani', 1), ('membelanya', 1), ('beramai', 1), ('temannya', 1), ('theja', 1), ('belantara', 1), ('jkrta', 1), ('disusul', 1), ('dikomando', 1), ('talk', 1), ('less', 1), ('while', 1), ('leading', 1), ('mental', 1), ('diringkus', 1), ('kaco', 1), ('manusiawi', 1), ('mknya', 1), ('pengharhaan', 1), ('punyamu', 1), ('acuan', 1), ('keseringan', 1), ('alibi', 1), ('melanjutkan', 1), ('bawahan', 1), ('ngeles', 1), ('harta', 1), ('positif', 1), ('nafsunya', 1), ('pandangannya', 1), ('burung', 1), ('harassmentnya', 1), ('kalia', 1), ('pemalu', 1), ('berkembang', 1), ('kini', 1), ('tertangkap', 1), ('bergaya', 1), ('selebritis', 1), ('honorer', 1), ('ketenaga', 1), ('kelapangan', 1), ('memonitor', 1), ('skpd', 1), ('penghianatan', 1), ('dibelakang', 1), ('tribun', 1), ('bangkitkan', 1), ('hidupmu', 1), ('membahagiakan', 1), ('pot', 1), ('goblik', 1), ('feeling', 1), ('responsible', 1), ('wait', 1), ('pray', 1), ('emmm', 1), ('pansol', 1), ('soksokan', 1), ('iba', 1), ('ditanyain', 1), ('ibakan', 1), ('sedunia', 1), ('ss', 1), ('anyir', 1), ('nying', 1), ('korelasinya', 1), ('marenmaren', 1), ('emoshi', 1), ('tyap', 1), ('kosyoong', 1), ('melomponggggg', 1), ('aurat', 1), ('wangi', 1), ('wangian', 1), ('tercium', 1), ('peluang', 1), ('persentasenya', 1), ('mens', 1), ('bentuknya', 1), ('telfon', 1), ('berfaedah', 1), ('nyepam', 1), ('facebook', 1), ('garuda', 1), ('transferannya', 1), ('tergantung', 1), ('maskapai', 1), ('sodaraku', 1), ('ref', 1), ('menjengkelkan', 1), ('speakernya', 1), ('grebek', 1), ('melengking', 1), ('tepatnya', 1), ('kptusan', 1), ('mmbyr', 1), ('gj', 1), ('disambut', 1), ('gmbira', 1), ('pengamat', 1), ('provokasi', 1), ('celah', 1), ('impeachment', 1), ('ancam', 1), ('beruntung', 1), ('undian', 1), ('mempolitisir', 1), ('wiro', 1), ('sableng', 1), ('melewati', 1), ('abad', 1), ('move', 1), ('ngelawan', 1), ('ngamuknya', 1), ('banyaknya', 1), ('savewoman', 1), ('kala', 1), ('minat', 1), ('cengengesan', 1), ('mencerdaskan', 1), ('l', 1), ('nte', 1), ('warning', 1), ('timesup', 1), ('pemecah', 1), ('gampangin', 1), ('waspada', 1), ('sep', 1), ('pemikirannya', 1), ('kecermin', 1), ('digodain', 1), ('mayoritas', 1), ('berpindah', 1), ('ketempat', 1), ('melarikan', 1), ('orng', 1), ('kroco', 1), ('projek', 1), ('parte', 1), ('kalik', 1), ('perspektif', 1), ('ngapus', 1), ('pulisi', 1), ('bhwa', 1), ('private', 1), ('bdua', 1), ('awa', 1), ('ngejelekin', 1), ('pacarna', 1), ('muntahin', 1), ('ajan', 1), ('hidungnya', 1), ('opininya', 1), ('segoblok', 1), ('astaga', 1), ('jdnya', 1), ('menaikkan', 1), ('sukur', 1), ('diciduk', 1), ('dilawan', 1), ('tipsnya', 1), ('lolos', 1), ('cpns', 1), ('bersyukur', 1), ('professional', 1), ('tengkyu', 1), ('mecima', 1), ('bando', 1), ('lewatin', 1), ('serakah', 1), ('ngehujat', 1), ('mempengaruhi', 1), ('dunya', 1), ('sebebas', 1), ('sofi', 1), ('curhatnya', 1), ('pacarnya', 1), ('dimarah', 1), ('sleding', 1), ('ntt', 1), ('diantara', 1), ('tuhannya', 1), ('nusa', 1), ('tenggara', 1), ('dicaci', 1), ('kritisi', 1), ('timses', 1), ('vbl', 1), ('puncak', 1), ('perhatiannya', 1), ('habit', 1), ('mengacak', 1), ('kedaulatan', 1), ('meli', 1), ('pembubaran', 1), ('fee', 1), ('psikolog', 1), ('sejam', 1), ('dijelasin', 1), ('mka', 1), ('ocehanmu', 1), ('dibaca', 1), ('paskal', 1), ('olshopnya', 1), ('selal', 1), ('izinkan', 1), ('he', 1), ('anjiang', 1), ('kurok', 1), ('baco', 1), ('jaleh', 1), ('jok', 1), ('bosnya', 1), ('akui', 1), ('good', 1), ('diusut', 1), ('maksudku', 1), ('awak', 1), ('semalu', 1), ('diperkosa', 1), ('pelecehannya', 1), ('menegur', 1), ('kumpulan', 1), ('doktoral', 1), ('abuse', 1), ('really', 1), ('korelasi', 1), ('diuangin', 1), ('dipaksain', 1), ('dijualin', 1), ('dikandangin', 1), ('disatronin', 1), ('dibatalin', 1), ('batalinperiode', 1), ('sekdes', 1), ('ribuuuut', 1), ('dikirimi', 1), ('batik', 1), ('same', 1), ('reaction', 1), ('ngerespon', 1), ('grammatical', 1), ('gedungnya', 1), ('graduation', 1), ('dandan', 1), ('pit', 1), ('another', 1), ('perlakuan', 1), ('instead', 1), ('shame', 1), ('them', 1), ('upnya', 1), ('dikasihani', 1), ('nobody', 1), ('cares', 1), ('own', 1), ('fault', 1), ('blame', 1), ('others', 1), ('lack', 1), ('empathy', 1), ('oii', 1), ('layak', 1), ('ganjaran', 1), ('bolanya', 1), ('dipastikan', 1), ('ditekan', 1), ('memisahkan', 1), ('tetapjokowi', 1), ('godan', 1), ('shoping', 1), ('ngancem', 1), ('ngereport', 1), ('nevolone', 1), ('anton', 1), ('lupain', 1), ('adekan', 1), ('wasit', 1), ('temanan', 1), ('ngotak', 1), ('bngst', 1), ('nusuk', 1), ('blkang', 1), ('dialem', 1), ('bertengkar', 1), ('sayngnya', 1), ('gabakat', 1), ('ngaduan', 1), ('menghadapinya', 1), ('lembek', 1), ('penasaran', 1), ('dweilah', 1), ('apansi', 1), ('mengajak', 1), ('mengejar', 1), ('yeh', 1), ('mentah', 1), ('rekaman', 1), ('niruin', 1), ('adoh', 1), ('dolo', 1), ('sbelum', 1), ('stat', 1), ('wkawka', 1), ('bentar', 1), ('thae', 1), ('pkn', 1), ('bonbin', 1), ('urus', 1), ('tabrak', 1), ('zebra', 1), ('kb', 1), ('hsil', 1), ('coy', 1), ('kementerian', 1), ('bigrt', 1), ('sat', 1), ('jadikan', 1), ('jadin', 1), ('adi', 1), ('pemaf', 1), ('pendendam', 1), ('bwat', 1), ('delcon', 1), ('anat', 1), ('angkat', 1), ('ketidak', 1), ('pastian', 1), ('keadilaan', 1), ('kepastian', 1), ('ketidakpastian', 1), ('catcall', 1), ('esai', 1), ('sjw', 1), ('nipunya', 1), ('cium', 1), ('aaaaaaa', 1), ('aisyah', 1), ('kujatuh', 1), ('maruk', 1), ('tv', 1), ('beritanya', 1), ('mulu', 1), ('ngalah', 1), ('suram', 1), ('modelannya', 1), ('permanen', 1), ('ngejiplak', 1), ('sos', 1), ('wisma', 1), ('lt', 1), ('senaknya', 1), ('cantikmu', 1), ('perhelatan', 1), ('digelar', 1), ('agustus', 1), ('menggema', 1), ('khusuk', 1), ('dudeeee', 1), ('than', 1), ('toket', 1), ('paha', 1), ('timviavallen', 1), ('penghujat', 1), ('indomie', 1), ('korean', 1), ('dandut', 1), ('simpel', 1), ('berandai', 1), ('andai', 1), ('radit', 1), ('jani', 1), ('gunakan', 1), ('logis', 1), ('plagiat', 1), ('cuy', 1), ('masio', 1), ('gaisok', 1), ('blas', 1), ('desain', 1), ('laah', 1), ('diaa', 1), ('jidatnya', 1), ('ngember', 1), ('debitur', 1), ('bukankah', 1), ('pbi', 1), ('kerahasiaan', 1), ('pajang', 1), ('kunjungan', 1), ('diusir', 1), ('sayur', 1), ('kece', 1), ('baperan', 1), ('elaah', 1), ('blek', 1), ('yamg', 1), ('gemessssss', 1), ('berjubel', 1), ('dipintu', 1), ('nafkah', 1), ('lingkungan', 1), ('normalize', 1), ('kw', 1), ('merdeka', 1), ('selatan', 1), ('musuhmu', 1), ('biang', 1), ('keroknya', 1), ('dalami', 1), ('dirimu', 1), ('tampilkan', 1), ('permukaan', 1), ('menyepelakan', 1), ('easy', 1), ('harrashment', 1), ('because', 1), ('keep', 1), ('silent', 1), ('think', 1), ('bertukar', 1), ('atur', 1), ('tudingan', 1), ('mengenakan', 1), ('pembuat', 1), ('berdamai', 1), ('komedi', 1), ('bungkam', 1), ('mengusik', 1), ('ideologi', 1), ('akherat', 1), ('mnjelaskannya', 1), ('sila', 1), ('orderada', 1), ('stoknya', 1), ('loreal', 1), ('responnya', 1), ('drespon', 1), ('itupu', 1), ('mempergunakan', 1), ('akomodasi', 1), ('curvanordpersija', 1), ('curvasudpersija', 1), ('asukabeh', 1), ('level', 1), ('lali', 1), ('keset', 1), ('hiszbut', 1), ('tahrir', 1), ('singkirkan', 1), ('nasionalisme', 1), ('kebangsaan', 1), ('hendak', 1), ('dilenyapkan', 1), ('digantikan', 1), ('transnasional', 1), ('khalifah', 1), ('bertobat', 1), ('disemua', 1), ('godaan', 1), ('menindaklanjuti', 1), ('bersangkutan', 1), ('ngaji', 1), ('tuli', 1), ('tantangan', 1), ('bermimpi', 1), ('brati', 1), ('gosipan', 1), ('hadir', 1), ('kesimpulan', 1), ('kambing', 1), ('hitam', 1), ('terooos', 1), ('kemerdekaan', 1), ('kec', 1), ('yahudi', 1), ('kurdi', 1), ('catalonia', 1), ('koptik', 1), ('sbgmn', 1), ('penjajahan', 1), ('yaman', 1), ('qatar', 1), ('standart', 1), ('ganda', 1), ('seyogyanya', 1), ('pejalan', 1), ('adlah', 1), ('maritertiblantas', 1), ('dipermalukan', 1), ('aspek', 1), ('sanggahan', 1), ('petunjuk', 1), ('terlontar', 1), ('ngegerus', 1), ('ngurangin', 1), ('operasional', 1), ('kerajaan', 1), ('disatuin', 1), ('jeng', 1), ('dilola', 1), ('transportasi', 1), ('kapal', 1), ('laut', 1), ('mencantumkan', 1), ('brasil', 1), ('kandidat', 1), ('thiago', 1), ('silva', 1), ('sisanya', 1), ('david', 1), ('luiz', 1), ('rusia', 1), ('kunci', 1), ('pmrth', 1), ('prov', 1), ('kab', 1), ('ahir', 1), ('predikat', 1), ('meraih', 1), ('jajaran', 1), ('ahokerjokower', 1), ('fitnahnya', 1), ('ngefek', 1), ('taruh', 1), ('telunjuknya', 1), ('jidatku', 1), ('mangkanya', 1), ('susu', 1), ('diminum', 1), ('vitaminnya', 1), ('kamunya', 1), ('kliyengan', 1), ('komersil', 1), ('cipta', 1), ('melanggarnya', 1), ('dipidanakan', 1), ('ite', 1), ('kepolisian', 1), ('komoditi', 1), ('booming', 1), ('membandingkan', 1), ('pertumbuhan', 1), ('menyembunyikan', 1), ('offshore', 1), ('panama', 1), ('paper', 1), ('umkm', 1), ('stainles', 1), ('steel', 1), ('mengurangi', 1), ('pengangguran', 1), ('milyar', 1), ('meledaknya', 1), ('terasa', 1), ('cipularang', 1), ('melempari', 1), ('diamankan', 1), ('terangan', 1), ('mempergoki', 1), ('informa', 1), ('ace', 1), ('hardware', 1), ('malamnya', 1), ('keburu', 1), ('seminggu', 1), ('gunung', 1), ('mungsuh', 1), ('mansyarakat', 1), ('eksplisit', 1), ('te', 1), ('er', 1), ('fiqih', 1), ('pemprove', 1), ('presidennya', 1), ('pembangkang', 1), ('putusin', 1), ('rebutan', 1), ('menetap', 1), ('impian', 1), ('jiwaku', 1), ('beresin', 1), ('kandungnya', 1), ('dipestain', 1), ('mewah', 1), ('negaranya', 1), ('soon', 1), ('begal', 1), ('kerusuhan', 1), ('tembak', 1), ('trims', 1), ('memelihara', 1), ('kapolri', 1), ('digaris', 1), ('penggrebekan', 1), ('ketegangan', 1), ('berlangsung', 1), ('datengin', 1), ('sembunyi', 1), ('ketiwi', 1), ('umatmu', 1), ('bergesek', 1), ('gesekkan', 1), ('gas', 1), ('lawanmu', 1), ('berkualitas', 1), ('gedein', 1), ('bujet', 1), ('seremoni', 1), ('kongkrit', 1), ('larang', 1), ('kantong', 1), ('minimarket', 1), ('terkaing', 1), ('kaing', 1), ('produsen', 1), ('singgahan', 1), ('tolakhoax', 1), ('lawanhoax', 1), ('pilkadadamai', 1), ('menggelikannya', 1), ('kitabnya', 1), ('koin', 1), ('dinosaurus', 1), ('beruang', 1), ('kutub', 1), ('kecoa', 1), ('evolusi', 1), ('bakteri', 1), ('sel', 1), ('claudia', 1), ('mutu', 1), ('hadiri', 1), ('debu', 1), ('terdampak', 1), ('ispa', 1), ('puskesmas', 1), ('editan', 1), ('kupas', 1), ('keselamatan', 1), ('sekiankan', 1), ('ahass', 1), ('mengadakan', 1), ('diskon', 1), ('sparepart', 1), ('rantai', 1), ('bgsd', 1), ('overload', 1), ('terdistribusi', 1), ('jne', 1), ('pentingkan', 1), ('mewujudkan', 1), ('keadilan', 1), ('pemikiranmu', 1), ('miliaran', 1), ('meminta', 1), ('disetiap', 1), ('dimulai', 1), ('amarah', 1), ('memperkuat', 1), ('mulas', 1), ('group', 1), ('tertibkan', 1), ('disiplinku', 1), ('meler', 1), ('gaya', 1), ('kiyai', 1), ('penyampaiannya', 1), ('diputer', 1), ('pia', 1), ('palen', 1), ('pokokmen', 1), ('pentingnya', 1), ('mmberi', 1), ('hidupkan', 1), ('peljaran', 1), ('pekerti', 1), ('pmp', 1), ('bekal', 1), ('sebutin', 1), ('mengkriminalisasi', 1), ('hilangin', 1), ('ujungnua', 1), ('dipandang', 1), ('lenih', 1), ('nerima', 1), ('nalarnya', 1), ('goyangannya', 1), ('perbedaan', 1), ('harua', 1), ('jangka', 1), ('forgiveme', 1), ('ngusut', 1), ('pertahanan', 1), ('perdamaian', 1), ('etdah', 1), ('ui', 1), ('taring', 1), ('sentuh', 1), ('ngupload', 1), ('yaaaah', 1), ('ngrampok', 1), ('tewtew', 1), ('blockir', 1), ('menhub', 1), ('helloowww', 1), ('berbenah', 1), ('pengerjaan', 1), ('menyindir', 1), ('disindir', 1), ('pembual', 1), ('dibagian', 1), ('gunting', 1), ('pitanya', 1), ('sahaja', 1), ('pemujanya', 1), ('membangunnya', 1), ('nomation', 1), ('cakilrakyat', 1), ('dikala', 1), ('garam', 1), ('petani', 1), ('panen', 1), ('stakeholdernya', 1), ('canggih', 1), ('selebaran', 1), ('browsing', 1), ('bernama', 1), ('indra', 1), ('gunawan', 1), ('suaranya', 1), ('wooo', 1), ('hidayah', 1), ('msuk', 1), ('penentu', 1), ('simpang', 1), ('parmonangan', 1), ('balata', 1), ('bosar', 1), ('bandar', 1), ('dalil', 1), ('haditsnya', 1), ('mahdi', 1), ('ditunjuk', 1), ('amanat', 1), ('ngeklaim', 1), ('inamahdi', 1), ('dibai', 1), ('bi', 1), ('terhina', 1), ('disusupi', 1), ('haiyaa', 1), ('isis', 1), ('bubarkanpks', 1), ('kebahagian', 1), ('berkah', 1), ('bahagianya', 1), ('useetv', 1), ('blank', 1), ('dieprbaiki', 1), ('teknisi', 1), ('tolonf', 1), ('konfirmasinya', 1), ('kmubs', 1), ('lernah', 1), ('negiri', 1), ('wlupun', 1), ('ot', 1), ('jwbnnya', 1), ('pmarahanarab', 1), ('merapat', 1), ('seruannya', 1), ('akugppkok', 1), ('ceritain', 1), ('ttglo', 1), ('focusing', 1), ('path', 1), ('haters', 1), ('cawapresnya', 1), ('tamat', 1), ('pilihannye', 1), ('polower', 1), ('botakndut', 1), ('mustopa', 1), ('p', 1), ('stalking', 1), ('hihi', 1), ('konfrontasikan', 1), ('megawati', 1), ('kwik', 1), ('komisi', 1), ('diratakan', 1), ('adaa', 1), ('balesannya', 1), ('organisasi', 1), ('link', 1), ('tahunan', 1), ('by', 1), ('name', 1), ('hayolo', 1), ('dicariin', 1), ('mepet', 1), ('perusahaanlu', 1), ('mintain', 1), ('ngehubungin', 1), ('minjam', 1), ('terjadikah', 1), ('ditambahi', 1), ('dikurangi', 1), ('menghalalkan', 1), ('riba', 1), ('ngomentarin', 1), ('visi', 1), ('profesyenel', 1), ('forum', 1), ('dicampur', 1), ('adukkan', 1), ('shift', 1), ('bik', 1), ('buk', 1), ('jelasss', 1), ('masihh', 1), ('biangnya', 1), ('memegang', 1), ('peraturan', 1), ('mengetahuinya', 1), ('asuransi', 1), ('axa', 1), ('klausul', 1), ('bebegitu', 1), ('profesor', 1), ('belagak', 1), ('congkak', 1), ('erning', 1), ('ditelusuri', 1), ('diingat', 1), ('greget', 1), ('guenya', 1), ('gasabaran', 1), ('tpnya', 1), ('geh', 1), ('shoppe', 1), ('skin', 1), ('tanggapannya', 1), ('andalan', 1), ('utama', 1), ('ngurus', 1), ('antriannya', 1), ('dengarkan', 1), ('berinvestasi', 1), ('hemat', 1), ('permasalakan', 1), ('ikuti', 1), ('imbauan', 1), ('jokower', 1), ('nurut', 1), ('anakkodok', 1), ('kesinggung', 1), ('baiklah', 1), ('makassar', 1), ('bandara', 1), ('padat', 1), ('alangkah', 1), ('bodohnya', 1), ('pemudik', 1), ('pemilih', 1), ('uji', 1), ('banggain', 1), ('sing', 1), ('gawean', 1), ('keri', 1), ('mengomentari', 1), ('batalion', 1), ('mimpi', 1), ('begoin', 1), ('demokrat', 1), ('pemandu', 1), ('sorak', 1), ('manut', 1), ('mencalonkan', 1), ('tere', 1), ('liye', 1), ('mario', 1), ('teguh', 1), ('mengeluarkan', 1), ('menginspirasi', 1), ('terpuruk', 1), ('actually', 1), ('panggungmu', 1), ('junjunganmu', 1), ('berwatak', 1), ('nyolong', 1), ('mushola', 1), ('taufik', 1), ('hid', 1), ('semata', 1), ('lelucon', 1), ('palsu', 1), ('kesindir', 1), ('kirik', 1), ('nahdlotul', 1), ('staquf', 1), ('helloooo', 1), ('gedung', 1), ('waktuku', 1), ('anginan', 1), ('pmlik', 1), ('mbl', 1), ('kitu', 1), ('sanes', 1), ('perjanjian', 1), ('majunya', 1), ('bagooossssss', 1), ('pecaattttt', 1), ('kelanggengan', 1), ('trah', 1), ('dikorbankan', 1), ('anakkkk', 1), ('barisan', 1), ('tujuannya', 1), ('membentuk', 1), ('ndasmu', 1), ('sekelurahan', 1), ('kemanapun', 1), ('kiri', 1), ('ngikut', 1), ('sukaai', 1), ('turut', 1), ('shalattin', 1), ('baginda', 1), ('nabi', 1), ('mengajarkan', 1), ('pantaskah', 1), ('nee', 1), ('bingitt', 1), ('berdoa', 1), ('menyatyakan', 1), ('ngobrolnya', 1), ('diladenin', 1), ('shalat', 1), ('namu', 1), ('berlalu', 1), ('terlintas', 1), ('dipikiran', 1), ('propaganda', 1), ('keributan', 1), ('penuhnya', 1), ('gitumah', 1), ('kesana', 1), ('kemari', 1), ('petugasnya', 1), ('hajar', 1), ('pelakunya', 1), ('biikin', 1), ('berotak', 1), ('onlen', 1), ('shop', 1), ('ready', 1), ('message', 1), ('pengembalian', 1), ('tolonh', 1), ('sistemnya', 1), ('sampean', 1), ('opname', 1), ('roboh', 1), ('himbauan', 1), ('situs', 1), ('sadis', 1), ('pekok', 1), ('berjamaah', 1), ('garansi', 1), ('menjalin', 1), ('xx', 1), ('masku', 1), ('salaman', 1), ('folbek', 1), ('was', 1), ('pfftt', 1), ('kenape', 1), ('sepiteng', 1), ('awayday', 1), ('pecinta', 1), ('salty', 1), ('every', 1), ('insulting', 1), ('things', 1), ('whom', 1), ('passionate', 1), ('about', 1), ('eq', 1), ('rumor', 1), ('umpatan', 1), ('mencela', 1), ('citra', 1), ('ir', 1), ('menyiksa', 1), ('batin', 1), ('axis', 1), ('partaimu', 1), ('nyonya', 1), ('berati', 1), ('funny', 1), ('discuss', 1), ('sis', 1), ('keuangan', 1), ('serahkan', 1), ('tata', 1), ('kelola', 1), ('direksinya', 1), ('ramadhan', 1), ('keramaian', 1), ('pms', 1), ('pose', 1), ('atribut', 1), ('liberal', 1), ('antek', 1), ('aseng', 1), ('filter', 1), ('nyuci', 1), ('nyetrika', 1), ('lancip', 1), ('kolak', 1), ('tasya', 1), ('farasya', 1), ('unboxing', 1), ('adonan', 1), ('tempe', 1), ('sirup', 1), ('marjan', 1), ('nasehat', 1), ('mimin', 1), ('sambatku', 1), ('terhitung', 1), ('pacarku', 1), ('serioulsy', 1), ('komennya', 1), ('pastilah', 1), ('dapetnya', 1), ('rasional', 1), ('yassona', 1), ('omonganya', 1), ('pemarah', 1), ('akalnya', 1), ('buntu', 1), ('mari', 1), ('rawat', 1), ('sedekahmu', 1), ('apbn', 1), ('bolehkah', 1), ('umi', 1), ('sprt', 1), ('mhs', 1), ('larangan', 1), ('perkuliahan', 1), ('terluka', 1), ('pembawa', 1), ('sial', 1), ('anjg', 1), ('download', 1), ('ios', 1), ('selingkuhin', 1), ('jodoh', 1), ('cerminan', 1), ('berkaca', 1), ('eksis', 1), ('memerankan', 1), ('menghakimi', 1), ('mbuhhhhh', 1), ('terdekat', 1), ('kdrt', 1), ('pusink', 1), ('mendengar', 1), ('semasa', 1), ('seoran', 1), ('mb', 1), ('solutif', 1), ('ht', 1), ('fotografi', 1), ('sulap', 1), ('sesungguhnya', 1), ('motret', 1), ('menyempurnakan', 1), ('rancangan', 1), ('memotret', 1), ('rejeki', 1), ('diserobot', 1), ('jamnya', 1), ('fpi', 1), ('divhumas', 1), ('mendidik', 1), ('mintax', 1), ('apax', 1), ('pa', 1), ('dikumpulkan', 1), ('keamanan', 1), ('tuu', 1), ('apbd', 1), ('haiyaaah', 1), ('menyiksanya', 1), ('berjam', 1), ('menceritakan', 1), ('nginjek', 1), ('cieee', 1), ('gadapat', 1), ('kemanggisan', 1), ('pemotor', 1), ('fly', 1), ('over', 1), ('daan', 1), ('mogot', 1), ('may', 1), ('abaikan', 1), ('akoh', 1), ('molo', 1), ('seble', 1), ('bagaikan', 1), ('menyiram', 1), ('luka', 1), ('rayuan', 1), ('kadal', 1), ('nyanyiin', 1), ('lagunya', 1), ('mainin', 1), ('spty', 1), ('bibir', 1), ('basii', 1), ('vedevah', 1), ('multi', 1), ('trip', 1), ('penggunaannya', 1), ('kmt', 1), ('tap', 1), ('etttaaann', 1), ('nyawapres', 1), ('konstituen', 1), ('gederasa', 1), ('wajahnya', 1), ('tivi', 1), ('tebarkan', 1), ('kirikanan', 1), ('petinggi', 1), ('wisngonowae', 1), ('balasan', 1), ('ill', 1), ('theyll', 1), ('get', 1), ('hide', 1), ('ur', 1), ('give', 1), ('gon', 1), ('deskripsikan', 1), ('batasan', 1), ('batasannya', 1), ('berupa', 1), ('ajaran', 1), ('kuatir', 1), ('utak', 1), ('atik', 1), ('delegitimasi', 1), ('diperkenalkan', 1), ('dikembangkan', 1), ('muktamar', 1), ('persoalannya', 1), ('tele', 1), ('relevan', 1), ('lgsung', 1), ('idealnya', 1), ('ganjar', 1), ('saksi', 1), ('kecurigaan', 1), ('lindungi', 1), ('meng', 1), ('kait', 1), ('gempa', 1), ('membantu', 1), ('begichu', 1), ('udalaah', 1), ('tausiah', 1), ('man', 1), ('dirumah', 1), ('nahan', 1), ('boker', 1), ('pengajuan', 1), ('reksa', 1), ('voucher', 1), ('gift', 1), ('kebenarannya', 1), ('lek', 1), ('idek', 1), ('wani', 1), ('dep', 1), ('legian', 1), ('isp', 1), ('restart', 1), ('hidupnya', 1), ('opik', 1), ('verified', 1), ('indo', 1), ('mamas', 1), ('dilahap', 1), ('menurutku', 1), ('massa', 1), ('hate', 1), ('sepaham', 1), ('anonim', 1), ('kebebasan', 1), ('berargumen', 1), ('dikritisi', 1), ('nurani', 1), ('kontrol', 1), ('mateng', 1), ('kembangkan', 1), ('tbg', 1), ('gentle', 1), ('reason', 1), ('pertolongan', 1), ('telek', 1), ('berikutnya', 1), ('membangun', 1), ('menggunung', 1), ('bangkrut', 1), ('cebi', 1), ('syaratnya', 1), ('jilbaber', 1), ('natal', 1), ('menyambut', 1), ('apep', 1), ('ahmad', 1), ('tardiyana', 1), ('urbane', 1), ('ngikutin', 1), ('taekkkk', 1), ('bngsat', 1), ('kerjasama', 1), ('bayarin', 1), ('kebo', 1), ('finally', 1), ('putus', 1), ('kurangin', 1), ('intensitas', 1), ('begadang', 1), ('telponan', 1), ('dikantor', 1), ('det', 1), ('bejuang', 1), ('sekonyol', 1), ('naruh', 1), ('jaket', 1), ('tas', 1), ('mindahin', 1), ('sampek', 1), ('windu', 1), ('reject', 1), ('kerbaushit', 1), ('classic', 1), ('mastiin', 1), ('digangguin', 1), ('yaampunnnn', 1), ('mmbbzzzz', 1), ('kotanya', 1), ('berjalan', 1), ('segerombolan', 1), ('alayers', 1), ('lansung', 1), ('dilihat', 1), ('profil', 1), ('ritwit', 1), ('insomnia', 1), ('kunjung', 1), ('public', 1), ('figure', 1), ('kenalan', 1), ('welcone', 1), ('ilfil', 1), ('penyampaian', 1), ('informatif', 1), ('edukatif', 1), ('berkomentar', 1), ('fokes', 1), ('profesi', 1), ('andaaa', 1), ('ajaaaaah', 1), ('adam', 1), ('hr', 1), ('trnsfer', 1), ('sedihh', 1), ('tf', 1), ('mk', 1), ('ktmuan', 1), ('hihiiihii', 1), ('peristiwa', 1), ('sikapi', 1), ('dihubungkan', 1), ('ketumnya', 1), ('difilter', 1), ('apaya', 1), ('yonglek', 1), ('followersnya', 1), ('bagusnya', 1), ('moyangmu', 1), ('indohome', 1), ('telekomunikasi', 1), ('asalan', 1), ('perawatan', 1), ('transjakarta', 1), ('metro', 1), ('mini', 1), ('basway', 1), ('penikmat', 1), ('koplo', 1), ('panturanan', 1), ('smisal', 1), ('disuguhi', 1), ('berpenampilan', 1), ('goyangan', 1), ('maut', 1), ('kya', 1), ('ngedown', 1), ('aga', 1), ('tulisannya', 1), ('gitunya', 1), ('bersyukurnya', 1), ('sirip', 1), ('hiu', 1), ('ikan', 1), ('sebesar', 1), ('metromini', 1), ('siripnya', 1), ('bodynya', 1), ('seriusan', 1), ('dijepang', 1), ('kontrak', 1), ('disosor', 1), ('dihambur', 1), ('pamernya', 1), ('kamuuhhh', 1), ('qt', 1), ('dijauhkan', 1), ('keputusan', 1), ('ituu', 1), ('budiirrr', 1), ('olfi', 1), ('opi', 1), ('qrm', 1), ('dipickup', 1), ('wari', 1), ('pickup', 1), ('terimakasih', 1), ('terbitkan', 1), ('rupiahnya', 1), ('disamakan', 1), ('toleransinya', 1), ('pemilu', 1), ('paranoid', 1), ('dipermasalahakan', 1), ('zakatnya', 1), ('diingatkan', 1), ('seblm', 1), ('ributin', 1), ('bodigardnya', 1), ('vela', 1), ('sukanya', 1), ('mon', 1), ('bnget', 1), ('keberangkatan', 1), ('gempol', 1), ('pasuruan', 1), ('mengertilah', 1), ('apatisme', 1), ('meninggi', 1), ('berkorupsi', 1), ('ingkar', 1), ('batam', 1), ('bea', 1), ('hpnya', 1), ('bm', 1), ('dipolisikan', 1), ('umr', 1), ('kemiskinan', 1), ('troll', 1), ('noob', 1), ('game', 1), ('vainglory', 1), ('regis', 1), ('masukin', 1), ('nik', 1), ('megang', 1), ('nyimpen', 1), ('kerap', 1), ('memposting', 1), ('perhatiin', 1), ('jorok', 1), ('justifikasi', 1), ('nglakuin', 1), ('swear', 1), ('koh', 1), ('dichat', 1), ('dapaya', 1), ('sugus', 1), ('jubah', 1), ('bertugas', 1), ('aaaahhh', 1), ('syaa', 1), ('somplak', 1), ('unjukin', 1), ('yakinkan', 1), ('flat', 1), ('earth', 1), ('inihhh', 1), ('apasi', 1), ('bel', 1), ('hm', 1), ('retweet', 1), ('nyaplok', 1), ('dibantuin', 1), ('biarpun', 1), ('bnyak', 1), ('memperlakukan', 1), ('haiii', 1), ('hot', 1), ('topik', 1), ('diawali', 1), ('skandal', 1), ('accoun', 1), ('dideactive', 1), ('diakhiri', 1), ('blow', 1), ('sold', 1), ('control', 1), ('pemimpinmu', 1), ('takjil', 1), ('saur', 1), ('road', 1), ('gonta', 1), ('xixixi', 1), ('eling', 1), ('refresh', 1), ('selambat', 1), ('beredar', 1), ('apresiasi', 1), ('prnh', 1), ('gamis', 1), ('gerbong', 1), ('campuran', 1), ('ditatap', 1), ('tmnnya', 1), ('ngeledekin', 1), ('bergosip', 1), ('bergibah', 1), ('lelah', 1), ('terpercaya', 1), ('copas', 1), ('ori', 1), ('kontennya', 1), ('ngeress', 1), ('habib', 1), ('ngelakuin', 1), ('menjamin', 1), ('menyukai', 1), ('catcalling', 1), ('menikah', 1), ('penyimpangan', 1), ('j', 1), ('prosesnya', 1), ('ygvkrg', 1), ('kom', 1), ('lahhh', 1), ('lex', 1), ('caca', 1), ('dibohongin', 1), ('beud', 1), ('diary', 1), ('ngejebak', 1), ('die', 1), ('digubris', 1), ('pakdhe', 1), ('semenjak', 1), ('pemerintahan', 1), ('dicurigain', 1), ('hamil', 1), ('ciken', 1), ('naget', 1), ('meal', 1), ('studi', 1), ('banding', 1), ('mamarika', 1), ('hasilnya', 1), ('jalut', 1), ('becak', 1), ('way', 1), ('blio', 1), ('ofensif', 1), ('menag', 1), ('agent', 1), ('mempatuahi', 1), ('sekjen', 1), ('siapalah', 1), ('dikritik', 1), ('disurga', 1), ('wahyu', 1), ('alloh', 1), ('lapisan', 1), ('tembus', 1), ('mako', 1), ('brimob', 1), ('kebobolan', 1), ('lucuan', 1), ('geruduk', 1), ('konstitusi', 1), ('ambang', 1), ('batas', 1), ('tandatangani', 1), ('petisi', 1), ('tag', 1), ('bonus', 1), ('pemberitahuannya', 1), ('aktivkan', 1), ('walet', 1), ('mohn', 1), ('bntuanx', 1), ('trmaksih', 1), ('bioskop', 1), ('dih', 1), ('nontonnya', 1), ('sentil', 1), ('amandelnya', 1), ('eyang', 1), ('carin', 1), ('tujuh', 1), ('bantuannya', 1), ('menyakitkan', 1), ('aplikasinya', 1), ('diberesin', 1), ('taksi', 1), ('drivernya', 1), ('tnpa', 1), ('dipromosikan', 1), ('dtg', 1), ('fanmeetingnya', 1), ('dampak', 1), ('mengemukakan', 1), ('gagasan', 1), ('santri', 1), ('menyumbang', 1), ('kemenangan', 1), ('anggep', 1), ('any', 1), ('sisterhoodnya', 1), ('tumpahkan', 1), ('president', 1), ('penyakitnya', 1), ('akutnya', 1), ('tumben', 1), ('kucingnya', 1), ('sono', 1), ('makannya', 1), ('tersenyum', 1), ('dlmnya', 1), ('qyara', 1), ('kuharap', 1), ('dimasa', 1), ('sepertiku', 1), ('memuakan', 1), ('bersaing', 1), ('malasan', 1), ('menyingkirkan', 1), ('muacet', 1), ('poll', 1), ('plenga', 1), ('plengo', 1), ('pakdheku', 1), ('telkomselnya', 1), ('tetiba', 1), ('bacaan', 1), ('fasih', 1), ('berlemah', 1), ('lembut', 1), ('mempersatukan', 1), ('dipelajari', 1), ('disekolah', 1), ('katak', 1), ('gitukan', 1), ('ketangkep', 1), ('disidang', 1), ('penampilan', 1), ('berjilbab', 1), ('peci', 1), ('koko', 1), ('mendadak', 1), ('askmf', 1), ('trying', 1), ('here', 1), ('dkskdf', 1), ('babihutan', 1), ('addeh', 1), ('terulang', 1), ('spread', 1), ('awareness', 1), ('ngedm', 1), ('network', 1), ('dirugikan', 1), ('misteri', 1), ('ganas', 1), ('mulutnya', 1), ('tatar', 1), ('songong', 1), ('rocky', 1), ('gerung', 1), ('ruhut', 1), ('sitompul', 1), ('rosi', 1), ('ilc', 1), ('lawy', 1), ('promosinya', 1), ('terencana', 1), ('terlibat', 1), ('menyiapkan', 1), ('kasarnya', 1), ('tenag', 1), ('ngata', 1), ('babi', 1), ('take', 1), ('sumber', 1), ('penjemputan', 1), ('taxol', 1), ('jalurnya', 1), ('nggenah', 1), ('kubawa', 1), ('mencelakakan', 1), ('piawai', 1), ('melangkah', 1), ('jua', 1), ('mabfaat', 1), ('dikembaliin', 1), ('berminggu', 1), ('dibalikin', 1), ('nominal', 1), ('gedean', 1), ('satisfies', 1), ('always', 1), ('nyepelein', 1), ('mengekspresikan', 1), ('semau', 1), ('perintahkan', 1), ('menkes', 1), ('ruangan', 1), ('usai', 1), ('dibanjiri', 1), ('pasien', 1), ('mengingatkan', 1), ('penyebab', 1), ('melambung', 1), ('menggiring', 1), ('mumun', 1), ('hominem', 1), ('persekusi', 1), ('banci', 1), ('monolog', 1), ('mnding', 1), ('vietnam', 1), ('hmmmmm', 1), ('ngapa', 1), ('benefit', 1), ('dropshiper', 1), ('langgar', 1), ('dilubang', 1), ('lubang', 1), ('terkesan', 1), ('membuatnya', 1), ('bermacet', 1), ('ria', 1), ('pft', 1), ('jb', 1), ('tertahan', 1), ('moh', 1), ('toha', 1), ('pengirimannya', 1), ('pendatang', 1), ('berhijab', 1), ('asia', 1), ('tanktop', 1), ('celana', 1), ('pendek', 1), ('jato', 1), ('lobang', 1), ('ngebayangin', 1), ('cal', 1), ('sieun', 1), ('hayam', 1), ('ge', 1), ('teu', 1), ('soan', 1), ('ngeprank', 1), ('tiris', 1), ('kunaon', 1), ('meni', 1), ('ngediemin', 1), ('aika', 1), ('persyaratan', 1), ('sertif', 1), ('bayaran', 1), ('satpam', 1), ('asdfgjkl', 1), ('penakut', 1), ('lhaa', 1), ('sampee', 1), ('kabarnya', 1), ('ekonomi', 1), ('akibatnya', 1), ('penerima', 1), ('penghargaan', 1), ('tourism', 1), ('awards', 1), ('predilat', 1), ('lcc', 1), ('skytrax', 1), ('customer', 1), ('rsv', 1), ('lanjuti', 1), ('viewers', 1), ('urutan', 1), ('dul', 1), ('adakan', 1), ('berobat', 1), ('sembako', 1), ('galanya', 1), ('cenayang', 1), ('kemerosotan', 1), ('moral', 1), ('mengkritisi', 1), ('ceritanya', 1), ('didiemin', 1), ('ngelunjak', 1), ('ditonjok', 1), ('mudahan', 1), ('divonis', 1), ('tiduran', 1), ('selfish', 1), ('pemalas', 1), ('macm', 1), ('takde', 1), ('asalkan', 1), ('simpan', 1), ('kat', 1), ('pulak', 1), ('macamana', 1), ('murni', 1), ('keinginan', 1), ('mongol', 1), ('menyatukan', 1), ('agung', 1), ('ditanyakan', 1), ('deskripsi', 1), ('ekstra', 1), ('allaaaahhh', 1), ('ikhlaaaassss', 1), ('ngelmu', 1), ('apologetik', 1), ('tk', 1), ('spirit', 1), ('akademiknya', 1), ('agk', 1), ('hkm', 1), ('panglima', 1), ('spendapat', 1), ('dsampaikn', 1), ('yoi', 1), ('penjual', 1), ('diputarbalikan', 1), ('diatas', 1), ('pragmatis', 1), ('domestik', 1), ('terbesar', 1), ('palestina', 1), ('us', 1), ('turki', 1), ('berkuasa', 1), ('adakah', 1), ('azaz', 1), ('akulaku', 1), ('menjijikkan', 1), ('martabat', 1), ('kedepannya', 1), ('espresso', 1), ('pahit', 1), ('murah', 1), ('kesempurnaan', 1), ('tetangganya', 1), ('responsif', 1), ('ms', 1), ('dipedulikan', 1), ('anjyr', 1), ('pemasaran', 1), ('perekonomian', 1), ('pariwisata', 1), ('ekopembangunan', 1), ('uas', 1), ('pdb', 1), ('ratio', 1), ('kawannya', 1), ('jl', 1), ('berlubang', 1), ('apakabar', 1), ('pu', 1), ('baee', 1), ('kotamalang', 1), ('savejalanraya', 1), ('signalnya', 1), ('memarahi', 1), ('bedak', 1), ('skincare', 1), ('aksesoris', 1), ('paketan', 1), ('instastory', 1), ('login', 1), ('penjadwalan', 1), ('tesnya', 1), ('pelamar', 1), ('wartawan', 1), ('sesorang', 1), ('belasan', 1), ('puluan', 1), ('sepatah', 1), ('awalan', 1), ('ngotot', 1), ('cetera', 1), ('diucapkan', 1), ('terpilih', 1), ('lupakan', 1), ('dijalam', 1), ('cabut', 1), ('hutan', 1), ('tangsel', 1), ('ngtap', 1), ('emoney', 1), ('carikan', 1), ('permasalahan', 1), ('area', 1), ('pondok', 1), ('kelapa', 1), ('jaktim', 1), ('device', 1), ('ekspresi', 1), ('hello', 1), ('we', 1), ('presscon', 1), ('lapak', 1), ('seohyun', 1), ('poor', 1), ('baby', 1), ('impression', 1), ('arsitek', 1), ('berbau', 1), ('interest', 1), ('behance', 1), ('issuu', 1), ('memamerkan', 1), ('setua', 1), ('soshum', 1), ('jitakin', 1), ('tuamu', 1), ('pacarmu', 1), ('caci', 1), ('tendang', 1), ('tinggalin', 1), ('rujukan', 1), ('menyandang', 1), ('butir', 1), ('semalem', 1), ('pujaan', 1), ('thailand', 1), ('bencana', 1), ('ditunggangin', 1), ('berag', 1), ('hektar', 1), ('berlimpah', 1), ('digit', 1), ('dubai', 1), ('tendangan', 1), ('photo', 1), ('sebabkan', 1), ('indonesian', 1), ('brrti', 1), ('pasif', 1), ('merjuangin', 1), ('bkin', 1), ('diantar', 1), ('angke', 1), ('diteruskan', 1), ('mengenai', 1), ('kai', 1), ('mengambil', 1), ('ka', 1), ('memohin', 1), ('situasi', 1), ('dirasakn', 1), ('latar', 1), ('blkg', 1), ('pdidikn', 1), ('sdri', 1), ('thats', 1), ('menguatkan', 1), ('sad', 1), ('ginian', 1), ('argo', 1), ('terelakkan', 1), ('weekend', 1), ('diatasin', 1), ('rencanakan', 1), ('ajukan', 1), ('paylater', 1), ('rinci', 1), ('pastinya', 1), ('kriteria', 1), ('disegel', 1), ('keterlambatan', 1), ('pelunasan', 1), ('melaporkan', 1), ('mll', 1), ('progress', 1), ('reportnya', 1), ('lamban', 1), ('ngganjel', 1), ('tegangan', 1), ('pengaman', 1), ('disediakan', 1), ('contohnya', 1), ('gembrong', 1), ('hayu', 1), ('ngajakin', 1), ('tmuan', 1), ('ninggalin', 1), ('nongol', 1), ('mengikuti', 1), ('usulan', 1), ('diplot', 1), ('nyusun', 1), ('tersentuh', 1), ('ditinjau', 1), ('team', 1), ('ngundang', 1), ('ulangnya', 1), ('ksih', 1), ('catfish', 1), ('ganjen', 1), ('modusin', 1), ('marbot', 1), ('semester', 1), ('sahuuuur', 1), ('sahuuur', 1), ('sahuuuuur', 1), ('buruan', 1), ('skripsi', 1), ('dilanjutin', 1), ('lulus', 1), ('ahhh', 1), ('orangtuamu', 1), ('banting', 1), ('panasan', 1), ('hujan', 1), ('z', 1), ('obat', 1), ('urgent', 1), ('pengganti', 1), ('sihh', 1), ('kr', 1), ('abatyg', 1), ('dihapus', 1), ('nunjukkin', 1), ('linimasa', 1), ('samain', 1), ('tergugah', 1), ('lagii', 1), ('batal', 1), ('jatim', 1), ('ci', 1), ('mendeteksi', 1), ('memperbaharui', 1), ('perubahan', 1), ('nombok', 1), ('jati', 1), ('asih', 1), ('asongan', 1), ('truk', 1), ('mengendap', 1), ('mengirim', 1), ('membekukan', 1), ('berlebihan', 1), ('munculnya', 1), ('terbawa', 1), ('sekenario', 1), ('sadari', 1), ('kta', 1), ('gym', 1), ('singa', 1), ('garang', 1), ('saintek', 1), ('mala', 1), ('ngilangan', 1), ('keluaran', 1), ('sininya', 1), ('gabutuh', 1), ('utangnya', 1), ('bertebaran', 1), ('messenger', 1), ('report', 1), ('pekerja', 1), ('merawat', 1), ('merampok', 1), ('perka', 1), ('langsir', 1), ('pnp', 1), ('antisipasi', 1), ('sinmas', 1), ('ditahan', 1), ('langsiran', 1), ('kajj', 1), ('sedikitpun', 1), ('ngerebut', 1), ('keak', 1), ('hih', 1), ('sependapat', 1), ('berkompetisi', 1), ('mendown', 1), ('grade', 1), ('apadaya', 1), ('kehendak', 1), ('bersinar', 1), ('kode', 1), ('verifikasi', 1), ('nomer', 1), ('disertai', 1), ('bumbu', 1), ('kekesalan', 1), ('teuteup', 1), ('ngoreksi', 1), ('bullying', 1), ('dehh', 1), ('examplenya', 1), ('pitam', 1), ('worthless', 1), ('reminding', 1), ('dijamin', 1), ('terkadangg', 1), ('berwajib', 1), ('dipegang', 1), ('nikmatin', 1), ('ish', 1), ('xp', 1), ('komunikasi', 1), ('berbasis', 1), ('pemberitahuan', 1), ('kabarkan', 1), ('cetak', 1), ('butuhkan', 1), ('jumlah', 1), ('tempel', 1), ('dipersulit', 1), ('laparrrr', 1), ('liang', 1), ('lahatnya', 1), ('baristanya', 1), ('melengos', 1), ('dihormati', 1), ('berusahalah', 1), ('profilku', 1), ('fotoku', 1), ('selfie', 1), ('close', 1), ('seleher', 1), ('dadanya', 1), ('berbicara', 1), ('didengar', 1), ('keinget', 1), ('menatap', 1), ('acuh', 1), ('bodoamat', 1), ('bersikap', 1), ('dailysinthaa', 1), ('bedo', 1), ('yowes', 1), ('pendadaran', 1), ('jaluk', 1), ('wenehi', 1), ('pembimbing', 1), ('yhaaaa', 1), ('aziem', 1), ('paketin', 1), ('berbagi', 1), ('busuknya', 1), ('memenjarakan', 1), ('sesunguhnya', 1), ('kedok', 1), ('mengelabui', 1), ('edukasi', 1), ('nomernya', 1), ('dihub', 1), ('masasih', 1), ('gacukup', 1), ('boros', 1), ('bangetsih', 1), ('lantas', 1), ('pengatur', 1), ('keuanganpun', 1), ('beraksi', 1), ('tikus', 1), ('sungkan', 1), ('merugikan', 1), ('tenangin', 1), ('ngadem', 1), ('nongki', 1), ('bk', 1), ('balkot', 1), ('ngumpul', 1), ('pembatas', 1), ('emaknya', 1), ('selow', 1), ('treak', 1), ('dikomentarin', 1), ('terussss', 1), ('mamahnya', 1), ('buku', 1), ('unit', 1), ('merek', 1), ('lamborghini', 1), ('sound', 1), ('bass', 1), ('power', 1), ('mengoreksi', 1), ('membenarkan', 1), ('permasalahannya', 1), ('leave', 1), ('faking', 1), ('niru', 1), ('kulakukan', 1), ('humas', 1), ('kutil', 1), ('lendir', 1), ('exist', 1), ('compare', 1), ('blah', 1), ('ngelempar', 1), ('pecah', 1), ('penyakit', 1), ('pegawai', 1), ('distasiun', 1), ('parung', 1), ('cwonya', 1), ('nada', 1), ('wsrga', 1), ('senenh', 1), ('kaliqn', 1), ('jarahin', 1), ('zonasi', 1), ('terbayang', 1), ('sebentuk', 1), ('disegerakan', 1), ('pembelajaran', 1), ('kejujuran', 1), ('ngira', 1), ('plis', 1), ('highlight', 1), ('cintaan', 1), ('liter', 1), ('terlangsing', 1), ('ons', 1), ('saset', 1), ('langsing', 1), ('ajaaa', 1), ('selangit', 1), ('smentara', 1), ('entar', 1), ('keriput', 1), ('pencitraan', 1), ('hakiki', 1), ('hendaknya', 1), ('keyakinan', 1), ('kepercayaan', 1), ('segampang', 1), ('rohani', 1), ('aliran', 1), ('menjemput', 1), ('circle', 1), ('stupidity', 1), ('diurusin', 1), ('gizi', 1), ('supporter', 1), ('timnya', 1), ('what', 1), ('moron', 1), ('terlepas', 1), ('promoter', 1), ('featured', 1), ('poin', 1), ('krusial', 1), ('per', 1), ('pres', 1), ('hadweehhh', 1), ('jimat', 1), ('listriknya', 1), ('matiin', 1), ('rombongan', 1), ('kondektur', 1), ('serupa', 1), ('disampaikan', 1), ('pengecekan', 1), ('berkala', 1), ('shg', 1), ('suhu', 1), ('dicabut', 1), ('pemberi', 1), ('kesyel', 1), ('hhrrgghhhh', 1), ('kedai', 1), ('lau', 1), ('gemukan', 1), ('bray', 1), ('ngerasanya', 1), ('ngilangin', 1), ('ngemil', 1), ('makmur', 1), ('traktir', 1), ('martabak', 1), ('suek', 1), ('ynkz', 1), ('kroscek', 1), ('merchant', 1), ('mohonditindaklanjut', 1), ('sumbangan', 1), ('ngibur', 1), ('tatapan', 1), ('keliling', 1), ('lebihnya', 1), ('mal', 1), ('daging', 1), ('bakarnya', 1), ('nyadar', 1), ('jelata', 1), ('kelinci', 1), ('percobaan', 1), ('kacian', 1), ('wuuuh', 1), ('ngekos', 1), ('adie', 1), ('terburuk', 1), ('meperkeruh', 1), ('suasana', 1), ('istiqomahjokowi', 1), ('tertawalah', 1), ('penakluk', 1), ('sekelompok', 1), ('gaduh', 1), ('executive', 1), ('legislative', 1), ('diartikan', 1), ('gangu', 1), ('tercuci', 1), ('besarnya', 1), ('mengagumi', 1), ('pelaut', 1), ('pencerahannya', 1), ('lhp', 1), ('kerugian', 1), ('longsor', 1), ('search', 1), ('gogle', 1), ('btc', 1), ('ditulis', 1), ('simcard', 1), ('nano', 1), ('prepare', 1), ('paksaan', 1), ('owi', 1), ('tuker', 1), ('ps', 1), ('promo', 1), ('perawatnya', 1), ('kolab', 1), ('advice', 1), ('iyaaaa', 1), ('kuteluh', 1), ('ego', 1), ('minimal', 1), ('slamanya', 1), ('membunuh', 1), ('perlahan', 1), ('semanggi', 1), ('jagain', 1), ('busway', 1), ('segitunya', 1), ('bnrbnr', 1), ('postingannya', 1), ('simba', 1), ('netijennya', 1), ('lebai', 1), ('vianya', 1), ('cedih', 1), ('billing', 1), ('mendaftar', 1), ('bpjstk', 1), ('jamsostek', 1), ('galau', 1), ('kepoooo', 1), ('sotoyyy', 1), ('jadiin', 1), ('pangnyaho', 1), ('efeklgdatengtamu', 1), ('yallah', 1), ('scrolling', 1), ('ngelag', 1), ('kea', 1), ('explorer', 1), ('ketidakstabilan', 1), ('ntut', 1), ('hangus', 1), ('disetting', 1), ('kekeh', 1), ('kelakuanmu', 1), ('mencerminkan', 1), ('pasanganmu', 1), ('dijabar', 1), ('tlg', 1), ('seragamkan', 1), ('diseluruh', 1), ('propinsi', 1), ('kependidikan', 1), ('barkot', 1), ('piagam', 1), ('lgs', 1), ('terblok', 1), ('bajunya', 1), ('burungnya', 1), ('liar', 1), ('jinak', 1), ('koneksi', 1), ('internya', 1), ('berwarna', 1), ('adapakah', 1), ('nanyaserius', 1), ('maukerja', 1), ('beburu', 1), ('siput', 1), ('ehhh', 1), ('aisia', 1), ('peuting', 1), ('ainggg', 1), ('gunana', 1), ('naonnnnnnn', 1), ('mengenalnya', 1), ('joke', 1), ('ing', 1), ('phsyco', 1), ('terduga', 1), ('pelitnya', 1), ('pasan', 1), ('diumbar', 1), ('ojol', 1), ('entitled', 1), ('tegang', 1), ('setres', 1), ('jadiiii', 1), ('mengobati', 1), ('doloe', 1), ('mengutarakan', 1), ('aplgi', 1), ('berdakwah', 1), ('kangen', 1), ('dijawabnya', 1), ('emot', 1), ('check', 1), ('hantam', 1), ('pentir', 1), ('pensiunan', 1), ('wiraswasta', 1), ('hamburkan', 1), ('persen', 1), ('mngkin', 1), ('tengil', 1), ('sakral', 1), ('dipungkiri', 1), ('smuanya', 1), ('tabiat', 1), ('arabnya', 1), ('bahasaarab', 1), ('dijanjiin', 1), ('virgin', 1), ('masya', 1), ('naudzubillahminzaliq', 1), ('setaaan', 1), ('late', 1), ('rep', 1), ('taken', 1), ('sbl', 1), ('syuting', 1), ('prj', 1), ('klarifikasi', 1), ('mesjid', 1), ('digusur', 1), ('kissfmmedan', 1), ('mengembangkan', 1), ('jagat', 1), ('menghabiskan', 1), ('energi', 1), ('terbuang', 1), ('indah', 1), ('penceng', 1), ('gmail', 1), ('com', 1), ('dianggep', 1), ('pujian', 1), ('digoda', 1), ('menarique', 1), ('ew', 1), ('ideal', 1), ('nunjuk', 1), ('hidung', 1), ('ndaftar', 1), ('udu', 1), ('gemblung', 1), ('arane', 1), ('terkait', 1), ('penanggulangan', 1), ('diterapkan', 1), ('serakahlah', 1), ('kemanakan', 1), ('bankmandiri', 1), ('ditelp', 1), ('mino', 1), ('translate', 1), ('ono', 1), ('surprised', 1), ('samin', 1), ('statemenya', 1), ('melampui', 1), ('nggugu', 1), ('karsane', 1), ('priyonggo', 1), ('gonjak', 1), ('ganyuk', 1), ('ngelingsemi', 1), ('sheungwanie', 1), ('kepotong', 1), ('balikan', 1), ('pengobatan', 1), ('bukanlah', 1), ('zohri', 1), ('akuanggap', 1), ('zhri', 1), ('ambilah', 1), ('jilatilah', 1), ('pantatnya', 1), ('berak', 1), ('hiiiyyy', 1), ('ambilhah', 1), ('semuaa', 1), ('micha', 1), ('ditanggepin', 1), ('loss', 1), ('yours', 1), ('mang', 1), ('kosim', 1), ('ancaman', 1), ('blaming', 1), ('julit', 1), ('judgemental', 1), ('mlz', 1), ('berhijrah', 1), ('istiqomahnya', 1), ('iyee', 1), ('pahamm', 1), ('musiman', 1), ('kemane', 1), ('clubbing', 1), ('curhatanpenuh', 1), ('menyedihkan', 1), ('lucunya', 1), ('ngusung', 1), ('obyektif', 1), ('berprestasi', 1), ('penyesatan', 1), ('antrinya', 1), ('wadek', 1), ('akademik', 1), ('masyaallah', 1), ('elemen', 1), ('berurusan', 1), ('tunjukin', 1), ('barbuk', 1), ('asn', 1), ('klipingan', 1), ('magang', 1), ('ngidam', 1), ('gofood', 1), ('nitip', 1), ('kesiapapun', 1), ('teknologi', 1), ('dimanjain', 1), ('ketulungan', 1), ('selimut', 1), ('mengerikan', 1), ('diboikot', 1), ('berjaya', 1), ('celaka', 1), ('pegangan', 1), ('baaahhhh', 1), ('berbondong', 1), ('menyerbu', 1), ('mengata', 1), ('ngatai', 1), ('aatu', 1), ('ditayangin', 1), ('ngajuin', 1), ('formuli', 1), ('hijab', 1), ('berpakian', 1), ('gay', 1), ('seksi', 1), ('deserved', 1), ('sexually', 1), ('harrased', 1), ('deeemmm', 1), ('helaaaawww', 1), ('revisi', 1), ('bab', 1), ('dipermasalahin', 1), ('penguji', 1), ('informanya', 1), ('hubungin', 1), ('sndr', 1), ('kompetible', 1), ('banking', 1), ('site', 1), ('handphone', 1), ('tombol', 1), ('terkirim', 1), ('haru', 1), ('patriarki', 1), ('saudari', 1), ('gita', 1), ('sane', 1), ('young', 1), ('year', 1), ('nii', 1), ('joachim', 1), ('sholatlu', 1), ('tersimpan', 1), ('rapi', 1), ('almari', 1), ('uangmu', 1), ('sedekah', 1), ('attitudenya', 1), ('tertawa', 1), ('mengulanginya', 1), ('brengseknya', 1), ('astaghfirullah', 1), ('istighfar', 1), ('marahin', 1), ('refer', 1), ('bitch', 1), ('said', 1), ('asking', 1), ('again', 1), ('copy', 1), ('paste', 1), ('bolt', 1), ('yuk', 1), ('panggilan', 1), ('darurat', 1), ('mh', 1), ('pke', 1), ('ujungn', 1), ('dikantorku', 1), ('office', 1), ('boy', 1), ('inggrisnya', 1), ('rupanya', 1), ('inovasi', 1), ('hanying', 1), ('mentri', 1), ('penangan', 1), ('efektif', 1), ('rancang', 1), ('slma', 1), ('kue', 1), ('capil', 1), ('belun', 1), ('maleen', 1), ('rejimpanik', 1), ('bacok', 1), ('kalbar', 1), ('penindakan', 1), ('berwenang', 1), ('chesecake', 1), ('factory', 1), ('lalalayeyeyeye', 1), ('terbengkalai', 1), ('lulusan', 1), ('penghasilannya', 1), ('penari', 1), ('dontdateadancer', 1)]\n"
     ]
    }
   ],
   "source": [
    "top_words = fdist.most_common()\n",
    "print(top_words)"
   ]
  },
  {
   "cell_type": "code",
   "execution_count": 33,
   "id": "2df336f6",
   "metadata": {
    "scrolled": false
   },
   "outputs": [
    {
     "name": "stdout",
     "output_type": "stream",
     "text": [
      "    nan    yang   tidak      di     dan     aku   sudah   kalau    saja     itu      ya    saya   orang     ini     ada    kamu   masih    sama     mau     nya    tapi    bisa    juga    jadi     dia    lagi   hanya     apa  dengan      ke    dari  karena  jangan     kok  memang   terus     sih    lain    tahu   untuk     kan  begitu    buat seperti    atau  sampai  bahkan    kita    anda   harus \n",
      "   1207     881     748     500     436     382     348     339     332     294     287     284     282     280     277     271     253     238     228     213     209     185     178     164     161     157     151     150     149     147     141     121     117     111     106     106     105     104     100     100      97      96      96      95      94      93      92      91      90      89 \n",
      "None\n"
     ]
    }
   ],
   "source": [
    "print(fdist.tabulate(50))"
   ]
  },
  {
   "cell_type": "code",
   "execution_count": 34,
   "id": "32b0b7a0",
   "metadata": {},
   "outputs": [
    {
     "name": "stdout",
     "output_type": "stream",
     "text": [
      "kata frek tertinggi  nan  =  1207\n"
     ]
    }
   ],
   "source": [
    "print(\"kata frek tertinggi \", fdist.max(),\" = \", fdist[fdist.max()])"
   ]
  },
  {
   "cell_type": "code",
   "execution_count": 35,
   "id": "1df8638d",
   "metadata": {},
   "outputs": [
    {
     "data": {
      "image/png": "[encoded data removed]",
      "text/plain": [
       "<Figure size 432x288 with 1 Axes>"
      ]
     },
     "metadata": {
      "needs_background": "light"
     },
     "output_type": "display_data"
    },
    {
     "data": {
      "text/plain": [
       "<AxesSubplot:xlabel='Samples', ylabel='Counts'>"
      ]
     },
     "execution_count": 35,
     "metadata": {},
     "output_type": "execute_result"
    }
   ],
   "source": [
    "fdist.plot(40,cumulative=False)"
   ]
  }
 ],
 "metadata": {
  "kernelspec": {
   "display_name": "Python 3",
   "language": "python",
   "name": "python3"
  },
  "language_info": {
   "codemirror_mode": {
    "name": "ipython",
    "version": 3
   },
   "file_extension": ".py",
   "mimetype": "text/x-python",
   "name": "python",
   "nbconvert_exporter": "python",
   "pygments_lexer": "ipython3",
   "version": "3.8.8"
  }
 },
 "nbformat": 4,
 "nbformat_minor": 5
}
